{
  "nbformat": 4,
  "nbformat_minor": 0,
  "metadata": {
    "colab": {
      "provenance": [],
      "gpuType": "T4"
    },
    "kernelspec": {
      "display_name": "Python 3",
      "name": "python3"
    },
    "language_info": {
      "codemirror_mode": {
        "name": "ipython",
        "version": 3
      },
      "file_extension": ".py",
      "mimetype": "text/x-python",
      "name": "python",
      "nbconvert_exporter": "python",
      "pygments_lexer": "ipython3",
      "version": "3.6.4"
    },
    "accelerator": "GPU"
  },
  "cells": [
    {
      "cell_type": "code",
      "source": [
        "#!pip install pymorphy2"
      ],
      "metadata": {
        "id": "iVpP6qKIpoj0"
      },
      "execution_count": 1,
      "outputs": []
    },
    {
      "cell_type": "code",
      "source": [
        "# !pip install mlflow"
      ],
      "metadata": {
        "id": "8zzUN1pyiNAB"
      },
      "execution_count": 2,
      "outputs": []
    },
    {
      "cell_type": "code",
      "source": [
        "# !pip install transformers"
      ],
      "metadata": {
        "id": "rEw8PdjsmcY7"
      },
      "execution_count": 3,
      "outputs": []
    },
    {
      "cell_type": "markdown",
      "source": [
        "# Project description: NLP task with RuBERT and LoRA for RuCoLa\n",
        "In this project the goal was to fine-tune the RuBERT model for the RuCoLa task, a binary classification task predicting cognitive load in Russian texts. The model was evaluated using accuracy and MCC metrics. Additionally, LoRA was applied to the model to optimize training and reduce the number of trainable parameters.\n",
        "\n",
        "\n",
        "###Input:\n",
        "\n",
        "in_domain_train.csv: Training dataset with labeled text samples.\n",
        "\n",
        "in_domain_dev.csv: Evaluation dataset for testing the model's performance.\n",
        "\n",
        "###Output:\n",
        "\n",
        "The model predicts the cognitive load class for each text.\n",
        "\n",
        "###Approach:\n",
        "\n",
        "Fine-tuning the RuBERT model using the DeepPavlov/rubert-base-cased version, augmented with LoRA for parameter efficiency. LoRA was used to reduce the number of trainable parameters by applying low-rank updates to certain layers.\n",
        "\n",
        "##Model Description.\n",
        "The model utilized:\n",
        "\n",
        "RuBERT: Pretrained BERT model for the Russian language.\n",
        "\n",
        "LoRA: A technique applied to reduce training time and model size by applying low-rank updates to the attention layers. The LoraConfig was configured with r=16, lora_alpha=32, and lora_dropout=0.2.\n",
        "\n",
        "###Steps:\n",
        "\n",
        "1) Data Preprocessing: text was cleaned, lemmatized, and augmented using synonym replacement. Additional features like sentence length and punctuation count were also generated.\n",
        "\n",
        "2) LoRA Integration: LoRA was applied to the pretrained RuBERT model to make the training process more efficient by adapting low-rank matrices in specific transformer layers. This resulted in a more compact model with fewer trainable parameters.\n",
        "\n",
        "3) Training: the model was trained with class weights to handle class imbalance and used a weighted CrossEntropyLoss. A learning rate scheduler was implemented for optimal training performance.\n",
        "\n",
        "##Data Analysis\n",
        "Basic statistics were calculated, including class distribution, average sentence length, and the number of unique words in the dataset.\n",
        "\n",
        "##Model Training\n",
        "The model was fine-tuned with LoRA, and training was conducted for 60 epochs using CrossEntropyLoss with class weights. The model was deployed on a GPU for faster computation. During training, model were logged for each epoch.\n",
        "\n",
        "##Results\n",
        "The model was evaluated on in_domain_dev.csv using accuracy and MCC. LoRA helped achieve efficient training while maintaining high performance.\n",
        "\n",
        "##Model logging with MLflow\n",
        "\n",
        "The model was logged for each epoch.\n",
        "\n",
        "Also at the end of the project model performance and configuration were logged using MLflow.\n",
        "\n",
        "This included:\n",
        "\n",
        "Logging LoRA configuration parameters.\n",
        "\n",
        "Recording key model metrics such as accuracy and MCC.\n"
      ],
      "metadata": {
        "id": "ZCnQLcu6pzi1"
      }
    },
    {
      "cell_type": "markdown",
      "source": [
        "\n",
        "To complete the task, I used code examples from the [BERT Fine-Tuning Tutorial with PyTorch](https://mccormickml.com/2019/07/22/BERT-fine-tuning/) article\n",
        "\n",
        "## 1. Data analysis\n",
        "\n",
        "\n",
        "### 1.1  Downloading the data"
      ],
      "metadata": {
        "id": "8fqsfGq_Cbz6"
      }
    },
    {
      "cell_type": "code",
      "source": [
        "import torch\n",
        "\n",
        "if torch.cuda.is_available():\n",
        "\n",
        "    device = torch.device(\"cuda\")\n",
        "\n",
        "    print('There are %d GPU(s) available.' % torch.cuda.device_count())\n",
        "    print('We will use the GPU:', torch.cuda.get_device_name(0))\n",
        "\n",
        "else:\n",
        "    print('No GPU available, using the CPU instead.')\n",
        "    device = torch.device(\"cpu\")"
      ],
      "metadata": {
        "colab": {
          "base_uri": "https://localhost:8080/"
        },
        "id": "JB0l1947Ypg8",
        "outputId": "717605e9-eea9-44c1-cd39-00bed6e37389"
      },
      "execution_count": 4,
      "outputs": [
        {
          "output_type": "stream",
          "name": "stdout",
          "text": [
            "There are 1 GPU(s) available.\n",
            "We will use the GPU: Tesla T4\n"
          ]
        }
      ]
    },
    {
      "cell_type": "code",
      "source": [
        "import pandas as pd\n",
        "import numpy as np\n",
        "import matplotlib.pyplot as plt\n",
        "from sklearn.model_selection import train_test_split\n",
        "\n",
        "# Loading the data\n",
        "train_data = pd.read_csv('in_domain_train.csv')\n",
        "dev_data = pd.read_csv('in_domain_dev.csv')\n",
        "\n",
        "train_data.head()"
      ],
      "metadata": {
        "colab": {
          "base_uri": "https://localhost:8080/",
          "height": 206
        },
        "id": "vvaIDKDqC9W9",
        "outputId": "67e4734e-de0c-400f-a7a1-71e056e501d1"
      },
      "execution_count": 5,
      "outputs": [
        {
          "output_type": "execute_result",
          "data": {
            "text/plain": [
              "   id                                           sentence  acceptable  \\\n",
              "0   0  Вдруг решетка беззвучно поехала в сторону, и н...           1   \n",
              "1   1                       Этим летом не никуда ездили.           0   \n",
              "2   2  Только Иван выразил какую бы то ни было готовн...           1   \n",
              "3   3  Теперь ты видишь собственными глазами, как тут...           1   \n",
              "4   4    На поверку вся теория оказалась полной чепухой.           1   \n",
              "\n",
              "  error_type detailed_source  \n",
              "0          0   Paducheva2004  \n",
              "1     Syntax         Rusgram  \n",
              "2          0   Paducheva2013  \n",
              "3          0   Paducheva2010  \n",
              "4          0   Paducheva2010  "
            ],
            "text/html": [
              "\n",
              "  <div id=\"df-fd457511-89e4-4793-9f1b-08e0e1354814\" class=\"colab-df-container\">\n",
              "    <div>\n",
              "<style scoped>\n",
              "    .dataframe tbody tr th:only-of-type {\n",
              "        vertical-align: middle;\n",
              "    }\n",
              "\n",
              "    .dataframe tbody tr th {\n",
              "        vertical-align: top;\n",
              "    }\n",
              "\n",
              "    .dataframe thead th {\n",
              "        text-align: right;\n",
              "    }\n",
              "</style>\n",
              "<table border=\"1\" class=\"dataframe\">\n",
              "  <thead>\n",
              "    <tr style=\"text-align: right;\">\n",
              "      <th></th>\n",
              "      <th>id</th>\n",
              "      <th>sentence</th>\n",
              "      <th>acceptable</th>\n",
              "      <th>error_type</th>\n",
              "      <th>detailed_source</th>\n",
              "    </tr>\n",
              "  </thead>\n",
              "  <tbody>\n",
              "    <tr>\n",
              "      <th>0</th>\n",
              "      <td>0</td>\n",
              "      <td>Вдруг решетка беззвучно поехала в сторону, и н...</td>\n",
              "      <td>1</td>\n",
              "      <td>0</td>\n",
              "      <td>Paducheva2004</td>\n",
              "    </tr>\n",
              "    <tr>\n",
              "      <th>1</th>\n",
              "      <td>1</td>\n",
              "      <td>Этим летом не никуда ездили.</td>\n",
              "      <td>0</td>\n",
              "      <td>Syntax</td>\n",
              "      <td>Rusgram</td>\n",
              "    </tr>\n",
              "    <tr>\n",
              "      <th>2</th>\n",
              "      <td>2</td>\n",
              "      <td>Только Иван выразил какую бы то ни было готовн...</td>\n",
              "      <td>1</td>\n",
              "      <td>0</td>\n",
              "      <td>Paducheva2013</td>\n",
              "    </tr>\n",
              "    <tr>\n",
              "      <th>3</th>\n",
              "      <td>3</td>\n",
              "      <td>Теперь ты видишь собственными глазами, как тут...</td>\n",
              "      <td>1</td>\n",
              "      <td>0</td>\n",
              "      <td>Paducheva2010</td>\n",
              "    </tr>\n",
              "    <tr>\n",
              "      <th>4</th>\n",
              "      <td>4</td>\n",
              "      <td>На поверку вся теория оказалась полной чепухой.</td>\n",
              "      <td>1</td>\n",
              "      <td>0</td>\n",
              "      <td>Paducheva2010</td>\n",
              "    </tr>\n",
              "  </tbody>\n",
              "</table>\n",
              "</div>\n",
              "    <div class=\"colab-df-buttons\">\n",
              "\n",
              "  <div class=\"colab-df-container\">\n",
              "    <button class=\"colab-df-convert\" onclick=\"convertToInteractive('df-fd457511-89e4-4793-9f1b-08e0e1354814')\"\n",
              "            title=\"Convert this dataframe to an interactive table.\"\n",
              "            style=\"display:none;\">\n",
              "\n",
              "  <svg xmlns=\"http://www.w3.org/2000/svg\" height=\"24px\" viewBox=\"0 -960 960 960\">\n",
              "    <path d=\"M120-120v-720h720v720H120Zm60-500h600v-160H180v160Zm220 220h160v-160H400v160Zm0 220h160v-160H400v160ZM180-400h160v-160H180v160Zm440 0h160v-160H620v160ZM180-180h160v-160H180v160Zm440 0h160v-160H620v160Z\"/>\n",
              "  </svg>\n",
              "    </button>\n",
              "\n",
              "  <style>\n",
              "    .colab-df-container {\n",
              "      display:flex;\n",
              "      gap: 12px;\n",
              "    }\n",
              "\n",
              "    .colab-df-convert {\n",
              "      background-color: #E8F0FE;\n",
              "      border: none;\n",
              "      border-radius: 50%;\n",
              "      cursor: pointer;\n",
              "      display: none;\n",
              "      fill: #1967D2;\n",
              "      height: 32px;\n",
              "      padding: 0 0 0 0;\n",
              "      width: 32px;\n",
              "    }\n",
              "\n",
              "    .colab-df-convert:hover {\n",
              "      background-color: #E2EBFA;\n",
              "      box-shadow: 0px 1px 2px rgba(60, 64, 67, 0.3), 0px 1px 3px 1px rgba(60, 64, 67, 0.15);\n",
              "      fill: #174EA6;\n",
              "    }\n",
              "\n",
              "    .colab-df-buttons div {\n",
              "      margin-bottom: 4px;\n",
              "    }\n",
              "\n",
              "    [theme=dark] .colab-df-convert {\n",
              "      background-color: #3B4455;\n",
              "      fill: #D2E3FC;\n",
              "    }\n",
              "\n",
              "    [theme=dark] .colab-df-convert:hover {\n",
              "      background-color: #434B5C;\n",
              "      box-shadow: 0px 1px 3px 1px rgba(0, 0, 0, 0.15);\n",
              "      filter: drop-shadow(0px 1px 2px rgba(0, 0, 0, 0.3));\n",
              "      fill: #FFFFFF;\n",
              "    }\n",
              "  </style>\n",
              "\n",
              "    <script>\n",
              "      const buttonEl =\n",
              "        document.querySelector('#df-fd457511-89e4-4793-9f1b-08e0e1354814 button.colab-df-convert');\n",
              "      buttonEl.style.display =\n",
              "        google.colab.kernel.accessAllowed ? 'block' : 'none';\n",
              "\n",
              "      async function convertToInteractive(key) {\n",
              "        const element = document.querySelector('#df-fd457511-89e4-4793-9f1b-08e0e1354814');\n",
              "        const dataTable =\n",
              "          await google.colab.kernel.invokeFunction('convertToInteractive',\n",
              "                                                    [key], {});\n",
              "        if (!dataTable) return;\n",
              "\n",
              "        const docLinkHtml = 'Like what you see? Visit the ' +\n",
              "          '<a target=\"_blank\" href=https://colab.research.google.com/notebooks/data_table.ipynb>data table notebook</a>'\n",
              "          + ' to learn more about interactive tables.';\n",
              "        element.innerHTML = '';\n",
              "        dataTable['output_type'] = 'display_data';\n",
              "        await google.colab.output.renderOutput(dataTable, element);\n",
              "        const docLink = document.createElement('div');\n",
              "        docLink.innerHTML = docLinkHtml;\n",
              "        element.appendChild(docLink);\n",
              "      }\n",
              "    </script>\n",
              "  </div>\n",
              "\n",
              "\n",
              "<div id=\"df-f7095242-65f4-413c-93de-d64be128cb63\">\n",
              "  <button class=\"colab-df-quickchart\" onclick=\"quickchart('df-f7095242-65f4-413c-93de-d64be128cb63')\"\n",
              "            title=\"Suggest charts\"\n",
              "            style=\"display:none;\">\n",
              "\n",
              "<svg xmlns=\"http://www.w3.org/2000/svg\" height=\"24px\"viewBox=\"0 0 24 24\"\n",
              "     width=\"24px\">\n",
              "    <g>\n",
              "        <path d=\"M19 3H5c-1.1 0-2 .9-2 2v14c0 1.1.9 2 2 2h14c1.1 0 2-.9 2-2V5c0-1.1-.9-2-2-2zM9 17H7v-7h2v7zm4 0h-2V7h2v10zm4 0h-2v-4h2v4z\"/>\n",
              "    </g>\n",
              "</svg>\n",
              "  </button>\n",
              "\n",
              "<style>\n",
              "  .colab-df-quickchart {\n",
              "      --bg-color: #E8F0FE;\n",
              "      --fill-color: #1967D2;\n",
              "      --hover-bg-color: #E2EBFA;\n",
              "      --hover-fill-color: #174EA6;\n",
              "      --disabled-fill-color: #AAA;\n",
              "      --disabled-bg-color: #DDD;\n",
              "  }\n",
              "\n",
              "  [theme=dark] .colab-df-quickchart {\n",
              "      --bg-color: #3B4455;\n",
              "      --fill-color: #D2E3FC;\n",
              "      --hover-bg-color: #434B5C;\n",
              "      --hover-fill-color: #FFFFFF;\n",
              "      --disabled-bg-color: #3B4455;\n",
              "      --disabled-fill-color: #666;\n",
              "  }\n",
              "\n",
              "  .colab-df-quickchart {\n",
              "    background-color: var(--bg-color);\n",
              "    border: none;\n",
              "    border-radius: 50%;\n",
              "    cursor: pointer;\n",
              "    display: none;\n",
              "    fill: var(--fill-color);\n",
              "    height: 32px;\n",
              "    padding: 0;\n",
              "    width: 32px;\n",
              "  }\n",
              "\n",
              "  .colab-df-quickchart:hover {\n",
              "    background-color: var(--hover-bg-color);\n",
              "    box-shadow: 0 1px 2px rgba(60, 64, 67, 0.3), 0 1px 3px 1px rgba(60, 64, 67, 0.15);\n",
              "    fill: var(--button-hover-fill-color);\n",
              "  }\n",
              "\n",
              "  .colab-df-quickchart-complete:disabled,\n",
              "  .colab-df-quickchart-complete:disabled:hover {\n",
              "    background-color: var(--disabled-bg-color);\n",
              "    fill: var(--disabled-fill-color);\n",
              "    box-shadow: none;\n",
              "  }\n",
              "\n",
              "  .colab-df-spinner {\n",
              "    border: 2px solid var(--fill-color);\n",
              "    border-color: transparent;\n",
              "    border-bottom-color: var(--fill-color);\n",
              "    animation:\n",
              "      spin 1s steps(1) infinite;\n",
              "  }\n",
              "\n",
              "  @keyframes spin {\n",
              "    0% {\n",
              "      border-color: transparent;\n",
              "      border-bottom-color: var(--fill-color);\n",
              "      border-left-color: var(--fill-color);\n",
              "    }\n",
              "    20% {\n",
              "      border-color: transparent;\n",
              "      border-left-color: var(--fill-color);\n",
              "      border-top-color: var(--fill-color);\n",
              "    }\n",
              "    30% {\n",
              "      border-color: transparent;\n",
              "      border-left-color: var(--fill-color);\n",
              "      border-top-color: var(--fill-color);\n",
              "      border-right-color: var(--fill-color);\n",
              "    }\n",
              "    40% {\n",
              "      border-color: transparent;\n",
              "      border-right-color: var(--fill-color);\n",
              "      border-top-color: var(--fill-color);\n",
              "    }\n",
              "    60% {\n",
              "      border-color: transparent;\n",
              "      border-right-color: var(--fill-color);\n",
              "    }\n",
              "    80% {\n",
              "      border-color: transparent;\n",
              "      border-right-color: var(--fill-color);\n",
              "      border-bottom-color: var(--fill-color);\n",
              "    }\n",
              "    90% {\n",
              "      border-color: transparent;\n",
              "      border-bottom-color: var(--fill-color);\n",
              "    }\n",
              "  }\n",
              "</style>\n",
              "\n",
              "  <script>\n",
              "    async function quickchart(key) {\n",
              "      const quickchartButtonEl =\n",
              "        document.querySelector('#' + key + ' button');\n",
              "      quickchartButtonEl.disabled = true;  // To prevent multiple clicks.\n",
              "      quickchartButtonEl.classList.add('colab-df-spinner');\n",
              "      try {\n",
              "        const charts = await google.colab.kernel.invokeFunction(\n",
              "            'suggestCharts', [key], {});\n",
              "      } catch (error) {\n",
              "        console.error('Error during call to suggestCharts:', error);\n",
              "      }\n",
              "      quickchartButtonEl.classList.remove('colab-df-spinner');\n",
              "      quickchartButtonEl.classList.add('colab-df-quickchart-complete');\n",
              "    }\n",
              "    (() => {\n",
              "      let quickchartButtonEl =\n",
              "        document.querySelector('#df-f7095242-65f4-413c-93de-d64be128cb63 button');\n",
              "      quickchartButtonEl.style.display =\n",
              "        google.colab.kernel.accessAllowed ? 'block' : 'none';\n",
              "    })();\n",
              "  </script>\n",
              "</div>\n",
              "    </div>\n",
              "  </div>\n"
            ],
            "application/vnd.google.colaboratory.intrinsic+json": {
              "type": "dataframe",
              "variable_name": "train_data",
              "summary": "{\n  \"name\": \"train_data\",\n  \"rows\": 7869,\n  \"fields\": [\n    {\n      \"column\": \"id\",\n      \"properties\": {\n        \"dtype\": \"number\",\n        \"std\": 2271,\n        \"min\": 0,\n        \"max\": 7868,\n        \"num_unique_values\": 7869,\n        \"samples\": [\n          7794,\n          503,\n          6496\n        ],\n        \"semantic_type\": \"\",\n        \"description\": \"\"\n      }\n    },\n    {\n      \"column\": \"sentence\",\n      \"properties\": {\n        \"dtype\": \"string\",\n        \"num_unique_values\": 7869,\n        \"samples\": [\n          \"\\u0412 \\u0411\\u0435\\u043b\\u043e\\u0440\\u0443\\u0441\\u0441\\u0438\\u0438 \\u043b\\u0438\\u0431\\u0435\\u0440\\u0430\\u043b\\u044c\\u043d\\u044b\\u0435 \\u0433\\u0430\\u0437\\u0435\\u0442\\u044b \\u043d\\u0435 \\u043e\\u0441\\u0442\\u0430\\u043b\\u0438\\u0441\\u044c.\",\n          \"\\u0418\\u0432\\u0430\\u043d \\u0445\\u043e\\u0447\\u0435\\u0442, \\u0447\\u0442\\u043e\\u0431\\u044b \\u041f\\u0435\\u0442\\u0440 \\u043f\\u0440\\u0438\\u0433\\u043b\\u0430\\u0441\\u0438\\u043b \\u0435\\u0433\\u043e \\u043a \\u0441\\u0435\\u0431\\u0435.\",\n          \"\\u0414\\u0443\\u0431\\u0440\\u043e\\u0432\\u0441\\u043a\\u0438\\u0439 \\u043d\\u0430\\u0437\\u043d\\u0430\\u0447\\u0438\\u043b \\u041a\\u0438\\u0441\\u0442\\u0435\\u043d\\u0435\\u0432\\u0441\\u043a\\u0443\\u044e \\u0440\\u043e\\u0449\\u0443 \\u043c\\u0435\\u0441\\u0442\\u043e\\u043c \\u0441\\u0432\\u0438\\u0434\\u0430\\u043d\\u044c\\u044f.\"\n        ],\n        \"semantic_type\": \"\",\n        \"description\": \"\"\n      }\n    },\n    {\n      \"column\": \"acceptable\",\n      \"properties\": {\n        \"dtype\": \"number\",\n        \"std\": 0,\n        \"min\": 0,\n        \"max\": 1,\n        \"num_unique_values\": 2,\n        \"samples\": [\n          0,\n          1\n        ],\n        \"semantic_type\": \"\",\n        \"description\": \"\"\n      }\n    },\n    {\n      \"column\": \"error_type\",\n      \"properties\": {\n        \"dtype\": \"category\",\n        \"num_unique_values\": 4,\n        \"samples\": [\n          \"Syntax\",\n          \"Morphology\"\n        ],\n        \"semantic_type\": \"\",\n        \"description\": \"\"\n      }\n    },\n    {\n      \"column\": \"detailed_source\",\n      \"properties\": {\n        \"dtype\": \"category\",\n        \"num_unique_values\": 11,\n        \"samples\": [\n          \"Testelets\",\n          \"Paducheva2004\"\n        ],\n        \"semantic_type\": \"\",\n        \"description\": \"\"\n      }\n    }\n  ]\n}"
            }
          },
          "metadata": {},
          "execution_count": 5
        }
      ]
    },
    {
      "cell_type": "code",
      "source": [
        "dev_data.head()"
      ],
      "metadata": {
        "colab": {
          "base_uri": "https://localhost:8080/",
          "height": 206
        },
        "id": "IAY_JLyHC_Xr",
        "outputId": "8665df93-63a3-4ff3-d111-d27bfb95f0c1"
      },
      "execution_count": 6,
      "outputs": [
        {
          "output_type": "execute_result",
          "data": {
            "text/plain": [
              "   id                                           sentence  acceptable  \\\n",
              "0   0                            Иван вчера не позвонил.           1   \n",
              "1   1  У многих туристов, кто посещают Кемер весной, ...           0   \n",
              "2   2  Лесные запахи набегали волнами; в них смешалос...           1   \n",
              "3   3  Вчера президент имел неофициальную беседу с ан...           1   \n",
              "4   4  Коллега так и не признал вину за катастрофу пе...           1   \n",
              "\n",
              "  error_type detailed_source  \n",
              "0          0   Paducheva2013  \n",
              "1     Syntax            USE8  \n",
              "2          0            USE5  \n",
              "3          0    Seliverstova  \n",
              "4          0       Testelets  "
            ],
            "text/html": [
              "\n",
              "  <div id=\"df-24d04c6c-c329-4dfb-ac79-8b943d6492da\" class=\"colab-df-container\">\n",
              "    <div>\n",
              "<style scoped>\n",
              "    .dataframe tbody tr th:only-of-type {\n",
              "        vertical-align: middle;\n",
              "    }\n",
              "\n",
              "    .dataframe tbody tr th {\n",
              "        vertical-align: top;\n",
              "    }\n",
              "\n",
              "    .dataframe thead th {\n",
              "        text-align: right;\n",
              "    }\n",
              "</style>\n",
              "<table border=\"1\" class=\"dataframe\">\n",
              "  <thead>\n",
              "    <tr style=\"text-align: right;\">\n",
              "      <th></th>\n",
              "      <th>id</th>\n",
              "      <th>sentence</th>\n",
              "      <th>acceptable</th>\n",
              "      <th>error_type</th>\n",
              "      <th>detailed_source</th>\n",
              "    </tr>\n",
              "  </thead>\n",
              "  <tbody>\n",
              "    <tr>\n",
              "      <th>0</th>\n",
              "      <td>0</td>\n",
              "      <td>Иван вчера не позвонил.</td>\n",
              "      <td>1</td>\n",
              "      <td>0</td>\n",
              "      <td>Paducheva2013</td>\n",
              "    </tr>\n",
              "    <tr>\n",
              "      <th>1</th>\n",
              "      <td>1</td>\n",
              "      <td>У многих туристов, кто посещают Кемер весной, ...</td>\n",
              "      <td>0</td>\n",
              "      <td>Syntax</td>\n",
              "      <td>USE8</td>\n",
              "    </tr>\n",
              "    <tr>\n",
              "      <th>2</th>\n",
              "      <td>2</td>\n",
              "      <td>Лесные запахи набегали волнами; в них смешалос...</td>\n",
              "      <td>1</td>\n",
              "      <td>0</td>\n",
              "      <td>USE5</td>\n",
              "    </tr>\n",
              "    <tr>\n",
              "      <th>3</th>\n",
              "      <td>3</td>\n",
              "      <td>Вчера президент имел неофициальную беседу с ан...</td>\n",
              "      <td>1</td>\n",
              "      <td>0</td>\n",
              "      <td>Seliverstova</td>\n",
              "    </tr>\n",
              "    <tr>\n",
              "      <th>4</th>\n",
              "      <td>4</td>\n",
              "      <td>Коллега так и не признал вину за катастрофу пе...</td>\n",
              "      <td>1</td>\n",
              "      <td>0</td>\n",
              "      <td>Testelets</td>\n",
              "    </tr>\n",
              "  </tbody>\n",
              "</table>\n",
              "</div>\n",
              "    <div class=\"colab-df-buttons\">\n",
              "\n",
              "  <div class=\"colab-df-container\">\n",
              "    <button class=\"colab-df-convert\" onclick=\"convertToInteractive('df-24d04c6c-c329-4dfb-ac79-8b943d6492da')\"\n",
              "            title=\"Convert this dataframe to an interactive table.\"\n",
              "            style=\"display:none;\">\n",
              "\n",
              "  <svg xmlns=\"http://www.w3.org/2000/svg\" height=\"24px\" viewBox=\"0 -960 960 960\">\n",
              "    <path d=\"M120-120v-720h720v720H120Zm60-500h600v-160H180v160Zm220 220h160v-160H400v160Zm0 220h160v-160H400v160ZM180-400h160v-160H180v160Zm440 0h160v-160H620v160ZM180-180h160v-160H180v160Zm440 0h160v-160H620v160Z\"/>\n",
              "  </svg>\n",
              "    </button>\n",
              "\n",
              "  <style>\n",
              "    .colab-df-container {\n",
              "      display:flex;\n",
              "      gap: 12px;\n",
              "    }\n",
              "\n",
              "    .colab-df-convert {\n",
              "      background-color: #E8F0FE;\n",
              "      border: none;\n",
              "      border-radius: 50%;\n",
              "      cursor: pointer;\n",
              "      display: none;\n",
              "      fill: #1967D2;\n",
              "      height: 32px;\n",
              "      padding: 0 0 0 0;\n",
              "      width: 32px;\n",
              "    }\n",
              "\n",
              "    .colab-df-convert:hover {\n",
              "      background-color: #E2EBFA;\n",
              "      box-shadow: 0px 1px 2px rgba(60, 64, 67, 0.3), 0px 1px 3px 1px rgba(60, 64, 67, 0.15);\n",
              "      fill: #174EA6;\n",
              "    }\n",
              "\n",
              "    .colab-df-buttons div {\n",
              "      margin-bottom: 4px;\n",
              "    }\n",
              "\n",
              "    [theme=dark] .colab-df-convert {\n",
              "      background-color: #3B4455;\n",
              "      fill: #D2E3FC;\n",
              "    }\n",
              "\n",
              "    [theme=dark] .colab-df-convert:hover {\n",
              "      background-color: #434B5C;\n",
              "      box-shadow: 0px 1px 3px 1px rgba(0, 0, 0, 0.15);\n",
              "      filter: drop-shadow(0px 1px 2px rgba(0, 0, 0, 0.3));\n",
              "      fill: #FFFFFF;\n",
              "    }\n",
              "  </style>\n",
              "\n",
              "    <script>\n",
              "      const buttonEl =\n",
              "        document.querySelector('#df-24d04c6c-c329-4dfb-ac79-8b943d6492da button.colab-df-convert');\n",
              "      buttonEl.style.display =\n",
              "        google.colab.kernel.accessAllowed ? 'block' : 'none';\n",
              "\n",
              "      async function convertToInteractive(key) {\n",
              "        const element = document.querySelector('#df-24d04c6c-c329-4dfb-ac79-8b943d6492da');\n",
              "        const dataTable =\n",
              "          await google.colab.kernel.invokeFunction('convertToInteractive',\n",
              "                                                    [key], {});\n",
              "        if (!dataTable) return;\n",
              "\n",
              "        const docLinkHtml = 'Like what you see? Visit the ' +\n",
              "          '<a target=\"_blank\" href=https://colab.research.google.com/notebooks/data_table.ipynb>data table notebook</a>'\n",
              "          + ' to learn more about interactive tables.';\n",
              "        element.innerHTML = '';\n",
              "        dataTable['output_type'] = 'display_data';\n",
              "        await google.colab.output.renderOutput(dataTable, element);\n",
              "        const docLink = document.createElement('div');\n",
              "        docLink.innerHTML = docLinkHtml;\n",
              "        element.appendChild(docLink);\n",
              "      }\n",
              "    </script>\n",
              "  </div>\n",
              "\n",
              "\n",
              "<div id=\"df-b4a0a961-4c2f-49f9-b646-f1e2122d2c0c\">\n",
              "  <button class=\"colab-df-quickchart\" onclick=\"quickchart('df-b4a0a961-4c2f-49f9-b646-f1e2122d2c0c')\"\n",
              "            title=\"Suggest charts\"\n",
              "            style=\"display:none;\">\n",
              "\n",
              "<svg xmlns=\"http://www.w3.org/2000/svg\" height=\"24px\"viewBox=\"0 0 24 24\"\n",
              "     width=\"24px\">\n",
              "    <g>\n",
              "        <path d=\"M19 3H5c-1.1 0-2 .9-2 2v14c0 1.1.9 2 2 2h14c1.1 0 2-.9 2-2V5c0-1.1-.9-2-2-2zM9 17H7v-7h2v7zm4 0h-2V7h2v10zm4 0h-2v-4h2v4z\"/>\n",
              "    </g>\n",
              "</svg>\n",
              "  </button>\n",
              "\n",
              "<style>\n",
              "  .colab-df-quickchart {\n",
              "      --bg-color: #E8F0FE;\n",
              "      --fill-color: #1967D2;\n",
              "      --hover-bg-color: #E2EBFA;\n",
              "      --hover-fill-color: #174EA6;\n",
              "      --disabled-fill-color: #AAA;\n",
              "      --disabled-bg-color: #DDD;\n",
              "  }\n",
              "\n",
              "  [theme=dark] .colab-df-quickchart {\n",
              "      --bg-color: #3B4455;\n",
              "      --fill-color: #D2E3FC;\n",
              "      --hover-bg-color: #434B5C;\n",
              "      --hover-fill-color: #FFFFFF;\n",
              "      --disabled-bg-color: #3B4455;\n",
              "      --disabled-fill-color: #666;\n",
              "  }\n",
              "\n",
              "  .colab-df-quickchart {\n",
              "    background-color: var(--bg-color);\n",
              "    border: none;\n",
              "    border-radius: 50%;\n",
              "    cursor: pointer;\n",
              "    display: none;\n",
              "    fill: var(--fill-color);\n",
              "    height: 32px;\n",
              "    padding: 0;\n",
              "    width: 32px;\n",
              "  }\n",
              "\n",
              "  .colab-df-quickchart:hover {\n",
              "    background-color: var(--hover-bg-color);\n",
              "    box-shadow: 0 1px 2px rgba(60, 64, 67, 0.3), 0 1px 3px 1px rgba(60, 64, 67, 0.15);\n",
              "    fill: var(--button-hover-fill-color);\n",
              "  }\n",
              "\n",
              "  .colab-df-quickchart-complete:disabled,\n",
              "  .colab-df-quickchart-complete:disabled:hover {\n",
              "    background-color: var(--disabled-bg-color);\n",
              "    fill: var(--disabled-fill-color);\n",
              "    box-shadow: none;\n",
              "  }\n",
              "\n",
              "  .colab-df-spinner {\n",
              "    border: 2px solid var(--fill-color);\n",
              "    border-color: transparent;\n",
              "    border-bottom-color: var(--fill-color);\n",
              "    animation:\n",
              "      spin 1s steps(1) infinite;\n",
              "  }\n",
              "\n",
              "  @keyframes spin {\n",
              "    0% {\n",
              "      border-color: transparent;\n",
              "      border-bottom-color: var(--fill-color);\n",
              "      border-left-color: var(--fill-color);\n",
              "    }\n",
              "    20% {\n",
              "      border-color: transparent;\n",
              "      border-left-color: var(--fill-color);\n",
              "      border-top-color: var(--fill-color);\n",
              "    }\n",
              "    30% {\n",
              "      border-color: transparent;\n",
              "      border-left-color: var(--fill-color);\n",
              "      border-top-color: var(--fill-color);\n",
              "      border-right-color: var(--fill-color);\n",
              "    }\n",
              "    40% {\n",
              "      border-color: transparent;\n",
              "      border-right-color: var(--fill-color);\n",
              "      border-top-color: var(--fill-color);\n",
              "    }\n",
              "    60% {\n",
              "      border-color: transparent;\n",
              "      border-right-color: var(--fill-color);\n",
              "    }\n",
              "    80% {\n",
              "      border-color: transparent;\n",
              "      border-right-color: var(--fill-color);\n",
              "      border-bottom-color: var(--fill-color);\n",
              "    }\n",
              "    90% {\n",
              "      border-color: transparent;\n",
              "      border-bottom-color: var(--fill-color);\n",
              "    }\n",
              "  }\n",
              "</style>\n",
              "\n",
              "  <script>\n",
              "    async function quickchart(key) {\n",
              "      const quickchartButtonEl =\n",
              "        document.querySelector('#' + key + ' button');\n",
              "      quickchartButtonEl.disabled = true;  // To prevent multiple clicks.\n",
              "      quickchartButtonEl.classList.add('colab-df-spinner');\n",
              "      try {\n",
              "        const charts = await google.colab.kernel.invokeFunction(\n",
              "            'suggestCharts', [key], {});\n",
              "      } catch (error) {\n",
              "        console.error('Error during call to suggestCharts:', error);\n",
              "      }\n",
              "      quickchartButtonEl.classList.remove('colab-df-spinner');\n",
              "      quickchartButtonEl.classList.add('colab-df-quickchart-complete');\n",
              "    }\n",
              "    (() => {\n",
              "      let quickchartButtonEl =\n",
              "        document.querySelector('#df-b4a0a961-4c2f-49f9-b646-f1e2122d2c0c button');\n",
              "      quickchartButtonEl.style.display =\n",
              "        google.colab.kernel.accessAllowed ? 'block' : 'none';\n",
              "    })();\n",
              "  </script>\n",
              "</div>\n",
              "    </div>\n",
              "  </div>\n"
            ],
            "application/vnd.google.colaboratory.intrinsic+json": {
              "type": "dataframe",
              "variable_name": "dev_data",
              "summary": "{\n  \"name\": \"dev_data\",\n  \"rows\": 983,\n  \"fields\": [\n    {\n      \"column\": \"id\",\n      \"properties\": {\n        \"dtype\": \"number\",\n        \"std\": 283,\n        \"min\": 0,\n        \"max\": 982,\n        \"num_unique_values\": 983,\n        \"samples\": [\n          810,\n          801,\n          813\n        ],\n        \"semantic_type\": \"\",\n        \"description\": \"\"\n      }\n    },\n    {\n      \"column\": \"sentence\",\n      \"properties\": {\n        \"dtype\": \"string\",\n        \"num_unique_values\": 983,\n        \"samples\": [\n          \"\\u0422\\u043e\\u043c \\u0438 \\u0413\\u0435\\u043a \\u0440\\u0430\\u0437\\u0433\\u043e\\u0432\\u0430\\u0440\\u0438\\u0432\\u0430\\u044e\\u0442.\",\n          \"\\u042f \\u0432\\u043e\\u0437\\u0434\\u0435\\u0440\\u0436\\u0430\\u043b\\u0441\\u044f \\u043e\\u0442 \\u043a\\u0430\\u043a\\u0438\\u0445 \\u0431\\u044b \\u0442\\u043e \\u043d\\u0438 \\u0431\\u044b\\u043b\\u043e \\u043a\\u043e\\u043c\\u043c\\u0435\\u043d\\u0442\\u0430\\u0440\\u0438\\u0435\\u0432.\",\n          \"\\u0412 \\u0434\\u043e\\u043c\\u0435 \\u0431\\u044b\\u043b \\u0431\\u043e\\u043b\\u044c\\u0448\\u043e\\u0439 \\u043a\\u0440\\u0443\\u0433\\u043b\\u044b\\u0439 \\u0441\\u0442\\u043e\\u0439, \\u0432\\u0441\\u0435 \\u043b\\u044e\\u0431\\u0438\\u043b\\u0438 \\u0441\\u043e\\u0431\\u0438\\u0440\\u0430\\u0442\\u044c\\u0441\\u044f \\u0438 \\u0440\\u0430\\u0437\\u0433\\u043e\\u0432\\u0430\\u0440\\u0438\\u0432\\u0430\\u0442\\u044c \\u0432 \\u0433\\u043e\\u0441\\u0442\\u0438\\u043d\\u043e\\u0439 \\u0443 \\u043d\\u0435\\u0433\\u043e.\"\n        ],\n        \"semantic_type\": \"\",\n        \"description\": \"\"\n      }\n    },\n    {\n      \"column\": \"acceptable\",\n      \"properties\": {\n        \"dtype\": \"number\",\n        \"std\": 0,\n        \"min\": 0,\n        \"max\": 1,\n        \"num_unique_values\": 2,\n        \"samples\": [\n          0,\n          1\n        ],\n        \"semantic_type\": \"\",\n        \"description\": \"\"\n      }\n    },\n    {\n      \"column\": \"error_type\",\n      \"properties\": {\n        \"dtype\": \"category\",\n        \"num_unique_values\": 4,\n        \"samples\": [\n          \"Syntax\",\n          \"Morphology\"\n        ],\n        \"semantic_type\": \"\",\n        \"description\": \"\"\n      }\n    },\n    {\n      \"column\": \"detailed_source\",\n      \"properties\": {\n        \"dtype\": \"category\",\n        \"num_unique_values\": 11,\n        \"samples\": [\n          \"Paducheva2010\",\n          \"Paducheva2013\"\n        ],\n        \"semantic_type\": \"\",\n        \"description\": \"\"\n      }\n    }\n  ]\n}"
            }
          },
          "metadata": {},
          "execution_count": 6
        }
      ]
    },
    {
      "cell_type": "markdown",
      "source": [
        "Let's calculate basic statistics"
      ],
      "metadata": {
        "id": "qFekcbe2IM5G"
      }
    },
    {
      "cell_type": "code",
      "metadata": {
        "id": "NxLUQXAgAfVU",
        "colab": {
          "base_uri": "https://localhost:8080/"
        },
        "outputId": "59c55176-8674-47f8-ba4c-63b6982cf6b0"
      },
      "source": [
        "# Example count\n",
        "num_examples_train = len(train_data)\n",
        "\n",
        "# Class distribution\n",
        "class_distribution_train = train_data['acceptable'].value_counts()\n",
        "\n",
        "# Mean sentence length\n",
        "mean_sentence_length_train = train_data['sentence'].apply(lambda x: len(x.split())).mean()\n",
        "\n",
        "# Number of unique words\n",
        "unique_words_train = set(word for sentence in train_data['sentence'] for word in sentence.split())\n",
        "num_unique_words_train = len(unique_words_train)\n",
        "\n",
        "print(f\"Number of examples in train data: {num_examples_train}\")\n",
        "print(f\"Class distribution in train data:\\n{class_distribution_train}\")\n",
        "print(f\"Mean sentence length in train data: {mean_sentence_length_train}\")\n",
        "print(f\"Number of unique words in train data: {num_unique_words_train}\")"
      ],
      "execution_count": 7,
      "outputs": [
        {
          "output_type": "stream",
          "name": "stdout",
          "text": [
            "Number of examples in train data: 7869\n",
            "Class distribution in train data:\n",
            "acceptable\n",
            "1    5864\n",
            "0    2005\n",
            "Name: count, dtype: int64\n",
            "Mean sentence length in train data: 8.55648748252637\n",
            "Number of unique words in train data: 23014\n"
          ]
        }
      ]
    },
    {
      "cell_type": "code",
      "source": [
        "# Visualization\n",
        "\n",
        "import matplotlib.pyplot as plt\n",
        "\n",
        "# Class distribution\n",
        "fig, ax = plt.subplots(figsize=(6, 5))\n",
        "class_distribution_train.plot(kind='bar', ax=ax, title='Class distribution in train data')\n",
        "plt.show()\n",
        "\n",
        "# Sentence length distribution\n",
        "sentence_lengths_train = train_data['sentence'].apply(lambda x: len(x.split()))\n",
        "\n",
        "min_length = sentence_lengths_train.min()\n",
        "max_length = sentence_lengths_train.max()\n",
        "\n",
        "fig, ax = plt.subplots(figsize=(6, 5))\n",
        "bins = range(min_length, max_length + 2)\n",
        "ax.hist(sentence_lengths_train, bins=bins, align='left', rwidth=0.8)\n",
        "ax.set_title('Sentence length distribution in train data')\n",
        "plt.show()"
      ],
      "metadata": {
        "colab": {
          "base_uri": "https://localhost:8080/",
          "height": 933
        },
        "id": "S2CFdeydGB4s",
        "outputId": "f9d0ef22-25a6-4c78-cfa3-b5b8773bc186"
      },
      "execution_count": 8,
      "outputs": [
        {
          "output_type": "display_data",
          "data": {
            "text/plain": [
              "<Figure size 600x500 with 1 Axes>"
            ],
            "image/png": "[encoded data removed]"
          },
          "metadata": {}
        },
        {
          "output_type": "display_data",
          "data": {
            "text/plain": [
              "<Figure size 600x500 with 1 Axes>"
            ],
            "image/png": "[encoded data removed]"
          },
          "metadata": {}
        }
      ]
    },
    {
      "cell_type": "markdown",
      "source": [
        "### 1.2 Splitting the data from `in_domain_train.csv` into train and val (`val_size = 10%`)."
      ],
      "metadata": {
        "id": "_LvS7IbCU1Uo"
      }
    },
    {
      "cell_type": "code",
      "source": [
        "# Splitting the training data into training and validation sets\n",
        "train_df, val_df = train_test_split(train_data, test_size=0.1, random_state=42, stratify=train_data['acceptable'])\n",
        "\n",
        "print(f\"Number of examples in the new training set: {len(train_df)}\")\n",
        "print(f\"Number of examples in the validation set: {len(val_df)}\")"
      ],
      "metadata": {
        "colab": {
          "base_uri": "https://localhost:8080/"
        },
        "id": "_zyVMXGoD5N9",
        "outputId": "ae217178-d0e8-47f5-f14c-a40cefe27e77"
      },
      "execution_count": 9,
      "outputs": [
        {
          "output_type": "stream",
          "name": "stdout",
          "text": [
            "Number of examples in the new training set: 7082\n",
            "Number of examples in the validation set: 787\n"
          ]
        }
      ]
    },
    {
      "cell_type": "markdown",
      "source": [
        "Perform additional preprocessing"
      ],
      "metadata": {
        "id": "OdpRZAletbDD"
      }
    },
    {
      "cell_type": "code",
      "source": [
        "import re\n",
        "from nltk.corpus import stopwords\n",
        "from nltk.tokenize import word_tokenize\n",
        "import nltk\n",
        "nltk.download('wordnet')\n",
        "nltk.download('stopwords')\n",
        "nltk.download('punkt')\n",
        "nltk.download('punkt_tab')\n",
        "\n",
        "stop_words = set(stopwords.words('russian'))  # If the text is in Russian\n",
        "\n",
        "def preprocess_text(sentence):\n",
        "    # Removing punctuation and convert to lowercase\n",
        "    sentence = re.sub(r'[^\\w\\s]', '', sentence.lower())\n",
        "    # Tokenization\n",
        "    tokens = word_tokenize(sentence)\n",
        "    # Removing stop-words\n",
        "    tokens = [word for word in tokens if word not in stop_words]\n",
        "    return ' '.join(tokens)\n",
        "\n",
        "train_data['cleaned_sentence'] = train_data['sentence'].apply(preprocess_text)\n",
        "dev_data['cleaned_sentence'] = dev_data['sentence'].apply(preprocess_text)\n",
        "\n",
        "print(train_data[['sentence', 'cleaned_sentence']].head())\n"
      ],
      "metadata": {
        "colab": {
          "base_uri": "https://localhost:8080/"
        },
        "id": "BM_sEKcPpQX5",
        "outputId": "0b3eadbb-a8fe-49ab-db4d-4563e3bb29f3"
      },
      "execution_count": 10,
      "outputs": [
        {
          "output_type": "stream",
          "name": "stderr",
          "text": [
            "[nltk_data] Downloading package wordnet to /root/nltk_data...\n",
            "[nltk_data]   Package wordnet is already up-to-date!\n",
            "[nltk_data] Downloading package stopwords to /root/nltk_data...\n",
            "[nltk_data]   Package stopwords is already up-to-date!\n",
            "[nltk_data] Downloading package punkt to /root/nltk_data...\n",
            "[nltk_data]   Package punkt is already up-to-date!\n",
            "[nltk_data] Downloading package punkt_tab to /root/nltk_data...\n",
            "[nltk_data]   Package punkt_tab is already up-to-date!\n"
          ]
        },
        {
          "output_type": "stream",
          "name": "stdout",
          "text": [
            "                                            sentence  \\\n",
            "0  Вдруг решетка беззвучно поехала в сторону, и н...   \n",
            "1                       Этим летом не никуда ездили.   \n",
            "2  Только Иван выразил какую бы то ни было готовн...   \n",
            "3  Теперь ты видишь собственными глазами, как тут...   \n",
            "4    На поверку вся теория оказалась полной чепухой.   \n",
            "\n",
            "                                    cleaned_sentence  \n",
            "0  решетка беззвучно поехала сторону балконе возн...  \n",
            "1                           этим летом никуда ездили  \n",
            "2               иван выразил какую готовность помочь  \n",
            "3                        видишь собственными глазами  \n",
            "4        поверку вся теория оказалась полной чепухой  \n"
          ]
        }
      ]
    },
    {
      "cell_type": "code",
      "source": [
        "import pymorphy2\n",
        "morph = pymorphy2.MorphAnalyzer()\n",
        "\n",
        "def lemmatize_text(sentence):\n",
        "    # Tokenizing the sentence into words\n",
        "    tokens = word_tokenize(sentence)\n",
        "    # Lemmatizing each token (convert it to its base form)\n",
        "    lemmatized_tokens = [morph.parse(word)[0].normal_form for word in tokens]\n",
        "    return ' '.join(lemmatized_tokens)\n",
        "\n",
        "train_data['lemmatized_sentence'] = train_data['cleaned_sentence'].apply(lemmatize_text)\n",
        "dev_data['lemmatized_sentence'] = dev_data['cleaned_sentence'].apply(lemmatize_text)\n",
        "\n",
        "print(train_data[['cleaned_sentence', 'lemmatized_sentence']].head())\n",
        "\n"
      ],
      "metadata": {
        "colab": {
          "base_uri": "https://localhost:8080/"
        },
        "id": "TaDofGMOpQUH",
        "outputId": "d562dcec-3bc9-4c87-c58f-85e93664d46d"
      },
      "execution_count": 11,
      "outputs": [
        {
          "output_type": "stream",
          "name": "stdout",
          "text": [
            "                                    cleaned_sentence  \\\n",
            "0  решетка беззвучно поехала сторону балконе возн...   \n",
            "1                           этим летом никуда ездили   \n",
            "2               иван выразил какую готовность помочь   \n",
            "3                        видишь собственными глазами   \n",
            "4        поверку вся теория оказалась полной чепухой   \n",
            "\n",
            "                                 lemmatized_sentence  \n",
            "0  решётка беззвучно поехать сторона балкон возни...  \n",
            "1                             это лето никуда ездить  \n",
            "2              иван выразить какой готовность помочь  \n",
            "3                            видеть собственный глаз  \n",
            "4        поверка весь теория оказаться полный чепуха  \n"
          ]
        }
      ]
    },
    {
      "cell_type": "code",
      "source": [
        "# Generating additional features\n",
        "def generate_features(df):\n",
        "    df['sentence_length'] = df['sentence'].apply(lambda x: len(x.split()))\n",
        "    df['unique_word_ratio'] = df['sentence'].apply(lambda x: len(set(x.split())) / len(x.split()))\n",
        "    df['punctuation_count'] = df['sentence'].apply(lambda x: sum(1 for char in x if char in '.,!?'))\n",
        "    return df\n",
        "\n",
        "train_data = generate_features(train_data)\n",
        "dev_data = generate_features(dev_data)\n",
        "\n",
        "print(train_data[['sentence_length', 'unique_word_ratio', 'punctuation_count']].head())\n"
      ],
      "metadata": {
        "colab": {
          "base_uri": "https://localhost:8080/"
        },
        "id": "eC997jq8pQQw",
        "outputId": "198ff339-93f3-4f60-81bc-48f24b721d2d"
      },
      "execution_count": 12,
      "outputs": [
        {
          "output_type": "stream",
          "name": "stdout",
          "text": [
            "   sentence_length  unique_word_ratio  punctuation_count\n",
            "0               20               0.95                  4\n",
            "1                5               1.00                  1\n",
            "2               10               1.00                  1\n",
            "3                8               1.00                  2\n",
            "4                7               1.00                  1\n"
          ]
        }
      ]
    },
    {
      "cell_type": "code",
      "source": [
        "# Replacing the word with synonym\n",
        "from nltk.corpus import wordnet\n",
        "\n",
        "def synonym_replacement(sentence):\n",
        "    words = word_tokenize(sentence)\n",
        "    new_sentence = []\n",
        "    for word in words:\n",
        "        synonyms = wordnet.synsets(word)\n",
        "        if synonyms:\n",
        "            synonym = synonyms[0].lemmas()[0].name()\n",
        "            new_sentence.append(synonym)\n",
        "        else:\n",
        "            new_sentence.append(word)\n",
        "    return ' '.join(new_sentence)\n",
        "\n",
        "train_data['augmented_sentence'] = train_data['lemmatized_sentence'].apply(synonym_replacement)\n",
        "print(train_data[['lemmatized_sentence', 'augmented_sentence']].head())\n"
      ],
      "metadata": {
        "colab": {
          "base_uri": "https://localhost:8080/"
        },
        "id": "WNM1qRVppQOB",
        "outputId": "13a7d28b-7c58-4b69-a1fd-0805a907b15e"
      },
      "execution_count": 13,
      "outputs": [
        {
          "output_type": "stream",
          "name": "stdout",
          "text": [
            "                                 lemmatized_sentence  \\\n",
            "0  решётка беззвучно поехать сторона балкон возни...   \n",
            "1                             это лето никуда ездить   \n",
            "2              иван выразить какой готовность помочь   \n",
            "3                            видеть собственный глаз   \n",
            "4        поверка весь теория оказаться полный чепуха   \n",
            "\n",
            "                                  augmented_sentence  \n",
            "0  решётка беззвучно поехать сторона балкон возни...  \n",
            "1                             это лето никуда ездить  \n",
            "2              иван выразить какой готовность помочь  \n",
            "3                            видеть собственный глаз  \n",
            "4        поверка весь теория оказаться полный чепуха  \n"
          ]
        }
      ]
    },
    {
      "cell_type": "code",
      "source": [
        "# Distribution of sentence lengths after preprocessing\n",
        "plt.figure(figsize=(8, 5))\n",
        "train_data['sentence_length'].hist(bins=30, alpha=0.7, label='Original')\n",
        "train_data['lemmatized_sentence'].apply(lambda x: len(x.split())).hist(bins=30, alpha=0.7, label='Preprocessed')\n",
        "plt.legend()\n",
        "plt.title('Sentence length distribution')\n",
        "plt.show()\n"
      ],
      "metadata": {
        "colab": {
          "base_uri": "https://localhost:8080/",
          "height": 468
        },
        "id": "hbk5Ym-3pQLM",
        "outputId": "4c7ee458-85bf-4b9d-d26b-f672e7a7eed9"
      },
      "execution_count": 14,
      "outputs": [
        {
          "output_type": "display_data",
          "data": {
            "text/plain": [
              "<Figure size 800x500 with 1 Axes>"
            ],
            "image/png": "[encoded data removed]"
          },
          "metadata": {}
        }
      ]
    },
    {
      "cell_type": "markdown",
      "source": [
        "After preprocessing, sentences became shorter, as evidenced by the shift of the orange distribution toward smaller lengths.\n",
        "\n",
        "Original data peaks around 5–6 words.\n",
        "Preprocessed data peaks around 4–5 words.\n",
        "\n",
        "Sentences longer than 10 words are notably reduced in the preprocessed data.\n",
        "\n",
        " A small number of extremely short sentences (0–1 word) appear in the preprocessed data, potentially due to stopword removal or tokenization issues.\n",
        "\n",
        "The reduction in sentence length is likely caused by preprocessing steps such as:\n",
        "\n",
        "Lemmatization and stopword removal.\n",
        "\n",
        "Removal of punctuation and unnecessary symbols.\n",
        "\n",
        "Tokenization, which could drop certain words."
      ],
      "metadata": {
        "id": "wmH3L6ObrpWT"
      }
    },
    {
      "cell_type": "markdown",
      "source": [
        "# **2. Fine-tune RuBERT**"
      ],
      "metadata": {
        "id": "WwOP1eRTLmM_"
      }
    },
    {
      "cell_type": "markdown",
      "source": [
        "### 2.1 Using RuBert model\n",
        "\n",
        "We will use [DeepPavlov/rubert-base-cased](https://www.google.com/url?q=https%3A%2F%2Fhuggingface.co%2FDeepPavlov%2Frubert-base-cased) model"
      ],
      "metadata": {
        "id": "SqDInUF3XsTr"
      }
    },
    {
      "cell_type": "code",
      "source": [
        "train_data.loc[train_data.acceptable == 0].sample(5)[['augmented_sentence', 'acceptable']]"
      ],
      "metadata": {
        "colab": {
          "base_uri": "https://localhost:8080/",
          "height": 206
        },
        "id": "7pAG3EeIPzpw",
        "outputId": "867186c3-6f00-458f-f77c-9b9e3fede859"
      },
      "execution_count": 15,
      "outputs": [
        {
          "output_type": "execute_result",
          "data": {
            "text/plain": [
              "                                     augmented_sentence  acceptable\n",
              "2990                       девочка давать зайти магазин           0\n",
              "6428  генрих манна право считаться один великий проз...           0\n",
              "4167  готовиться война 1812 г франция россия начать ...           0\n",
              "7092  знать прийти время море быть плавать пароход с...           0\n",
              "7769  способность человек деятельность вызывать сомн...           0"
            ],
            "text/html": [
              "\n",
              "  <div id=\"df-013c7468-71cc-4c13-824f-8d86b41ef9ea\" class=\"colab-df-container\">\n",
              "    <div>\n",
              "<style scoped>\n",
              "    .dataframe tbody tr th:only-of-type {\n",
              "        vertical-align: middle;\n",
              "    }\n",
              "\n",
              "    .dataframe tbody tr th {\n",
              "        vertical-align: top;\n",
              "    }\n",
              "\n",
              "    .dataframe thead th {\n",
              "        text-align: right;\n",
              "    }\n",
              "</style>\n",
              "<table border=\"1\" class=\"dataframe\">\n",
              "  <thead>\n",
              "    <tr style=\"text-align: right;\">\n",
              "      <th></th>\n",
              "      <th>augmented_sentence</th>\n",
              "      <th>acceptable</th>\n",
              "    </tr>\n",
              "  </thead>\n",
              "  <tbody>\n",
              "    <tr>\n",
              "      <th>2990</th>\n",
              "      <td>девочка давать зайти магазин</td>\n",
              "      <td>0</td>\n",
              "    </tr>\n",
              "    <tr>\n",
              "      <th>6428</th>\n",
              "      <td>генрих манна право считаться один великий проз...</td>\n",
              "      <td>0</td>\n",
              "    </tr>\n",
              "    <tr>\n",
              "      <th>4167</th>\n",
              "      <td>готовиться война 1812 г франция россия начать ...</td>\n",
              "      <td>0</td>\n",
              "    </tr>\n",
              "    <tr>\n",
              "      <th>7092</th>\n",
              "      <td>знать прийти время море быть плавать пароход с...</td>\n",
              "      <td>0</td>\n",
              "    </tr>\n",
              "    <tr>\n",
              "      <th>7769</th>\n",
              "      <td>способность человек деятельность вызывать сомн...</td>\n",
              "      <td>0</td>\n",
              "    </tr>\n",
              "  </tbody>\n",
              "</table>\n",
              "</div>\n",
              "    <div class=\"colab-df-buttons\">\n",
              "\n",
              "  <div class=\"colab-df-container\">\n",
              "    <button class=\"colab-df-convert\" onclick=\"convertToInteractive('df-013c7468-71cc-4c13-824f-8d86b41ef9ea')\"\n",
              "            title=\"Convert this dataframe to an interactive table.\"\n",
              "            style=\"display:none;\">\n",
              "\n",
              "  <svg xmlns=\"http://www.w3.org/2000/svg\" height=\"24px\" viewBox=\"0 -960 960 960\">\n",
              "    <path d=\"M120-120v-720h720v720H120Zm60-500h600v-160H180v160Zm220 220h160v-160H400v160Zm0 220h160v-160H400v160ZM180-400h160v-160H180v160Zm440 0h160v-160H620v160ZM180-180h160v-160H180v160Zm440 0h160v-160H620v160Z\"/>\n",
              "  </svg>\n",
              "    </button>\n",
              "\n",
              "  <style>\n",
              "    .colab-df-container {\n",
              "      display:flex;\n",
              "      gap: 12px;\n",
              "    }\n",
              "\n",
              "    .colab-df-convert {\n",
              "      background-color: #E8F0FE;\n",
              "      border: none;\n",
              "      border-radius: 50%;\n",
              "      cursor: pointer;\n",
              "      display: none;\n",
              "      fill: #1967D2;\n",
              "      height: 32px;\n",
              "      padding: 0 0 0 0;\n",
              "      width: 32px;\n",
              "    }\n",
              "\n",
              "    .colab-df-convert:hover {\n",
              "      background-color: #E2EBFA;\n",
              "      box-shadow: 0px 1px 2px rgba(60, 64, 67, 0.3), 0px 1px 3px 1px rgba(60, 64, 67, 0.15);\n",
              "      fill: #174EA6;\n",
              "    }\n",
              "\n",
              "    .colab-df-buttons div {\n",
              "      margin-bottom: 4px;\n",
              "    }\n",
              "\n",
              "    [theme=dark] .colab-df-convert {\n",
              "      background-color: #3B4455;\n",
              "      fill: #D2E3FC;\n",
              "    }\n",
              "\n",
              "    [theme=dark] .colab-df-convert:hover {\n",
              "      background-color: #434B5C;\n",
              "      box-shadow: 0px 1px 3px 1px rgba(0, 0, 0, 0.15);\n",
              "      filter: drop-shadow(0px 1px 2px rgba(0, 0, 0, 0.3));\n",
              "      fill: #FFFFFF;\n",
              "    }\n",
              "  </style>\n",
              "\n",
              "    <script>\n",
              "      const buttonEl =\n",
              "        document.querySelector('#df-013c7468-71cc-4c13-824f-8d86b41ef9ea button.colab-df-convert');\n",
              "      buttonEl.style.display =\n",
              "        google.colab.kernel.accessAllowed ? 'block' : 'none';\n",
              "\n",
              "      async function convertToInteractive(key) {\n",
              "        const element = document.querySelector('#df-013c7468-71cc-4c13-824f-8d86b41ef9ea');\n",
              "        const dataTable =\n",
              "          await google.colab.kernel.invokeFunction('convertToInteractive',\n",
              "                                                    [key], {});\n",
              "        if (!dataTable) return;\n",
              "\n",
              "        const docLinkHtml = 'Like what you see? Visit the ' +\n",
              "          '<a target=\"_blank\" href=https://colab.research.google.com/notebooks/data_table.ipynb>data table notebook</a>'\n",
              "          + ' to learn more about interactive tables.';\n",
              "        element.innerHTML = '';\n",
              "        dataTable['output_type'] = 'display_data';\n",
              "        await google.colab.output.renderOutput(dataTable, element);\n",
              "        const docLink = document.createElement('div');\n",
              "        docLink.innerHTML = docLinkHtml;\n",
              "        element.appendChild(docLink);\n",
              "      }\n",
              "    </script>\n",
              "  </div>\n",
              "\n",
              "\n",
              "<div id=\"df-0be0da33-3d26-4d8a-98bf-618b75d30314\">\n",
              "  <button class=\"colab-df-quickchart\" onclick=\"quickchart('df-0be0da33-3d26-4d8a-98bf-618b75d30314')\"\n",
              "            title=\"Suggest charts\"\n",
              "            style=\"display:none;\">\n",
              "\n",
              "<svg xmlns=\"http://www.w3.org/2000/svg\" height=\"24px\"viewBox=\"0 0 24 24\"\n",
              "     width=\"24px\">\n",
              "    <g>\n",
              "        <path d=\"M19 3H5c-1.1 0-2 .9-2 2v14c0 1.1.9 2 2 2h14c1.1 0 2-.9 2-2V5c0-1.1-.9-2-2-2zM9 17H7v-7h2v7zm4 0h-2V7h2v10zm4 0h-2v-4h2v4z\"/>\n",
              "    </g>\n",
              "</svg>\n",
              "  </button>\n",
              "\n",
              "<style>\n",
              "  .colab-df-quickchart {\n",
              "      --bg-color: #E8F0FE;\n",
              "      --fill-color: #1967D2;\n",
              "      --hover-bg-color: #E2EBFA;\n",
              "      --hover-fill-color: #174EA6;\n",
              "      --disabled-fill-color: #AAA;\n",
              "      --disabled-bg-color: #DDD;\n",
              "  }\n",
              "\n",
              "  [theme=dark] .colab-df-quickchart {\n",
              "      --bg-color: #3B4455;\n",
              "      --fill-color: #D2E3FC;\n",
              "      --hover-bg-color: #434B5C;\n",
              "      --hover-fill-color: #FFFFFF;\n",
              "      --disabled-bg-color: #3B4455;\n",
              "      --disabled-fill-color: #666;\n",
              "  }\n",
              "\n",
              "  .colab-df-quickchart {\n",
              "    background-color: var(--bg-color);\n",
              "    border: none;\n",
              "    border-radius: 50%;\n",
              "    cursor: pointer;\n",
              "    display: none;\n",
              "    fill: var(--fill-color);\n",
              "    height: 32px;\n",
              "    padding: 0;\n",
              "    width: 32px;\n",
              "  }\n",
              "\n",
              "  .colab-df-quickchart:hover {\n",
              "    background-color: var(--hover-bg-color);\n",
              "    box-shadow: 0 1px 2px rgba(60, 64, 67, 0.3), 0 1px 3px 1px rgba(60, 64, 67, 0.15);\n",
              "    fill: var(--button-hover-fill-color);\n",
              "  }\n",
              "\n",
              "  .colab-df-quickchart-complete:disabled,\n",
              "  .colab-df-quickchart-complete:disabled:hover {\n",
              "    background-color: var(--disabled-bg-color);\n",
              "    fill: var(--disabled-fill-color);\n",
              "    box-shadow: none;\n",
              "  }\n",
              "\n",
              "  .colab-df-spinner {\n",
              "    border: 2px solid var(--fill-color);\n",
              "    border-color: transparent;\n",
              "    border-bottom-color: var(--fill-color);\n",
              "    animation:\n",
              "      spin 1s steps(1) infinite;\n",
              "  }\n",
              "\n",
              "  @keyframes spin {\n",
              "    0% {\n",
              "      border-color: transparent;\n",
              "      border-bottom-color: var(--fill-color);\n",
              "      border-left-color: var(--fill-color);\n",
              "    }\n",
              "    20% {\n",
              "      border-color: transparent;\n",
              "      border-left-color: var(--fill-color);\n",
              "      border-top-color: var(--fill-color);\n",
              "    }\n",
              "    30% {\n",
              "      border-color: transparent;\n",
              "      border-left-color: var(--fill-color);\n",
              "      border-top-color: var(--fill-color);\n",
              "      border-right-color: var(--fill-color);\n",
              "    }\n",
              "    40% {\n",
              "      border-color: transparent;\n",
              "      border-right-color: var(--fill-color);\n",
              "      border-top-color: var(--fill-color);\n",
              "    }\n",
              "    60% {\n",
              "      border-color: transparent;\n",
              "      border-right-color: var(--fill-color);\n",
              "    }\n",
              "    80% {\n",
              "      border-color: transparent;\n",
              "      border-right-color: var(--fill-color);\n",
              "      border-bottom-color: var(--fill-color);\n",
              "    }\n",
              "    90% {\n",
              "      border-color: transparent;\n",
              "      border-bottom-color: var(--fill-color);\n",
              "    }\n",
              "  }\n",
              "</style>\n",
              "\n",
              "  <script>\n",
              "    async function quickchart(key) {\n",
              "      const quickchartButtonEl =\n",
              "        document.querySelector('#' + key + ' button');\n",
              "      quickchartButtonEl.disabled = true;  // To prevent multiple clicks.\n",
              "      quickchartButtonEl.classList.add('colab-df-spinner');\n",
              "      try {\n",
              "        const charts = await google.colab.kernel.invokeFunction(\n",
              "            'suggestCharts', [key], {});\n",
              "      } catch (error) {\n",
              "        console.error('Error during call to suggestCharts:', error);\n",
              "      }\n",
              "      quickchartButtonEl.classList.remove('colab-df-spinner');\n",
              "      quickchartButtonEl.classList.add('colab-df-quickchart-complete');\n",
              "    }\n",
              "    (() => {\n",
              "      let quickchartButtonEl =\n",
              "        document.querySelector('#df-0be0da33-3d26-4d8a-98bf-618b75d30314 button');\n",
              "      quickchartButtonEl.style.display =\n",
              "        google.colab.kernel.accessAllowed ? 'block' : 'none';\n",
              "    })();\n",
              "  </script>\n",
              "</div>\n",
              "    </div>\n",
              "  </div>\n"
            ],
            "application/vnd.google.colaboratory.intrinsic+json": {
              "type": "dataframe",
              "summary": "{\n  \"name\": \"train_data\",\n  \"rows\": 5,\n  \"fields\": [\n    {\n      \"column\": \"augmented_sentence\",\n      \"properties\": {\n        \"dtype\": \"string\",\n        \"num_unique_values\": 5,\n        \"samples\": [\n          \"\\u0433\\u0435\\u043d\\u0440\\u0438\\u0445 \\u043c\\u0430\\u043d\\u043d\\u0430 \\u043f\\u0440\\u0430\\u0432\\u043e \\u0441\\u0447\\u0438\\u0442\\u0430\\u0442\\u044c\\u0441\\u044f \\u043e\\u0434\\u0438\\u043d \\u0432\\u0435\\u043b\\u0438\\u043a\\u0438\\u0439 \\u043f\\u0440\\u043e\\u0437\\u0430\\u0438\\u043a\\u043e\\u0432\\u0440\\u0435\\u0430\\u043b\\u0438\\u0441\\u0442 \\u0436\\u0438\\u0442\\u044c \\u0434\\u0432\\u0430\\u0434\\u0446\\u0430\\u0442\\u044b\\u0439 \\u0432\\u0435\\u043a\",\n          \"\\u0441\\u043f\\u043e\\u0441\\u043e\\u0431\\u043d\\u043e\\u0441\\u0442\\u044c \\u0447\\u0435\\u043b\\u043e\\u0432\\u0435\\u043a \\u0434\\u0435\\u044f\\u0442\\u0435\\u043b\\u044c\\u043d\\u043e\\u0441\\u0442\\u044c \\u0432\\u044b\\u0437\\u044b\\u0432\\u0430\\u0442\\u044c \\u0441\\u043e\\u043c\\u043d\\u0435\\u043d\\u0438\\u0435\",\n          \"\\u0433\\u043e\\u0442\\u043e\\u0432\\u0438\\u0442\\u044c\\u0441\\u044f \\u0432\\u043e\\u0439\\u043d\\u0430 1812 \\u0433 \\u0444\\u0440\\u0430\\u043d\\u0446\\u0438\\u044f \\u0440\\u043e\\u0441\\u0441\\u0438\\u044f \\u043d\\u0430\\u0447\\u0430\\u0442\\u044c \\u0433\\u043e\\u0434 \\u0440\\u0430\\u0437\\u0440\\u0430\\u0436\\u0430\\u0442\\u044c\\u0441\\u044f\"\n        ],\n        \"semantic_type\": \"\",\n        \"description\": \"\"\n      }\n    },\n    {\n      \"column\": \"acceptable\",\n      \"properties\": {\n        \"dtype\": \"number\",\n        \"std\": 0,\n        \"min\": 0,\n        \"max\": 0,\n        \"num_unique_values\": 1,\n        \"samples\": [\n          0\n        ],\n        \"semantic_type\": \"\",\n        \"description\": \"\"\n      }\n    }\n  ]\n}"
            }
          },
          "metadata": {},
          "execution_count": 15
        }
      ]
    },
    {
      "cell_type": "code",
      "source": [
        "# Getting the lists of sentences and their labels.\n",
        "sentences = train_data.sentence.values\n",
        "labels = train_data.acceptable.values"
      ],
      "metadata": {
        "id": "BErtUYtIQqsj"
      },
      "execution_count": 16,
      "outputs": []
    },
    {
      "cell_type": "code",
      "source": [
        "# Loading the tokenizer.\n",
        "from transformers import AutoTokenizer, AutoModelForMaskedLM\n",
        "\n",
        "tokenizer = AutoTokenizer.from_pretrained(\"DeepPavlov/rubert-base-cased\", do_lower_case=True)"
      ],
      "metadata": {
        "colab": {
          "base_uri": "https://localhost:8080/"
        },
        "id": "MGpp5jjfSgyK",
        "outputId": "a71dee31-08b4-4112-b5f8-33188e0ad15d"
      },
      "execution_count": 17,
      "outputs": [
        {
          "output_type": "stream",
          "name": "stderr",
          "text": [
            "/usr/local/lib/python3.10/dist-packages/huggingface_hub/utils/_auth.py:94: UserWarning: \n",
            "The secret `HF_TOKEN` does not exist in your Colab secrets.\n",
            "To authenticate with the Hugging Face Hub, create a token in your settings tab (https://huggingface.co/settings/tokens), set it as secret in your Google Colab and restart your session.\n",
            "You will be able to reuse this secret in all of your notebooks.\n",
            "Please note that authentication is recommended but still optional to access public models or datasets.\n",
            "  warnings.warn(\n"
          ]
        }
      ]
    },
    {
      "cell_type": "code",
      "source": [
        "# Printing the original sentence.\n",
        "print(' Original: ', sentences[0])\n",
        "\n",
        "# Printing the sentence split into tokens.\n",
        "print('Tokenized: ', tokenizer.tokenize(sentences[0]))\n",
        "\n",
        "# Printing the sentence mapped to token ids.\n",
        "print('Token IDs: ', tokenizer.convert_tokens_to_ids(tokenizer.tokenize(sentences[0])))"
      ],
      "metadata": {
        "colab": {
          "base_uri": "https://localhost:8080/"
        },
        "id": "hq95jnwqSoz7",
        "outputId": "fea772f5-e80a-41cd-8fc1-56716e6244c9"
      },
      "execution_count": 18,
      "outputs": [
        {
          "output_type": "stream",
          "name": "stdout",
          "text": [
            " Original:  Вдруг решетка беззвучно поехала в сторону, и на балконе возникла таинственная фигура, прячущаяся от лунного света, и погрозила Ивану пальцем.\n",
            "Tokenized:  ['вдруг', 'решет', '##ка', 'безз', '##вуч', '##но', 'поехала', 'в', 'сторону', ',', 'и', 'на', 'балкон', '##е', 'возникла', 'таин', '##ственная', 'фигура', ',', 'пряч', '##ущая', '##ся', 'от', 'лунного', 'света', ',', 'и', 'пог', '##роз', '##ила', 'ива', '##ну', 'пальцем', '.']\n",
            "Token IDs:  [38987, 42143, 1714, 46826, 16530, 1438, 91687, 845, 13693, 128, 851, 1469, 73783, 842, 23808, 32028, 14975, 30046, 128, 43558, 28060, 1523, 1641, 64650, 18928, 128, 851, 5500, 8380, 3297, 109909, 4650, 83837, 132]\n"
          ]
        }
      ]
    },
    {
      "cell_type": "code",
      "source": [
        "max_len = 0\n",
        "\n",
        "for sent in sentences:\n",
        "\n",
        "    # Tokenize the text and add `[CLS]` and `[SEP]` tokens.\n",
        "    input_ids = tokenizer.encode(sent, add_special_tokens=True)\n",
        "\n",
        "    # Update the maximum sentence length.\n",
        "    max_len = max(max_len, len(input_ids))\n",
        "\n",
        "print('Max sentence length: ', max_len)"
      ],
      "metadata": {
        "colab": {
          "base_uri": "https://localhost:8080/"
        },
        "id": "GHAafCU6XehY",
        "outputId": "bcdb8c1d-f621-4b26-cd9d-3d7177d14dbc"
      },
      "execution_count": 19,
      "outputs": [
        {
          "output_type": "stream",
          "name": "stdout",
          "text": [
            "Max sentence length:  50\n"
          ]
        }
      ]
    },
    {
      "cell_type": "code",
      "source": [
        "# Tokenizing all of the sentences and map the tokens to thier word IDs.\n",
        "input_ids = []\n",
        "attention_masks = []\n",
        "\n",
        "for sent in sentences:\n",
        "\n",
        "    encoded_dict = tokenizer.encode_plus(\n",
        "                        sent,                      # Sentence to encode.\n",
        "                        add_special_tokens = True, # Add '[CLS]' and '[SEP]'\n",
        "                        max_length = 64,           # Pad & truncate all sentences.\n",
        "                        pad_to_max_length = True,\n",
        "                        return_attention_mask = True,   # Construct attn. masks.\n",
        "                        return_tensors = 'pt',     # Return pytorch tensors.\n",
        "                   )\n",
        "\n",
        "    # Add the encoded sentence to the list.\n",
        "    input_ids.append(encoded_dict['input_ids'])\n",
        "\n",
        "    # And its attention mask (simply differentiates padding from non-padding).\n",
        "    attention_masks.append(encoded_dict['attention_mask'])\n",
        "\n",
        "# Convert the lists into tensors.\n",
        "input_ids = torch.cat(input_ids, dim=0)\n",
        "attention_masks = torch.cat(attention_masks, dim=0)\n",
        "labels = torch.tensor(labels)\n",
        "\n",
        "# Print tensor shapes for debugging\n",
        "print('Input IDs shape:', input_ids.shape)\n",
        "print('Attention Masks shape:', attention_masks.shape)\n",
        "print('Labels shape:', labels.shape)\n",
        "\n",
        "# Print sentence 0, now as a list of IDs.\n",
        "print('Original: ', sentences[0])\n",
        "print('Token IDs:', input_ids[0])"
      ],
      "metadata": {
        "colab": {
          "base_uri": "https://localhost:8080/"
        },
        "id": "n0BGEitMX2DM",
        "outputId": "fa742b0f-a059-4654-9b45-3b23979a42cc"
      },
      "execution_count": 20,
      "outputs": [
        {
          "output_type": "stream",
          "name": "stderr",
          "text": [
            "Truncation was not explicitly activated but `max_length` is provided a specific value, please use `truncation=True` to explicitly truncate examples to max length. Defaulting to 'longest_first' truncation strategy. If you encode pairs of sequences (GLUE-style) with the tokenizer you can select this strategy more precisely by providing a specific strategy to `truncation`.\n",
            "/usr/local/lib/python3.10/dist-packages/transformers/tokenization_utils_base.py:2834: FutureWarning: The `pad_to_max_length` argument is deprecated and will be removed in a future version, use `padding=True` or `padding='longest'` to pad to the longest sequence in the batch, or use `padding='max_length'` to pad to a max length. In this case, you can give a specific length with `max_length` (e.g. `max_length=45`) or leave max_length to None to pad to the maximal input size of the model (e.g. 512 for Bert).\n",
            "  warnings.warn(\n"
          ]
        },
        {
          "output_type": "stream",
          "name": "stdout",
          "text": [
            "Input IDs shape: torch.Size([7869, 64])\n",
            "Attention Masks shape: torch.Size([7869, 64])\n",
            "Labels shape: torch.Size([7869])\n",
            "Original:  Вдруг решетка беззвучно поехала в сторону, и на балконе возникла таинственная фигура, прячущаяся от лунного света, и погрозила Ивану пальцем.\n",
            "Token IDs: tensor([   101,  38987,  42143,   1714,  46826,  16530,   1438,  91687,    845,\n",
            "         13693,    128,    851,   1469,  73783,    842,  23808,  32028,  14975,\n",
            "         30046,    128,  43558,  28060,   1523,   1641,  64650,  18928,    128,\n",
            "           851,   5500,   8380,   3297, 109909,   4650,  83837,    132,    102,\n",
            "             0,      0,      0,      0,      0,      0,      0,      0,      0,\n",
            "             0,      0,      0,      0,      0,      0,      0,      0,      0,\n",
            "             0,      0,      0,      0,      0,      0,      0,      0,      0,\n",
            "             0])\n"
          ]
        }
      ]
    },
    {
      "cell_type": "code",
      "source": [
        "from torch.utils.data import TensorDataset, random_split\n",
        "\n",
        "# Combine the training inputs into a TensorDataset.\n",
        "dataset = TensorDataset(input_ids, attention_masks, labels)\n",
        "\n",
        "# Create a 90-10 train-validation split.\n",
        "\n",
        "# Calculate the number of samples to include in each set.\n",
        "train_size = int(0.9 * len(dataset))\n",
        "val_size = len(dataset) - train_size\n",
        "\n",
        "# Set the seed for reproducibility\n",
        "generator = torch.Generator().manual_seed(42)\n",
        "\n",
        "# Divide the dataset by randomly selecting samples.\n",
        "train_dataset, val_dataset = random_split(dataset, [train_size, val_size], generator=generator)\n",
        "\n",
        "print('{:>5,} training samples'.format(train_size))\n",
        "print('{:>5,} validation samples'.format(val_size))"
      ],
      "metadata": {
        "colab": {
          "base_uri": "https://localhost:8080/"
        },
        "id": "t-Mrx3TPaYNk",
        "outputId": "abda041b-e3ce-4977-9b4f-01d41543a0ef"
      },
      "execution_count": 21,
      "outputs": [
        {
          "output_type": "stream",
          "name": "stdout",
          "text": [
            "7,082 training samples\n",
            "  787 validation samples\n"
          ]
        }
      ]
    },
    {
      "cell_type": "code",
      "source": [
        "from torch.utils.data import DataLoader, RandomSampler, SequentialSampler\n",
        "\n",
        "# The DataLoader needs to know our batch size for training, so we specify it\n",
        "# here. For fine-tuning BERT on a specific task, the authors recommend a batch\n",
        "# size of 16 or 32.\n",
        "batch_size = 32\n",
        "\n",
        "# Create the DataLoaders for our training and validation sets.\n",
        "# We'll take training samples in random order.\n",
        "train_dataloader = DataLoader(\n",
        "            train_dataset,  # The training samples.\n",
        "            sampler = RandomSampler(train_dataset), # Select batches randomly\n",
        "            batch_size = batch_size # Trains with this batch size.\n",
        "        )\n",
        "\n",
        "# For validation the order doesn't matter, so we'll just read them sequentially.\n",
        "validation_dataloader = DataLoader(\n",
        "            val_dataset, # The validation samples.\n",
        "            sampler = SequentialSampler(val_dataset), # Pull out batches sequentially.\n",
        "            batch_size = batch_size # Evaluate with this batch size.\n",
        "        )"
      ],
      "metadata": {
        "id": "pKf-YJyRZlqq"
      },
      "execution_count": 22,
      "outputs": []
    },
    {
      "cell_type": "markdown",
      "source": [
        "### 2.2 Fine-tuning RuBERT on RuCoLa"
      ],
      "metadata": {
        "id": "B4XPlf1Q3daz"
      }
    },
    {
      "cell_type": "markdown",
      "source": [
        "In this section I replaced the original implementation that directly loaded a pre-trained BERT model for sequence classification with a modified version that incorporates LoRA"
      ],
      "metadata": {
        "id": "hjYW95oiKa0y"
      }
    },
    {
      "cell_type": "code",
      "source": [
        "from transformers import AutoModelForSequenceClassification\n",
        "from peft import LoraConfig, get_peft_model\n",
        "\n",
        "# Configuring LoRA\n",
        "\n",
        "lora_config = LoraConfig(\n",
        "    task_type=\"SEQ_CLS\",\n",
        "    inference_mode=False,\n",
        "    r=16,                       # Low-rank matrix size\n",
        "    lora_alpha=32,             # Scaling factor\n",
        "    lora_dropout=0.2,          # Dropout for LoRA\n",
        "    target_modules=[\"query\", \"value\"],\n",
        ")\n",
        "\n",
        "# Loading the pre-trained model\n",
        "base_model = AutoModelForSequenceClassification.from_pretrained(\n",
        "    \"DeepPavlov/rubert-base-cased\",\n",
        "    num_labels=2,\n",
        "    output_attentions=False,\n",
        "    output_hidden_states=False,\n",
        ")\n",
        "\n",
        "# Applying LoRA to the pre-trained model\n",
        "model = get_peft_model(base_model, lora_config)\n",
        "\n",
        "# Print the number of trainable parameters for verification\n",
        "model.print_trainable_parameters()\n",
        "\n",
        "\n",
        "device = torch.device(\"cuda\" if torch.cuda.is_available() else \"cpu\")\n",
        "model = model.to(device)\n",
        "\n",
        "from sklearn.utils.class_weight import compute_class_weight\n",
        "import numpy as np\n",
        "import torch\n",
        "\n",
        "# Calculating class weights\n",
        "class_weights = compute_class_weight('balanced', classes=np.array([0, 1]), y=labels.numpy())\n",
        "class_weights = torch.tensor(class_weights, dtype=torch.float).to(device)\n",
        "\n",
        "# Using weighted CrossEntropyLoss\n",
        "loss_fn = torch.nn.CrossEntropyLoss(weight=class_weights)\n"
      ],
      "metadata": {
        "colab": {
          "base_uri": "https://localhost:8080/"
        },
        "id": "Y42D9nOeKBac",
        "outputId": "a363b016-fe57-459e-85ce-c209fc8812d0"
      },
      "execution_count": 23,
      "outputs": [
        {
          "output_type": "stream",
          "name": "stderr",
          "text": [
            "Some weights of BertForSequenceClassification were not initialized from the model checkpoint at DeepPavlov/rubert-base-cased and are newly initialized: ['classifier.bias', 'classifier.weight']\n",
            "You should probably TRAIN this model on a down-stream task to be able to use it for predictions and inference.\n"
          ]
        },
        {
          "output_type": "stream",
          "name": "stdout",
          "text": [
            "trainable params: 591,362 || all params: 178,446,340 || trainable%: 0.3314\n"
          ]
        }
      ]
    },
    {
      "cell_type": "code",
      "source": [
        "# Get all of the model's parameters as a list of tuples.\n",
        "params = list(model.named_parameters())\n",
        "\n",
        "print('The BERT model has {:} different named parameters.\\n'.format(len(params)))\n",
        "\n",
        "print('==== Embedding Layer ====\\n')\n",
        "\n",
        "for p in params[0:5]:\n",
        "    print(\"{:<55} {:>12}\".format(p[0], str(tuple(p[1].size()))))\n",
        "\n",
        "print('\\n==== First Transformer ====\\n')\n",
        "\n",
        "for p in params[5:21]:\n",
        "    print(\"{:<55} {:>12}\".format(p[0], str(tuple(p[1].size()))))\n",
        "\n",
        "print('\\n==== Output Layer ====\\n')\n",
        "\n",
        "for p in params[-4:]:\n",
        "    print(\"{:<55} {:>12}\".format(p[0], str(tuple(p[1].size()))))"
      ],
      "metadata": {
        "colab": {
          "base_uri": "https://localhost:8080/"
        },
        "id": "ZScvxl4hcEfg",
        "outputId": "c593cb3d-a23f-4b84-e675-3e9c633c9ad0"
      },
      "execution_count": 24,
      "outputs": [
        {
          "output_type": "stream",
          "name": "stdout",
          "text": [
            "The BERT model has 251 different named parameters.\n",
            "\n",
            "==== Embedding Layer ====\n",
            "\n",
            "base_model.model.bert.embeddings.word_embeddings.weight (119547, 768)\n",
            "base_model.model.bert.embeddings.position_embeddings.weight   (512, 768)\n",
            "base_model.model.bert.embeddings.token_type_embeddings.weight     (2, 768)\n",
            "base_model.model.bert.embeddings.LayerNorm.weight             (768,)\n",
            "base_model.model.bert.embeddings.LayerNorm.bias               (768,)\n",
            "\n",
            "==== First Transformer ====\n",
            "\n",
            "base_model.model.bert.encoder.layer.0.attention.self.query.base_layer.weight   (768, 768)\n",
            "base_model.model.bert.encoder.layer.0.attention.self.query.base_layer.bias       (768,)\n",
            "base_model.model.bert.encoder.layer.0.attention.self.query.lora_A.default.weight    (16, 768)\n",
            "base_model.model.bert.encoder.layer.0.attention.self.query.lora_B.default.weight    (768, 16)\n",
            "base_model.model.bert.encoder.layer.0.attention.self.key.weight   (768, 768)\n",
            "base_model.model.bert.encoder.layer.0.attention.self.key.bias       (768,)\n",
            "base_model.model.bert.encoder.layer.0.attention.self.value.base_layer.weight   (768, 768)\n",
            "base_model.model.bert.encoder.layer.0.attention.self.value.base_layer.bias       (768,)\n",
            "base_model.model.bert.encoder.layer.0.attention.self.value.lora_A.default.weight    (16, 768)\n",
            "base_model.model.bert.encoder.layer.0.attention.self.value.lora_B.default.weight    (768, 16)\n",
            "base_model.model.bert.encoder.layer.0.attention.output.dense.weight   (768, 768)\n",
            "base_model.model.bert.encoder.layer.0.attention.output.dense.bias       (768,)\n",
            "base_model.model.bert.encoder.layer.0.attention.output.LayerNorm.weight       (768,)\n",
            "base_model.model.bert.encoder.layer.0.attention.output.LayerNorm.bias       (768,)\n",
            "base_model.model.bert.encoder.layer.0.intermediate.dense.weight  (3072, 768)\n",
            "base_model.model.bert.encoder.layer.0.intermediate.dense.bias      (3072,)\n",
            "\n",
            "==== Output Layer ====\n",
            "\n",
            "base_model.model.classifier.original_module.weight          (2, 768)\n",
            "base_model.model.classifier.original_module.bias                (2,)\n",
            "base_model.model.classifier.modules_to_save.default.weight     (2, 768)\n",
            "base_model.model.classifier.modules_to_save.default.bias         (2,)\n"
          ]
        }
      ]
    },
    {
      "cell_type": "code",
      "source": [
        "from transformers import BertForSequenceClassification, AdamW, BertConfig\n",
        "from transformers import AutoTokenizer, AutoModel\n",
        "# AdamW is a class from the huggingface library (as opposed to pytorch)\n",
        "optimizer = AdamW(model.parameters(),\n",
        "                  lr = 2e-5, # args.learning_rate\n",
        "                  eps = 1e-8 # args.adam_epsilon\n",
        "                )"
      ],
      "metadata": {
        "colab": {
          "base_uri": "https://localhost:8080/"
        },
        "id": "wpfzJxCAcDxc",
        "outputId": "894c5178-7e3d-4f50-9ff1-3477d65cf9cd"
      },
      "execution_count": 25,
      "outputs": [
        {
          "output_type": "stream",
          "name": "stderr",
          "text": [
            "/usr/local/lib/python3.10/dist-packages/transformers/optimization.py:591: FutureWarning: This implementation of AdamW is deprecated and will be removed in a future version. Use the PyTorch implementation torch.optim.AdamW instead, or set `no_deprecation_warning=True` to disable this warning\n",
            "  warnings.warn(\n"
          ]
        }
      ]
    },
    {
      "cell_type": "code",
      "source": [
        "from transformers import get_linear_schedule_with_warmup\n",
        "\n",
        "# Number of training epochs.\n",
        "epochs = 60\n",
        "\n",
        "# Total number of training steps is [number of batches] x [number of epochs].\n",
        "total_steps = len(train_dataloader) * epochs\n",
        "\n",
        "# Creating the learning rate scheduler.\n",
        "scheduler = get_linear_schedule_with_warmup(optimizer,\n",
        "                                            num_warmup_steps = 0, # Default value in run_glue.py\n",
        "                                            num_training_steps = total_steps)"
      ],
      "metadata": {
        "id": "V3znxh3zcDM0"
      },
      "execution_count": 26,
      "outputs": []
    },
    {
      "cell_type": "code",
      "source": [
        "import numpy as np\n",
        "\n",
        "# Function to calculate the accuracy of our predictions vs labels\n",
        "def flat_accuracy(preds, labels):\n",
        "    pred_flat = np.argmax(preds, axis=1).flatten()\n",
        "    labels_flat = labels.flatten()\n",
        "    return np.sum(pred_flat == labels_flat) / len(labels_flat)"
      ],
      "metadata": {
        "id": "f_K7tdAon_Fw"
      },
      "execution_count": 27,
      "outputs": []
    },
    {
      "cell_type": "code",
      "source": [
        "import time\n",
        "import datetime\n",
        "\n",
        "def format_time(elapsed):\n",
        "    '''\n",
        "    Takes a time in seconds and returns a string hh:mm:ss\n",
        "    '''\n",
        "    elapsed_rounded = int(round((elapsed)))\n",
        "\n",
        "    return str(datetime.timedelta(seconds=elapsed_rounded))"
      ],
      "metadata": {
        "id": "9TT59Q9qn_Cq"
      },
      "execution_count": 29,
      "outputs": []
    },
    {
      "cell_type": "code",
      "source": [
        "import random\n",
        "import numpy as np\n",
        "import mlflow\n",
        "import torch\n",
        "from sklearn.metrics import accuracy_score, matthews_corrcoef\n",
        "\n",
        "seed_val = 42\n",
        "random.seed(seed_val)\n",
        "np.random.seed(seed_val)\n",
        "torch.manual_seed(seed_val)\n",
        "torch.cuda.manual_seed_all(seed_val)\n",
        "\n",
        "# We'll store a number of quantities such as training and validation loss,\n",
        "# validation accuracy, and timings.\n",
        "training_stats = []\n",
        "\n",
        "# Measure the total training time for the whole run.\n",
        "total_t0 = time.time()\n",
        "\n",
        "# Creating a new experiment\n",
        "experiment_name = \"Model_Experiment\"\n",
        "mlflow.create_experiment(experiment_name)\n",
        "\n",
        "mlflow.set_experiment(experiment_name)\n",
        "\n",
        "# Start an MLflow experiment run after the training loop\n",
        "with mlflow.start_run(run_name=\"LoRA Config Experiment\"):\n",
        "\n",
        "    for epoch_i in range(epochs):\n",
        "\n",
        "        # ========================================\n",
        "        #               Training\n",
        "        # ========================================\n",
        "\n",
        "        # Perform one full pass over the training set.\n",
        "        print(f\"\\n======== Epoch {epoch_i + 1} / {epochs} ========\")\n",
        "        print('Training...')\n",
        "\n",
        "        # Measure how long the training epoch takes.\n",
        "        t0 = time.time()\n",
        "\n",
        "        # Reset the total loss for this epoch.\n",
        "        total_train_loss = 0\n",
        "\n",
        "        # Put the model into training mode. `train` just changes the *mode*.\n",
        "        model.train()\n",
        "\n",
        "        # For each batch of training data...\n",
        "        for step, batch in enumerate(train_dataloader):\n",
        "\n",
        "            # Progress update every 40 batches.\n",
        "            if step % 40 == 0 and not step == 0:\n",
        "                elapsed = format_time(time.time() - t0)\n",
        "                print(f'  Batch {step:>5,}  of  {len(train_dataloader):>5,}.    Elapsed: {elapsed}.')\n",
        "\n",
        "            # Unpack this training batch from our dataloader.\n",
        "            b_input_ids = batch[0].to(device)\n",
        "            b_input_mask = batch[1].to(device)\n",
        "            b_labels = batch[2].to(device)\n",
        "\n",
        "            model.zero_grad()\n",
        "\n",
        "            # Perform a forward pass (evaluate the model on this training batch).\n",
        "            res = model(b_input_ids, token_type_ids=None, attention_mask=b_input_mask, labels=b_labels)\n",
        "            logits = res['logits']  # Get logits\n",
        "\n",
        "            # Calculate loss with the custom loss function\n",
        "            loss = loss_fn(logits, b_labels)\n",
        "\n",
        "            # Accumulate the training loss\n",
        "            total_train_loss += loss.item()\n",
        "\n",
        "            # Perform a backward pass to calculate the gradients.\n",
        "            loss.backward()\n",
        "\n",
        "            # Clip the norm of the gradients to 1.0.\n",
        "            torch.nn.utils.clip_grad_norm_(model.parameters(), 1.0)\n",
        "\n",
        "            # Update parameters and take a step using the computed gradient.\n",
        "            optimizer.step()\n",
        "\n",
        "            # Update the learning rate.\n",
        "            scheduler.step()\n",
        "\n",
        "        # Calculate the average loss over all of the batches.\n",
        "        avg_train_loss = total_train_loss / len(train_dataloader)\n",
        "\n",
        "        # Measure how long this epoch took.\n",
        "        training_time = format_time(time.time() - t0)\n",
        "\n",
        "        print(f\"\\n  Average training loss: {avg_train_loss:.2f}\")\n",
        "        print(f\"  Training epoch took: {training_time}\")\n",
        "\n",
        "        # ========================================\n",
        "        #               Validation\n",
        "        # ========================================\n",
        "        print(\"\\nRunning Validation...\")\n",
        "\n",
        "        t0 = time.time()\n",
        "\n",
        "        # Put the model in evaluation mode.\n",
        "        model.eval()\n",
        "\n",
        "        # Tracking variables\n",
        "        total_eval_accuracy = 0\n",
        "        total_eval_loss = 0\n",
        "        nb_eval_steps = 0\n",
        "\n",
        "        # Evaluate data for one epoch\n",
        "        for batch in validation_dataloader:\n",
        "\n",
        "            # Unpack this validation batch.\n",
        "            b_input_ids = batch[0].to(device)\n",
        "            b_input_mask = batch[1].to(device)\n",
        "            b_labels = batch[2].to(device)\n",
        "\n",
        "            # Tell pytorch not to bother with constructing the compute graph during the forward pass.\n",
        "            with torch.no_grad():\n",
        "                res = model(b_input_ids, token_type_ids=None, attention_mask=b_input_mask, labels=b_labels)\n",
        "            loss = res['loss']\n",
        "            logits = res['logits']\n",
        "\n",
        "            # Accumulate the validation loss.\n",
        "            total_eval_loss += loss.item()\n",
        "\n",
        "            # Move logits and labels to CPU\n",
        "            logits = logits.detach().cpu().numpy()\n",
        "            label_ids = b_labels.to('cpu').numpy()\n",
        "\n",
        "            # Calculate the accuracy for this batch\n",
        "            total_eval_accuracy += flat_accuracy(logits, label_ids)\n",
        "\n",
        "        # Report the final accuracy for this validation run.\n",
        "        avg_val_accuracy = total_eval_accuracy / len(validation_dataloader)\n",
        "        print(f\"  Accuracy: {avg_val_accuracy:.2f}\")\n",
        "\n",
        "        # Calculate the average loss over all of the batches.\n",
        "        avg_val_loss = total_eval_loss / len(validation_dataloader)\n",
        "\n",
        "        # Measure how long the validation run took.\n",
        "        validation_time = format_time(time.time() - t0)\n",
        "\n",
        "        print(f\"  Validation Loss: {avg_val_loss:.2f}\")\n",
        "        print(f\"  Validation took: {validation_time}\")\n",
        "\n",
        "        # Record all statistics from this epoch.\n",
        "        training_stats.append(\n",
        "            {\n",
        "                'epoch': epoch_i + 1,\n",
        "                'Training Loss': avg_train_loss,\n",
        "                'Valid. Loss': avg_val_loss,\n",
        "                'Valid. Accur.': avg_val_accuracy,\n",
        "                'Training Time': training_time,\n",
        "                'Validation Time': validation_time\n",
        "            }\n",
        "        )\n",
        "\n",
        "        # Log model after every epoch\n",
        "        mlflow.pytorch.log_model(model, \"model\")  # Log the model\n",
        "\n",
        "    print(\"\\nTraining complete!\")\n",
        "    print(f\"Total training took {format_time(time.time() - total_t0)} (h:mm:ss)\")\n"
      ],
      "metadata": {
        "colab": {
          "base_uri": "https://localhost:8080/"
        },
        "id": "lxkimLHGY8QA",
        "outputId": "9f90d786-cb59-41ba-bdf2-df7374c8f8e3"
      },
      "execution_count": 31,
      "outputs": [
        {
          "output_type": "stream",
          "name": "stdout",
          "text": [
            "\n",
            "======== Epoch 1 / 60 ========\n",
            "Training...\n",
            "  Batch    40  of    222.    Elapsed: 0:00:10.\n",
            "  Batch    80  of    222.    Elapsed: 0:00:18.\n",
            "  Batch   120  of    222.    Elapsed: 0:00:26.\n",
            "  Batch   160  of    222.    Elapsed: 0:00:35.\n",
            "  Batch   200  of    222.    Elapsed: 0:00:43.\n",
            "\n",
            "  Average training loss: 0.70\n",
            "  Training epoch took: 0:00:48\n",
            "\n",
            "Running Validation...\n",
            "  Accuracy: 0.42\n",
            "  Validation Loss: 0.70\n",
            "  Validation took: 0:00:03\n"
          ]
        },
        {
          "output_type": "stream",
          "name": "stderr",
          "text": [
            "2024/12/17 18:48:56 WARNING mlflow.utils.requirements_utils: Found torch version (2.5.1+cu121) contains a local version label (+cu121). MLflow logged a pip requirement for this package as 'torch==2.5.1' without the local version label to make it installable from PyPI. To specify pip requirements containing local version labels, please use `conda_env` or `pip_requirements`.\n",
            "2024/12/17 18:49:09 WARNING mlflow.utils.requirements_utils: The following packages were not found in the public PyPI package index as of 2024-12-04; if these packages are not present in the public PyPI index, you must install them manually before loading your model: {'google-genai'}\n",
            "2024/12/17 18:49:09 WARNING mlflow.utils.requirements_utils: Found torchvision version (0.20.1+cu121) contains a local version label (+cu121). MLflow logged a pip requirement for this package as 'torchvision==0.20.1' without the local version label to make it installable from PyPI. To specify pip requirements containing local version labels, please use `conda_env` or `pip_requirements`.\n",
            "\u001b[31m2024/12/17 18:49:09 WARNING mlflow.models.model: Model logged without a signature and input example. Please set `input_example` parameter when logging the model to auto infer the model signature.\u001b[0m\n"
          ]
        },
        {
          "output_type": "stream",
          "name": "stdout",
          "text": [
            "\n",
            "======== Epoch 2 / 60 ========\n",
            "Training...\n",
            "  Batch    40  of    222.    Elapsed: 0:00:08.\n",
            "  Batch    80  of    222.    Elapsed: 0:00:17.\n",
            "  Batch   120  of    222.    Elapsed: 0:00:25.\n",
            "  Batch   160  of    222.    Elapsed: 0:00:34.\n",
            "  Batch   200  of    222.    Elapsed: 0:00:43.\n",
            "\n",
            "  Average training loss: 0.69\n",
            "  Training epoch took: 0:00:47\n",
            "\n",
            "Running Validation...\n",
            "  Accuracy: 0.61\n",
            "  Validation Loss: 0.68\n",
            "  Validation took: 0:00:03\n"
          ]
        },
        {
          "output_type": "stream",
          "name": "stderr",
          "text": [
            "2024/12/17 18:50:12 WARNING mlflow.utils.requirements_utils: Found torch version (2.5.1+cu121) contains a local version label (+cu121). MLflow logged a pip requirement for this package as 'torch==2.5.1' without the local version label to make it installable from PyPI. To specify pip requirements containing local version labels, please use `conda_env` or `pip_requirements`.\n",
            "2024/12/17 18:50:23 WARNING mlflow.utils.requirements_utils: The following packages were not found in the public PyPI package index as of 2024-12-04; if these packages are not present in the public PyPI index, you must install them manually before loading your model: {'google-genai'}\n",
            "2024/12/17 18:50:23 WARNING mlflow.utils.requirements_utils: Found torchvision version (0.20.1+cu121) contains a local version label (+cu121). MLflow logged a pip requirement for this package as 'torchvision==0.20.1' without the local version label to make it installable from PyPI. To specify pip requirements containing local version labels, please use `conda_env` or `pip_requirements`.\n",
            "\u001b[31m2024/12/17 18:50:23 WARNING mlflow.models.model: Model logged without a signature and input example. Please set `input_example` parameter when logging the model to auto infer the model signature.\u001b[0m\n"
          ]
        },
        {
          "output_type": "stream",
          "name": "stdout",
          "text": [
            "\n",
            "======== Epoch 3 / 60 ========\n",
            "Training...\n",
            "  Batch    40  of    222.    Elapsed: 0:00:08.\n",
            "  Batch    80  of    222.    Elapsed: 0:00:17.\n",
            "  Batch   120  of    222.    Elapsed: 0:00:25.\n",
            "  Batch   160  of    222.    Elapsed: 0:00:34.\n",
            "  Batch   200  of    222.    Elapsed: 0:00:42.\n",
            "\n",
            "  Average training loss: 0.67\n",
            "  Training epoch took: 0:00:47\n",
            "\n",
            "Running Validation...\n",
            "  Accuracy: 0.64\n",
            "  Validation Loss: 0.68\n",
            "  Validation took: 0:00:03\n"
          ]
        },
        {
          "output_type": "stream",
          "name": "stderr",
          "text": [
            "2024/12/17 18:51:30 WARNING mlflow.utils.requirements_utils: Found torch version (2.5.1+cu121) contains a local version label (+cu121). MLflow logged a pip requirement for this package as 'torch==2.5.1' without the local version label to make it installable from PyPI. To specify pip requirements containing local version labels, please use `conda_env` or `pip_requirements`.\n",
            "2024/12/17 18:51:42 WARNING mlflow.utils.requirements_utils: The following packages were not found in the public PyPI package index as of 2024-12-04; if these packages are not present in the public PyPI index, you must install them manually before loading your model: {'google-genai'}\n",
            "2024/12/17 18:51:42 WARNING mlflow.utils.requirements_utils: Found torchvision version (0.20.1+cu121) contains a local version label (+cu121). MLflow logged a pip requirement for this package as 'torchvision==0.20.1' without the local version label to make it installable from PyPI. To specify pip requirements containing local version labels, please use `conda_env` or `pip_requirements`.\n",
            "\u001b[31m2024/12/17 18:51:42 WARNING mlflow.models.model: Model logged without a signature and input example. Please set `input_example` parameter when logging the model to auto infer the model signature.\u001b[0m\n"
          ]
        },
        {
          "output_type": "stream",
          "name": "stdout",
          "text": [
            "\n",
            "======== Epoch 4 / 60 ========\n",
            "Training...\n",
            "  Batch    40  of    222.    Elapsed: 0:00:08.\n",
            "  Batch    80  of    222.    Elapsed: 0:00:17.\n",
            "  Batch   120  of    222.    Elapsed: 0:00:26.\n",
            "  Batch   160  of    222.    Elapsed: 0:00:34.\n",
            "  Batch   200  of    222.    Elapsed: 0:00:43.\n",
            "\n",
            "  Average training loss: 0.67\n",
            "  Training epoch took: 0:00:47\n",
            "\n",
            "Running Validation...\n",
            "  Accuracy: 0.67\n",
            "  Validation Loss: 0.67\n",
            "  Validation took: 0:00:03\n"
          ]
        },
        {
          "output_type": "stream",
          "name": "stderr",
          "text": [
            "2024/12/17 18:52:49 WARNING mlflow.utils.requirements_utils: Found torch version (2.5.1+cu121) contains a local version label (+cu121). MLflow logged a pip requirement for this package as 'torch==2.5.1' without the local version label to make it installable from PyPI. To specify pip requirements containing local version labels, please use `conda_env` or `pip_requirements`.\n",
            "2024/12/17 18:53:01 WARNING mlflow.utils.requirements_utils: The following packages were not found in the public PyPI package index as of 2024-12-04; if these packages are not present in the public PyPI index, you must install them manually before loading your model: {'google-genai'}\n",
            "2024/12/17 18:53:01 WARNING mlflow.utils.requirements_utils: Found torchvision version (0.20.1+cu121) contains a local version label (+cu121). MLflow logged a pip requirement for this package as 'torchvision==0.20.1' without the local version label to make it installable from PyPI. To specify pip requirements containing local version labels, please use `conda_env` or `pip_requirements`.\n",
            "\u001b[31m2024/12/17 18:53:01 WARNING mlflow.models.model: Model logged without a signature and input example. Please set `input_example` parameter when logging the model to auto infer the model signature.\u001b[0m\n"
          ]
        },
        {
          "output_type": "stream",
          "name": "stdout",
          "text": [
            "\n",
            "======== Epoch 5 / 60 ========\n",
            "Training...\n",
            "  Batch    40  of    222.    Elapsed: 0:00:08.\n",
            "  Batch    80  of    222.    Elapsed: 0:00:17.\n",
            "  Batch   120  of    222.    Elapsed: 0:00:25.\n",
            "  Batch   160  of    222.    Elapsed: 0:00:34.\n",
            "  Batch   200  of    222.    Elapsed: 0:00:42.\n",
            "\n",
            "  Average training loss: 0.67\n",
            "  Training epoch took: 0:00:47\n",
            "\n",
            "Running Validation...\n",
            "  Accuracy: 0.65\n",
            "  Validation Loss: 0.68\n",
            "  Validation took: 0:00:03\n"
          ]
        },
        {
          "output_type": "stream",
          "name": "stderr",
          "text": [
            "2024/12/17 18:54:45 WARNING mlflow.utils.requirements_utils: Found torch version (2.5.1+cu121) contains a local version label (+cu121). MLflow logged a pip requirement for this package as 'torch==2.5.1' without the local version label to make it installable from PyPI. To specify pip requirements containing local version labels, please use `conda_env` or `pip_requirements`.\n",
            "2024/12/17 18:54:57 WARNING mlflow.utils.requirements_utils: The following packages were not found in the public PyPI package index as of 2024-12-04; if these packages are not present in the public PyPI index, you must install them manually before loading your model: {'google-genai'}\n",
            "2024/12/17 18:54:57 WARNING mlflow.utils.requirements_utils: Found torchvision version (0.20.1+cu121) contains a local version label (+cu121). MLflow logged a pip requirement for this package as 'torchvision==0.20.1' without the local version label to make it installable from PyPI. To specify pip requirements containing local version labels, please use `conda_env` or `pip_requirements`.\n",
            "\u001b[31m2024/12/17 18:54:57 WARNING mlflow.models.model: Model logged without a signature and input example. Please set `input_example` parameter when logging the model to auto infer the model signature.\u001b[0m\n"
          ]
        },
        {
          "output_type": "stream",
          "name": "stdout",
          "text": [
            "\n",
            "======== Epoch 6 / 60 ========\n",
            "Training...\n",
            "  Batch    40  of    222.    Elapsed: 0:00:08.\n",
            "  Batch    80  of    222.    Elapsed: 0:00:17.\n",
            "  Batch   120  of    222.    Elapsed: 0:00:25.\n",
            "  Batch   160  of    222.    Elapsed: 0:00:34.\n",
            "  Batch   200  of    222.    Elapsed: 0:00:43.\n",
            "\n",
            "  Average training loss: 0.67\n",
            "  Training epoch took: 0:00:47\n",
            "\n",
            "Running Validation...\n",
            "  Accuracy: 0.67\n",
            "  Validation Loss: 0.67\n",
            "  Validation took: 0:00:03\n"
          ]
        },
        {
          "output_type": "stream",
          "name": "stderr",
          "text": [
            "2024/12/17 18:56:07 WARNING mlflow.utils.requirements_utils: Found torch version (2.5.1+cu121) contains a local version label (+cu121). MLflow logged a pip requirement for this package as 'torch==2.5.1' without the local version label to make it installable from PyPI. To specify pip requirements containing local version labels, please use `conda_env` or `pip_requirements`.\n",
            "2024/12/17 18:56:19 WARNING mlflow.utils.requirements_utils: The following packages were not found in the public PyPI package index as of 2024-12-04; if these packages are not present in the public PyPI index, you must install them manually before loading your model: {'google-genai'}\n",
            "2024/12/17 18:56:19 WARNING mlflow.utils.requirements_utils: Found torchvision version (0.20.1+cu121) contains a local version label (+cu121). MLflow logged a pip requirement for this package as 'torchvision==0.20.1' without the local version label to make it installable from PyPI. To specify pip requirements containing local version labels, please use `conda_env` or `pip_requirements`.\n",
            "\u001b[31m2024/12/17 18:56:19 WARNING mlflow.models.model: Model logged without a signature and input example. Please set `input_example` parameter when logging the model to auto infer the model signature.\u001b[0m\n"
          ]
        },
        {
          "output_type": "stream",
          "name": "stdout",
          "text": [
            "\n",
            "======== Epoch 7 / 60 ========\n",
            "Training...\n",
            "  Batch    40  of    222.    Elapsed: 0:00:09.\n",
            "  Batch    80  of    222.    Elapsed: 0:00:17.\n",
            "  Batch   120  of    222.    Elapsed: 0:00:26.\n",
            "  Batch   160  of    222.    Elapsed: 0:00:34.\n",
            "  Batch   200  of    222.    Elapsed: 0:00:43.\n",
            "\n",
            "  Average training loss: 0.66\n",
            "  Training epoch took: 0:00:47\n",
            "\n",
            "Running Validation...\n",
            "  Accuracy: 0.64\n",
            "  Validation Loss: 0.68\n",
            "  Validation took: 0:00:03\n"
          ]
        },
        {
          "output_type": "stream",
          "name": "stderr",
          "text": [
            "2024/12/17 18:58:08 WARNING mlflow.utils.requirements_utils: Found torch version (2.5.1+cu121) contains a local version label (+cu121). MLflow logged a pip requirement for this package as 'torch==2.5.1' without the local version label to make it installable from PyPI. To specify pip requirements containing local version labels, please use `conda_env` or `pip_requirements`.\n",
            "2024/12/17 18:58:20 WARNING mlflow.utils.requirements_utils: The following packages were not found in the public PyPI package index as of 2024-12-04; if these packages are not present in the public PyPI index, you must install them manually before loading your model: {'google-genai'}\n",
            "2024/12/17 18:58:20 WARNING mlflow.utils.requirements_utils: Found torchvision version (0.20.1+cu121) contains a local version label (+cu121). MLflow logged a pip requirement for this package as 'torchvision==0.20.1' without the local version label to make it installable from PyPI. To specify pip requirements containing local version labels, please use `conda_env` or `pip_requirements`.\n",
            "\u001b[31m2024/12/17 18:58:20 WARNING mlflow.models.model: Model logged without a signature and input example. Please set `input_example` parameter when logging the model to auto infer the model signature.\u001b[0m\n"
          ]
        },
        {
          "output_type": "stream",
          "name": "stdout",
          "text": [
            "\n",
            "======== Epoch 8 / 60 ========\n",
            "Training...\n",
            "  Batch    40  of    222.    Elapsed: 0:00:08.\n",
            "  Batch    80  of    222.    Elapsed: 0:00:17.\n",
            "  Batch   120  of    222.    Elapsed: 0:00:25.\n",
            "  Batch   160  of    222.    Elapsed: 0:00:34.\n",
            "  Batch   200  of    222.    Elapsed: 0:00:42.\n",
            "\n",
            "  Average training loss: 0.66\n",
            "  Training epoch took: 0:00:47\n",
            "\n",
            "Running Validation...\n",
            "  Accuracy: 0.63\n",
            "  Validation Loss: 0.69\n",
            "  Validation took: 0:00:03\n"
          ]
        },
        {
          "output_type": "stream",
          "name": "stderr",
          "text": [
            "2024/12/17 18:59:29 WARNING mlflow.utils.requirements_utils: Found torch version (2.5.1+cu121) contains a local version label (+cu121). MLflow logged a pip requirement for this package as 'torch==2.5.1' without the local version label to make it installable from PyPI. To specify pip requirements containing local version labels, please use `conda_env` or `pip_requirements`.\n",
            "2024/12/17 18:59:41 WARNING mlflow.utils.requirements_utils: The following packages were not found in the public PyPI package index as of 2024-12-04; if these packages are not present in the public PyPI index, you must install them manually before loading your model: {'google-genai'}\n",
            "2024/12/17 18:59:41 WARNING mlflow.utils.requirements_utils: Found torchvision version (0.20.1+cu121) contains a local version label (+cu121). MLflow logged a pip requirement for this package as 'torchvision==0.20.1' without the local version label to make it installable from PyPI. To specify pip requirements containing local version labels, please use `conda_env` or `pip_requirements`.\n",
            "\u001b[31m2024/12/17 18:59:41 WARNING mlflow.models.model: Model logged without a signature and input example. Please set `input_example` parameter when logging the model to auto infer the model signature.\u001b[0m\n"
          ]
        },
        {
          "output_type": "stream",
          "name": "stdout",
          "text": [
            "\n",
            "======== Epoch 9 / 60 ========\n",
            "Training...\n",
            "  Batch    40  of    222.    Elapsed: 0:00:08.\n",
            "  Batch    80  of    222.    Elapsed: 0:00:17.\n",
            "  Batch   120  of    222.    Elapsed: 0:00:25.\n",
            "  Batch   160  of    222.    Elapsed: 0:00:34.\n",
            "  Batch   200  of    222.    Elapsed: 0:00:42.\n",
            "\n",
            "  Average training loss: 0.66\n",
            "  Training epoch took: 0:00:47\n",
            "\n",
            "Running Validation...\n",
            "  Accuracy: 0.67\n",
            "  Validation Loss: 0.64\n",
            "  Validation took: 0:00:03\n"
          ]
        },
        {
          "output_type": "stream",
          "name": "stderr",
          "text": [
            "2024/12/17 19:00:47 WARNING mlflow.utils.requirements_utils: Found torch version (2.5.1+cu121) contains a local version label (+cu121). MLflow logged a pip requirement for this package as 'torch==2.5.1' without the local version label to make it installable from PyPI. To specify pip requirements containing local version labels, please use `conda_env` or `pip_requirements`.\n",
            "2024/12/17 19:00:58 WARNING mlflow.utils.requirements_utils: The following packages were not found in the public PyPI package index as of 2024-12-04; if these packages are not present in the public PyPI index, you must install them manually before loading your model: {'google-genai'}\n",
            "2024/12/17 19:00:58 WARNING mlflow.utils.requirements_utils: Found torchvision version (0.20.1+cu121) contains a local version label (+cu121). MLflow logged a pip requirement for this package as 'torchvision==0.20.1' without the local version label to make it installable from PyPI. To specify pip requirements containing local version labels, please use `conda_env` or `pip_requirements`.\n",
            "\u001b[31m2024/12/17 19:00:59 WARNING mlflow.models.model: Model logged without a signature and input example. Please set `input_example` parameter when logging the model to auto infer the model signature.\u001b[0m\n"
          ]
        },
        {
          "output_type": "stream",
          "name": "stdout",
          "text": [
            "\n",
            "======== Epoch 10 / 60 ========\n",
            "Training...\n",
            "  Batch    40  of    222.    Elapsed: 0:00:08.\n",
            "  Batch    80  of    222.    Elapsed: 0:00:17.\n",
            "  Batch   120  of    222.    Elapsed: 0:00:25.\n",
            "  Batch   160  of    222.    Elapsed: 0:00:34.\n",
            "  Batch   200  of    222.    Elapsed: 0:00:42.\n",
            "\n",
            "  Average training loss: 0.65\n",
            "  Training epoch took: 0:00:47\n",
            "\n",
            "Running Validation...\n",
            "  Accuracy: 0.62\n",
            "  Validation Loss: 0.68\n",
            "  Validation took: 0:00:03\n"
          ]
        },
        {
          "output_type": "stream",
          "name": "stderr",
          "text": [
            "2024/12/17 19:02:07 WARNING mlflow.utils.requirements_utils: Found torch version (2.5.1+cu121) contains a local version label (+cu121). MLflow logged a pip requirement for this package as 'torch==2.5.1' without the local version label to make it installable from PyPI. To specify pip requirements containing local version labels, please use `conda_env` or `pip_requirements`.\n",
            "2024/12/17 19:02:18 WARNING mlflow.utils.requirements_utils: The following packages were not found in the public PyPI package index as of 2024-12-04; if these packages are not present in the public PyPI index, you must install them manually before loading your model: {'google-genai'}\n",
            "2024/12/17 19:02:18 WARNING mlflow.utils.requirements_utils: Found torchvision version (0.20.1+cu121) contains a local version label (+cu121). MLflow logged a pip requirement for this package as 'torchvision==0.20.1' without the local version label to make it installable from PyPI. To specify pip requirements containing local version labels, please use `conda_env` or `pip_requirements`.\n",
            "\u001b[31m2024/12/17 19:02:18 WARNING mlflow.models.model: Model logged without a signature and input example. Please set `input_example` parameter when logging the model to auto infer the model signature.\u001b[0m\n"
          ]
        },
        {
          "output_type": "stream",
          "name": "stdout",
          "text": [
            "\n",
            "======== Epoch 11 / 60 ========\n",
            "Training...\n",
            "  Batch    40  of    222.    Elapsed: 0:00:08.\n",
            "  Batch    80  of    222.    Elapsed: 0:00:17.\n",
            "  Batch   120  of    222.    Elapsed: 0:00:25.\n",
            "  Batch   160  of    222.    Elapsed: 0:00:34.\n",
            "  Batch   200  of    222.    Elapsed: 0:00:42.\n",
            "\n",
            "  Average training loss: 0.65\n",
            "  Training epoch took: 0:00:47\n",
            "\n",
            "Running Validation...\n",
            "  Accuracy: 0.69\n",
            "  Validation Loss: 0.63\n",
            "  Validation took: 0:00:03\n"
          ]
        },
        {
          "output_type": "stream",
          "name": "stderr",
          "text": [
            "2024/12/17 19:03:25 WARNING mlflow.utils.requirements_utils: Found torch version (2.5.1+cu121) contains a local version label (+cu121). MLflow logged a pip requirement for this package as 'torch==2.5.1' without the local version label to make it installable from PyPI. To specify pip requirements containing local version labels, please use `conda_env` or `pip_requirements`.\n",
            "2024/12/17 19:03:37 WARNING mlflow.utils.requirements_utils: The following packages were not found in the public PyPI package index as of 2024-12-04; if these packages are not present in the public PyPI index, you must install them manually before loading your model: {'google-genai'}\n",
            "2024/12/17 19:03:37 WARNING mlflow.utils.requirements_utils: Found torchvision version (0.20.1+cu121) contains a local version label (+cu121). MLflow logged a pip requirement for this package as 'torchvision==0.20.1' without the local version label to make it installable from PyPI. To specify pip requirements containing local version labels, please use `conda_env` or `pip_requirements`.\n",
            "\u001b[31m2024/12/17 19:03:37 WARNING mlflow.models.model: Model logged without a signature and input example. Please set `input_example` parameter when logging the model to auto infer the model signature.\u001b[0m\n"
          ]
        },
        {
          "output_type": "stream",
          "name": "stdout",
          "text": [
            "\n",
            "======== Epoch 12 / 60 ========\n",
            "Training...\n",
            "  Batch    40  of    222.    Elapsed: 0:00:08.\n",
            "  Batch    80  of    222.    Elapsed: 0:00:17.\n",
            "  Batch   120  of    222.    Elapsed: 0:00:25.\n",
            "  Batch   160  of    222.    Elapsed: 0:00:34.\n",
            "  Batch   200  of    222.    Elapsed: 0:00:42.\n",
            "\n",
            "  Average training loss: 0.64\n",
            "  Training epoch took: 0:00:47\n",
            "\n",
            "Running Validation...\n",
            "  Accuracy: 0.68\n",
            "  Validation Loss: 0.64\n",
            "  Validation took: 0:00:03\n"
          ]
        },
        {
          "output_type": "stream",
          "name": "stderr",
          "text": [
            "2024/12/17 19:04:48 WARNING mlflow.utils.requirements_utils: Found torch version (2.5.1+cu121) contains a local version label (+cu121). MLflow logged a pip requirement for this package as 'torch==2.5.1' without the local version label to make it installable from PyPI. To specify pip requirements containing local version labels, please use `conda_env` or `pip_requirements`.\n",
            "2024/12/17 19:05:00 WARNING mlflow.utils.requirements_utils: The following packages were not found in the public PyPI package index as of 2024-12-04; if these packages are not present in the public PyPI index, you must install them manually before loading your model: {'google-genai'}\n",
            "2024/12/17 19:05:00 WARNING mlflow.utils.requirements_utils: Found torchvision version (0.20.1+cu121) contains a local version label (+cu121). MLflow logged a pip requirement for this package as 'torchvision==0.20.1' without the local version label to make it installable from PyPI. To specify pip requirements containing local version labels, please use `conda_env` or `pip_requirements`.\n",
            "\u001b[31m2024/12/17 19:05:00 WARNING mlflow.models.model: Model logged without a signature and input example. Please set `input_example` parameter when logging the model to auto infer the model signature.\u001b[0m\n"
          ]
        },
        {
          "output_type": "stream",
          "name": "stdout",
          "text": [
            "\n",
            "======== Epoch 13 / 60 ========\n",
            "Training...\n",
            "  Batch    40  of    222.    Elapsed: 0:00:08.\n",
            "  Batch    80  of    222.    Elapsed: 0:00:17.\n",
            "  Batch   120  of    222.    Elapsed: 0:00:25.\n",
            "  Batch   160  of    222.    Elapsed: 0:00:34.\n",
            "  Batch   200  of    222.    Elapsed: 0:00:42.\n",
            "\n",
            "  Average training loss: 0.64\n",
            "  Training epoch took: 0:00:47\n",
            "\n",
            "Running Validation...\n",
            "  Accuracy: 0.70\n",
            "  Validation Loss: 0.62\n",
            "  Validation took: 0:00:03\n"
          ]
        },
        {
          "output_type": "stream",
          "name": "stderr",
          "text": [
            "2024/12/17 19:06:01 WARNING mlflow.utils.requirements_utils: Found torch version (2.5.1+cu121) contains a local version label (+cu121). MLflow logged a pip requirement for this package as 'torch==2.5.1' without the local version label to make it installable from PyPI. To specify pip requirements containing local version labels, please use `conda_env` or `pip_requirements`.\n",
            "2024/12/17 19:06:12 WARNING mlflow.utils.requirements_utils: The following packages were not found in the public PyPI package index as of 2024-12-04; if these packages are not present in the public PyPI index, you must install them manually before loading your model: {'google-genai'}\n",
            "2024/12/17 19:06:13 WARNING mlflow.utils.requirements_utils: Found torchvision version (0.20.1+cu121) contains a local version label (+cu121). MLflow logged a pip requirement for this package as 'torchvision==0.20.1' without the local version label to make it installable from PyPI. To specify pip requirements containing local version labels, please use `conda_env` or `pip_requirements`.\n",
            "\u001b[31m2024/12/17 19:06:13 WARNING mlflow.models.model: Model logged without a signature and input example. Please set `input_example` parameter when logging the model to auto infer the model signature.\u001b[0m\n"
          ]
        },
        {
          "output_type": "stream",
          "name": "stdout",
          "text": [
            "\n",
            "======== Epoch 14 / 60 ========\n",
            "Training...\n",
            "  Batch    40  of    222.    Elapsed: 0:00:08.\n",
            "  Batch    80  of    222.    Elapsed: 0:00:17.\n",
            "  Batch   120  of    222.    Elapsed: 0:00:25.\n",
            "  Batch   160  of    222.    Elapsed: 0:00:34.\n",
            "  Batch   200  of    222.    Elapsed: 0:00:42.\n",
            "\n",
            "  Average training loss: 0.63\n",
            "  Training epoch took: 0:00:47\n",
            "\n",
            "Running Validation...\n",
            "  Accuracy: 0.70\n",
            "  Validation Loss: 0.62\n",
            "  Validation took: 0:00:03\n"
          ]
        },
        {
          "output_type": "stream",
          "name": "stderr",
          "text": [
            "2024/12/17 19:07:29 WARNING mlflow.utils.requirements_utils: Found torch version (2.5.1+cu121) contains a local version label (+cu121). MLflow logged a pip requirement for this package as 'torch==2.5.1' without the local version label to make it installable from PyPI. To specify pip requirements containing local version labels, please use `conda_env` or `pip_requirements`.\n",
            "2024/12/17 19:07:43 WARNING mlflow.utils.requirements_utils: The following packages were not found in the public PyPI package index as of 2024-12-04; if these packages are not present in the public PyPI index, you must install them manually before loading your model: {'google-genai'}\n",
            "2024/12/17 19:07:43 WARNING mlflow.utils.requirements_utils: Found torchvision version (0.20.1+cu121) contains a local version label (+cu121). MLflow logged a pip requirement for this package as 'torchvision==0.20.1' without the local version label to make it installable from PyPI. To specify pip requirements containing local version labels, please use `conda_env` or `pip_requirements`.\n",
            "\u001b[31m2024/12/17 19:07:43 WARNING mlflow.models.model: Model logged without a signature and input example. Please set `input_example` parameter when logging the model to auto infer the model signature.\u001b[0m\n"
          ]
        },
        {
          "output_type": "stream",
          "name": "stdout",
          "text": [
            "\n",
            "======== Epoch 15 / 60 ========\n",
            "Training...\n",
            "  Batch    40  of    222.    Elapsed: 0:00:08.\n",
            "  Batch    80  of    222.    Elapsed: 0:00:17.\n",
            "  Batch   120  of    222.    Elapsed: 0:00:25.\n",
            "  Batch   160  of    222.    Elapsed: 0:00:34.\n",
            "  Batch   200  of    222.    Elapsed: 0:00:42.\n",
            "\n",
            "  Average training loss: 0.63\n",
            "  Training epoch took: 0:00:47\n",
            "\n",
            "Running Validation...\n",
            "  Accuracy: 0.70\n",
            "  Validation Loss: 0.61\n",
            "  Validation took: 0:00:03\n"
          ]
        },
        {
          "output_type": "stream",
          "name": "stderr",
          "text": [
            "2024/12/17 19:08:49 WARNING mlflow.utils.requirements_utils: Found torch version (2.5.1+cu121) contains a local version label (+cu121). MLflow logged a pip requirement for this package as 'torch==2.5.1' without the local version label to make it installable from PyPI. To specify pip requirements containing local version labels, please use `conda_env` or `pip_requirements`.\n",
            "2024/12/17 19:09:00 WARNING mlflow.utils.requirements_utils: The following packages were not found in the public PyPI package index as of 2024-12-04; if these packages are not present in the public PyPI index, you must install them manually before loading your model: {'google-genai'}\n",
            "2024/12/17 19:09:00 WARNING mlflow.utils.requirements_utils: Found torchvision version (0.20.1+cu121) contains a local version label (+cu121). MLflow logged a pip requirement for this package as 'torchvision==0.20.1' without the local version label to make it installable from PyPI. To specify pip requirements containing local version labels, please use `conda_env` or `pip_requirements`.\n",
            "\u001b[31m2024/12/17 19:09:00 WARNING mlflow.models.model: Model logged without a signature and input example. Please set `input_example` parameter when logging the model to auto infer the model signature.\u001b[0m\n"
          ]
        },
        {
          "output_type": "stream",
          "name": "stdout",
          "text": [
            "\n",
            "======== Epoch 16 / 60 ========\n",
            "Training...\n",
            "  Batch    40  of    222.    Elapsed: 0:00:08.\n",
            "  Batch    80  of    222.    Elapsed: 0:00:17.\n",
            "  Batch   120  of    222.    Elapsed: 0:00:25.\n",
            "  Batch   160  of    222.    Elapsed: 0:00:34.\n",
            "  Batch   200  of    222.    Elapsed: 0:00:42.\n",
            "\n",
            "  Average training loss: 0.63\n",
            "  Training epoch took: 0:00:47\n",
            "\n",
            "Running Validation...\n",
            "  Accuracy: 0.71\n",
            "  Validation Loss: 0.61\n",
            "  Validation took: 0:00:03\n"
          ]
        },
        {
          "output_type": "stream",
          "name": "stderr",
          "text": [
            "2024/12/17 19:10:06 WARNING mlflow.utils.requirements_utils: Found torch version (2.5.1+cu121) contains a local version label (+cu121). MLflow logged a pip requirement for this package as 'torch==2.5.1' without the local version label to make it installable from PyPI. To specify pip requirements containing local version labels, please use `conda_env` or `pip_requirements`.\n",
            "2024/12/17 19:10:17 WARNING mlflow.utils.requirements_utils: The following packages were not found in the public PyPI package index as of 2024-12-04; if these packages are not present in the public PyPI index, you must install them manually before loading your model: {'google-genai'}\n",
            "2024/12/17 19:10:17 WARNING mlflow.utils.requirements_utils: Found torchvision version (0.20.1+cu121) contains a local version label (+cu121). MLflow logged a pip requirement for this package as 'torchvision==0.20.1' without the local version label to make it installable from PyPI. To specify pip requirements containing local version labels, please use `conda_env` or `pip_requirements`.\n",
            "\u001b[31m2024/12/17 19:10:17 WARNING mlflow.models.model: Model logged without a signature and input example. Please set `input_example` parameter when logging the model to auto infer the model signature.\u001b[0m\n"
          ]
        },
        {
          "output_type": "stream",
          "name": "stdout",
          "text": [
            "\n",
            "======== Epoch 17 / 60 ========\n",
            "Training...\n",
            "  Batch    40  of    222.    Elapsed: 0:00:08.\n",
            "  Batch    80  of    222.    Elapsed: 0:00:17.\n",
            "  Batch   120  of    222.    Elapsed: 0:00:25.\n",
            "  Batch   160  of    222.    Elapsed: 0:00:34.\n",
            "  Batch   200  of    222.    Elapsed: 0:00:42.\n",
            "\n",
            "  Average training loss: 0.63\n",
            "  Training epoch took: 0:00:47\n",
            "\n",
            "Running Validation...\n",
            "  Accuracy: 0.71\n",
            "  Validation Loss: 0.61\n",
            "  Validation took: 0:00:03\n"
          ]
        },
        {
          "output_type": "stream",
          "name": "stderr",
          "text": [
            "2024/12/17 19:11:28 WARNING mlflow.utils.requirements_utils: Found torch version (2.5.1+cu121) contains a local version label (+cu121). MLflow logged a pip requirement for this package as 'torch==2.5.1' without the local version label to make it installable from PyPI. To specify pip requirements containing local version labels, please use `conda_env` or `pip_requirements`.\n",
            "2024/12/17 19:11:40 WARNING mlflow.utils.requirements_utils: The following packages were not found in the public PyPI package index as of 2024-12-04; if these packages are not present in the public PyPI index, you must install them manually before loading your model: {'google-genai'}\n",
            "2024/12/17 19:11:40 WARNING mlflow.utils.requirements_utils: Found torchvision version (0.20.1+cu121) contains a local version label (+cu121). MLflow logged a pip requirement for this package as 'torchvision==0.20.1' without the local version label to make it installable from PyPI. To specify pip requirements containing local version labels, please use `conda_env` or `pip_requirements`.\n",
            "\u001b[31m2024/12/17 19:11:40 WARNING mlflow.models.model: Model logged without a signature and input example. Please set `input_example` parameter when logging the model to auto infer the model signature.\u001b[0m\n"
          ]
        },
        {
          "output_type": "stream",
          "name": "stdout",
          "text": [
            "\n",
            "======== Epoch 18 / 60 ========\n",
            "Training...\n",
            "  Batch    40  of    222.    Elapsed: 0:00:08.\n",
            "  Batch    80  of    222.    Elapsed: 0:00:17.\n",
            "  Batch   120  of    222.    Elapsed: 0:00:25.\n",
            "  Batch   160  of    222.    Elapsed: 0:00:34.\n",
            "  Batch   200  of    222.    Elapsed: 0:00:42.\n",
            "\n",
            "  Average training loss: 0.62\n",
            "  Training epoch took: 0:00:47\n",
            "\n",
            "Running Validation...\n",
            "  Accuracy: 0.65\n",
            "  Validation Loss: 0.66\n",
            "  Validation took: 0:00:03\n"
          ]
        },
        {
          "output_type": "stream",
          "name": "stderr",
          "text": [
            "2024/12/17 19:12:46 WARNING mlflow.utils.requirements_utils: Found torch version (2.5.1+cu121) contains a local version label (+cu121). MLflow logged a pip requirement for this package as 'torch==2.5.1' without the local version label to make it installable from PyPI. To specify pip requirements containing local version labels, please use `conda_env` or `pip_requirements`.\n",
            "2024/12/17 19:12:57 WARNING mlflow.utils.requirements_utils: The following packages were not found in the public PyPI package index as of 2024-12-04; if these packages are not present in the public PyPI index, you must install them manually before loading your model: {'google-genai'}\n",
            "2024/12/17 19:12:57 WARNING mlflow.utils.requirements_utils: Found torchvision version (0.20.1+cu121) contains a local version label (+cu121). MLflow logged a pip requirement for this package as 'torchvision==0.20.1' without the local version label to make it installable from PyPI. To specify pip requirements containing local version labels, please use `conda_env` or `pip_requirements`.\n",
            "\u001b[31m2024/12/17 19:12:57 WARNING mlflow.models.model: Model logged without a signature and input example. Please set `input_example` parameter when logging the model to auto infer the model signature.\u001b[0m\n"
          ]
        },
        {
          "output_type": "stream",
          "name": "stdout",
          "text": [
            "\n",
            "======== Epoch 19 / 60 ========\n",
            "Training...\n",
            "  Batch    40  of    222.    Elapsed: 0:00:08.\n",
            "  Batch    80  of    222.    Elapsed: 0:00:17.\n",
            "  Batch   120  of    222.    Elapsed: 0:00:25.\n",
            "  Batch   160  of    222.    Elapsed: 0:00:34.\n",
            "  Batch   200  of    222.    Elapsed: 0:00:42.\n",
            "\n",
            "  Average training loss: 0.61\n",
            "  Training epoch took: 0:00:47\n",
            "\n",
            "Running Validation...\n",
            "  Accuracy: 0.73\n",
            "  Validation Loss: 0.58\n",
            "  Validation took: 0:00:03\n"
          ]
        },
        {
          "output_type": "stream",
          "name": "stderr",
          "text": [
            "2024/12/17 19:14:47 WARNING mlflow.utils.requirements_utils: Found torch version (2.5.1+cu121) contains a local version label (+cu121). MLflow logged a pip requirement for this package as 'torch==2.5.1' without the local version label to make it installable from PyPI. To specify pip requirements containing local version labels, please use `conda_env` or `pip_requirements`.\n",
            "2024/12/17 19:14:58 WARNING mlflow.utils.requirements_utils: The following packages were not found in the public PyPI package index as of 2024-12-04; if these packages are not present in the public PyPI index, you must install them manually before loading your model: {'google-genai'}\n",
            "2024/12/17 19:14:58 WARNING mlflow.utils.requirements_utils: Found torchvision version (0.20.1+cu121) contains a local version label (+cu121). MLflow logged a pip requirement for this package as 'torchvision==0.20.1' without the local version label to make it installable from PyPI. To specify pip requirements containing local version labels, please use `conda_env` or `pip_requirements`.\n",
            "\u001b[31m2024/12/17 19:14:58 WARNING mlflow.models.model: Model logged without a signature and input example. Please set `input_example` parameter when logging the model to auto infer the model signature.\u001b[0m\n"
          ]
        },
        {
          "output_type": "stream",
          "name": "stdout",
          "text": [
            "\n",
            "======== Epoch 20 / 60 ========\n",
            "Training...\n",
            "  Batch    40  of    222.    Elapsed: 0:00:08.\n",
            "  Batch    80  of    222.    Elapsed: 0:00:17.\n",
            "  Batch   120  of    222.    Elapsed: 0:00:25.\n",
            "  Batch   160  of    222.    Elapsed: 0:00:34.\n",
            "  Batch   200  of    222.    Elapsed: 0:00:42.\n",
            "\n",
            "  Average training loss: 0.62\n",
            "  Training epoch took: 0:00:47\n",
            "\n",
            "Running Validation...\n",
            "  Accuracy: 0.71\n",
            "  Validation Loss: 0.62\n",
            "  Validation took: 0:00:03\n"
          ]
        },
        {
          "output_type": "stream",
          "name": "stderr",
          "text": [
            "2024/12/17 19:16:02 WARNING mlflow.utils.requirements_utils: Found torch version (2.5.1+cu121) contains a local version label (+cu121). MLflow logged a pip requirement for this package as 'torch==2.5.1' without the local version label to make it installable from PyPI. To specify pip requirements containing local version labels, please use `conda_env` or `pip_requirements`.\n",
            "2024/12/17 19:16:13 WARNING mlflow.utils.requirements_utils: The following packages were not found in the public PyPI package index as of 2024-12-04; if these packages are not present in the public PyPI index, you must install them manually before loading your model: {'google-genai'}\n",
            "2024/12/17 19:16:13 WARNING mlflow.utils.requirements_utils: Found torchvision version (0.20.1+cu121) contains a local version label (+cu121). MLflow logged a pip requirement for this package as 'torchvision==0.20.1' without the local version label to make it installable from PyPI. To specify pip requirements containing local version labels, please use `conda_env` or `pip_requirements`.\n",
            "\u001b[31m2024/12/17 19:16:13 WARNING mlflow.models.model: Model logged without a signature and input example. Please set `input_example` parameter when logging the model to auto infer the model signature.\u001b[0m\n"
          ]
        },
        {
          "output_type": "stream",
          "name": "stdout",
          "text": [
            "\n",
            "======== Epoch 21 / 60 ========\n",
            "Training...\n",
            "  Batch    40  of    222.    Elapsed: 0:00:08.\n",
            "  Batch    80  of    222.    Elapsed: 0:00:17.\n",
            "  Batch   120  of    222.    Elapsed: 0:00:25.\n",
            "  Batch   160  of    222.    Elapsed: 0:00:34.\n",
            "  Batch   200  of    222.    Elapsed: 0:00:42.\n",
            "\n",
            "  Average training loss: 0.61\n",
            "  Training epoch took: 0:00:47\n",
            "\n",
            "Running Validation...\n",
            "  Accuracy: 0.70\n",
            "  Validation Loss: 0.62\n",
            "  Validation took: 0:00:03\n"
          ]
        },
        {
          "output_type": "stream",
          "name": "stderr",
          "text": [
            "2024/12/17 19:17:29 WARNING mlflow.utils.requirements_utils: Found torch version (2.5.1+cu121) contains a local version label (+cu121). MLflow logged a pip requirement for this package as 'torch==2.5.1' without the local version label to make it installable from PyPI. To specify pip requirements containing local version labels, please use `conda_env` or `pip_requirements`.\n",
            "2024/12/17 19:17:40 WARNING mlflow.utils.requirements_utils: The following packages were not found in the public PyPI package index as of 2024-12-04; if these packages are not present in the public PyPI index, you must install them manually before loading your model: {'google-genai'}\n",
            "2024/12/17 19:17:40 WARNING mlflow.utils.requirements_utils: Found torchvision version (0.20.1+cu121) contains a local version label (+cu121). MLflow logged a pip requirement for this package as 'torchvision==0.20.1' without the local version label to make it installable from PyPI. To specify pip requirements containing local version labels, please use `conda_env` or `pip_requirements`.\n",
            "\u001b[31m2024/12/17 19:17:40 WARNING mlflow.models.model: Model logged without a signature and input example. Please set `input_example` parameter when logging the model to auto infer the model signature.\u001b[0m\n"
          ]
        },
        {
          "output_type": "stream",
          "name": "stdout",
          "text": [
            "\n",
            "======== Epoch 22 / 60 ========\n",
            "Training...\n",
            "  Batch    40  of    222.    Elapsed: 0:00:08.\n",
            "  Batch    80  of    222.    Elapsed: 0:00:17.\n",
            "  Batch   120  of    222.    Elapsed: 0:00:25.\n",
            "  Batch   160  of    222.    Elapsed: 0:00:34.\n",
            "  Batch   200  of    222.    Elapsed: 0:00:42.\n",
            "\n",
            "  Average training loss: 0.61\n",
            "  Training epoch took: 0:00:47\n",
            "\n",
            "Running Validation...\n",
            "  Accuracy: 0.71\n",
            "  Validation Loss: 0.62\n",
            "  Validation took: 0:00:03\n"
          ]
        },
        {
          "output_type": "stream",
          "name": "stderr",
          "text": [
            "2024/12/17 19:18:46 WARNING mlflow.utils.requirements_utils: Found torch version (2.5.1+cu121) contains a local version label (+cu121). MLflow logged a pip requirement for this package as 'torch==2.5.1' without the local version label to make it installable from PyPI. To specify pip requirements containing local version labels, please use `conda_env` or `pip_requirements`.\n",
            "2024/12/17 19:18:57 WARNING mlflow.utils.requirements_utils: The following packages were not found in the public PyPI package index as of 2024-12-04; if these packages are not present in the public PyPI index, you must install them manually before loading your model: {'google-genai'}\n",
            "2024/12/17 19:18:57 WARNING mlflow.utils.requirements_utils: Found torchvision version (0.20.1+cu121) contains a local version label (+cu121). MLflow logged a pip requirement for this package as 'torchvision==0.20.1' without the local version label to make it installable from PyPI. To specify pip requirements containing local version labels, please use `conda_env` or `pip_requirements`.\n",
            "\u001b[31m2024/12/17 19:18:57 WARNING mlflow.models.model: Model logged without a signature and input example. Please set `input_example` parameter when logging the model to auto infer the model signature.\u001b[0m\n"
          ]
        },
        {
          "output_type": "stream",
          "name": "stdout",
          "text": [
            "\n",
            "======== Epoch 23 / 60 ========\n",
            "Training...\n",
            "  Batch    40  of    222.    Elapsed: 0:00:08.\n",
            "  Batch    80  of    222.    Elapsed: 0:00:17.\n",
            "  Batch   120  of    222.    Elapsed: 0:00:25.\n",
            "  Batch   160  of    222.    Elapsed: 0:00:34.\n",
            "  Batch   200  of    222.    Elapsed: 0:00:42.\n",
            "\n",
            "  Average training loss: 0.61\n",
            "  Training epoch took: 0:00:47\n",
            "\n",
            "Running Validation...\n",
            "  Accuracy: 0.72\n",
            "  Validation Loss: 0.60\n",
            "  Validation took: 0:00:03\n"
          ]
        },
        {
          "output_type": "stream",
          "name": "stderr",
          "text": [
            "2024/12/17 19:20:06 WARNING mlflow.utils.requirements_utils: Found torch version (2.5.1+cu121) contains a local version label (+cu121). MLflow logged a pip requirement for this package as 'torch==2.5.1' without the local version label to make it installable from PyPI. To specify pip requirements containing local version labels, please use `conda_env` or `pip_requirements`.\n",
            "2024/12/17 19:20:18 WARNING mlflow.utils.requirements_utils: The following packages were not found in the public PyPI package index as of 2024-12-04; if these packages are not present in the public PyPI index, you must install them manually before loading your model: {'google-genai'}\n",
            "2024/12/17 19:20:18 WARNING mlflow.utils.requirements_utils: Found torchvision version (0.20.1+cu121) contains a local version label (+cu121). MLflow logged a pip requirement for this package as 'torchvision==0.20.1' without the local version label to make it installable from PyPI. To specify pip requirements containing local version labels, please use `conda_env` or `pip_requirements`.\n",
            "\u001b[31m2024/12/17 19:20:18 WARNING mlflow.models.model: Model logged without a signature and input example. Please set `input_example` parameter when logging the model to auto infer the model signature.\u001b[0m\n"
          ]
        },
        {
          "output_type": "stream",
          "name": "stdout",
          "text": [
            "\n",
            "======== Epoch 24 / 60 ========\n",
            "Training...\n",
            "  Batch    40  of    222.    Elapsed: 0:00:08.\n",
            "  Batch    80  of    222.    Elapsed: 0:00:17.\n",
            "  Batch   120  of    222.    Elapsed: 0:00:25.\n",
            "  Batch   160  of    222.    Elapsed: 0:00:34.\n",
            "  Batch   200  of    222.    Elapsed: 0:00:42.\n",
            "\n",
            "  Average training loss: 0.60\n",
            "  Training epoch took: 0:00:47\n",
            "\n",
            "Running Validation...\n",
            "  Accuracy: 0.72\n",
            "  Validation Loss: 0.60\n",
            "  Validation took: 0:00:03\n"
          ]
        },
        {
          "output_type": "stream",
          "name": "stderr",
          "text": [
            "2024/12/17 19:21:26 WARNING mlflow.utils.requirements_utils: Found torch version (2.5.1+cu121) contains a local version label (+cu121). MLflow logged a pip requirement for this package as 'torch==2.5.1' without the local version label to make it installable from PyPI. To specify pip requirements containing local version labels, please use `conda_env` or `pip_requirements`.\n",
            "2024/12/17 19:21:38 WARNING mlflow.utils.requirements_utils: The following packages were not found in the public PyPI package index as of 2024-12-04; if these packages are not present in the public PyPI index, you must install them manually before loading your model: {'google-genai'}\n",
            "2024/12/17 19:21:38 WARNING mlflow.utils.requirements_utils: Found torchvision version (0.20.1+cu121) contains a local version label (+cu121). MLflow logged a pip requirement for this package as 'torchvision==0.20.1' without the local version label to make it installable from PyPI. To specify pip requirements containing local version labels, please use `conda_env` or `pip_requirements`.\n",
            "\u001b[31m2024/12/17 19:21:38 WARNING mlflow.models.model: Model logged without a signature and input example. Please set `input_example` parameter when logging the model to auto infer the model signature.\u001b[0m\n"
          ]
        },
        {
          "output_type": "stream",
          "name": "stdout",
          "text": [
            "\n",
            "======== Epoch 25 / 60 ========\n",
            "Training...\n",
            "  Batch    40  of    222.    Elapsed: 0:00:08.\n",
            "  Batch    80  of    222.    Elapsed: 0:00:17.\n",
            "  Batch   120  of    222.    Elapsed: 0:00:25.\n",
            "  Batch   160  of    222.    Elapsed: 0:00:34.\n",
            "  Batch   200  of    222.    Elapsed: 0:00:42.\n",
            "\n",
            "  Average training loss: 0.61\n",
            "  Training epoch took: 0:00:47\n",
            "\n",
            "Running Validation...\n",
            "  Accuracy: 0.73\n",
            "  Validation Loss: 0.58\n",
            "  Validation took: 0:00:03\n"
          ]
        },
        {
          "output_type": "stream",
          "name": "stderr",
          "text": [
            "2024/12/17 19:22:48 WARNING mlflow.utils.requirements_utils: Found torch version (2.5.1+cu121) contains a local version label (+cu121). MLflow logged a pip requirement for this package as 'torch==2.5.1' without the local version label to make it installable from PyPI. To specify pip requirements containing local version labels, please use `conda_env` or `pip_requirements`.\n",
            "2024/12/17 19:22:59 WARNING mlflow.utils.requirements_utils: The following packages were not found in the public PyPI package index as of 2024-12-04; if these packages are not present in the public PyPI index, you must install them manually before loading your model: {'google-genai'}\n",
            "2024/12/17 19:22:59 WARNING mlflow.utils.requirements_utils: Found torchvision version (0.20.1+cu121) contains a local version label (+cu121). MLflow logged a pip requirement for this package as 'torchvision==0.20.1' without the local version label to make it installable from PyPI. To specify pip requirements containing local version labels, please use `conda_env` or `pip_requirements`.\n",
            "\u001b[31m2024/12/17 19:22:59 WARNING mlflow.models.model: Model logged without a signature and input example. Please set `input_example` parameter when logging the model to auto infer the model signature.\u001b[0m\n"
          ]
        },
        {
          "output_type": "stream",
          "name": "stdout",
          "text": [
            "\n",
            "======== Epoch 26 / 60 ========\n",
            "Training...\n",
            "  Batch    40  of    222.    Elapsed: 0:00:08.\n",
            "  Batch    80  of    222.    Elapsed: 0:00:17.\n",
            "  Batch   120  of    222.    Elapsed: 0:00:25.\n",
            "  Batch   160  of    222.    Elapsed: 0:00:34.\n",
            "  Batch   200  of    222.    Elapsed: 0:00:42.\n",
            "\n",
            "  Average training loss: 0.60\n",
            "  Training epoch took: 0:00:47\n",
            "\n",
            "Running Validation...\n",
            "  Accuracy: 0.73\n",
            "  Validation Loss: 0.59\n",
            "  Validation took: 0:00:03\n"
          ]
        },
        {
          "output_type": "stream",
          "name": "stderr",
          "text": [
            "2024/12/17 19:24:11 WARNING mlflow.utils.requirements_utils: Found torch version (2.5.1+cu121) contains a local version label (+cu121). MLflow logged a pip requirement for this package as 'torch==2.5.1' without the local version label to make it installable from PyPI. To specify pip requirements containing local version labels, please use `conda_env` or `pip_requirements`.\n",
            "2024/12/17 19:24:23 WARNING mlflow.utils.requirements_utils: The following packages were not found in the public PyPI package index as of 2024-12-04; if these packages are not present in the public PyPI index, you must install them manually before loading your model: {'google-genai'}\n",
            "2024/12/17 19:24:23 WARNING mlflow.utils.requirements_utils: Found torchvision version (0.20.1+cu121) contains a local version label (+cu121). MLflow logged a pip requirement for this package as 'torchvision==0.20.1' without the local version label to make it installable from PyPI. To specify pip requirements containing local version labels, please use `conda_env` or `pip_requirements`.\n",
            "\u001b[31m2024/12/17 19:24:23 WARNING mlflow.models.model: Model logged without a signature and input example. Please set `input_example` parameter when logging the model to auto infer the model signature.\u001b[0m\n"
          ]
        },
        {
          "output_type": "stream",
          "name": "stdout",
          "text": [
            "\n",
            "======== Epoch 27 / 60 ========\n",
            "Training...\n",
            "  Batch    40  of    222.    Elapsed: 0:00:08.\n",
            "  Batch    80  of    222.    Elapsed: 0:00:17.\n",
            "  Batch   120  of    222.    Elapsed: 0:00:25.\n",
            "  Batch   160  of    222.    Elapsed: 0:00:34.\n",
            "  Batch   200  of    222.    Elapsed: 0:00:42.\n",
            "\n",
            "  Average training loss: 0.60\n",
            "  Training epoch took: 0:00:47\n",
            "\n",
            "Running Validation...\n",
            "  Accuracy: 0.73\n",
            "  Validation Loss: 0.59\n",
            "  Validation took: 0:00:03\n"
          ]
        },
        {
          "output_type": "stream",
          "name": "stderr",
          "text": [
            "2024/12/17 19:25:26 WARNING mlflow.utils.requirements_utils: Found torch version (2.5.1+cu121) contains a local version label (+cu121). MLflow logged a pip requirement for this package as 'torch==2.5.1' without the local version label to make it installable from PyPI. To specify pip requirements containing local version labels, please use `conda_env` or `pip_requirements`.\n",
            "2024/12/17 19:25:38 WARNING mlflow.utils.requirements_utils: The following packages were not found in the public PyPI package index as of 2024-12-04; if these packages are not present in the public PyPI index, you must install them manually before loading your model: {'google-genai'}\n",
            "2024/12/17 19:25:38 WARNING mlflow.utils.requirements_utils: Found torchvision version (0.20.1+cu121) contains a local version label (+cu121). MLflow logged a pip requirement for this package as 'torchvision==0.20.1' without the local version label to make it installable from PyPI. To specify pip requirements containing local version labels, please use `conda_env` or `pip_requirements`.\n",
            "\u001b[31m2024/12/17 19:25:38 WARNING mlflow.models.model: Model logged without a signature and input example. Please set `input_example` parameter when logging the model to auto infer the model signature.\u001b[0m\n"
          ]
        },
        {
          "output_type": "stream",
          "name": "stdout",
          "text": [
            "\n",
            "======== Epoch 28 / 60 ========\n",
            "Training...\n",
            "  Batch    40  of    222.    Elapsed: 0:00:08.\n",
            "  Batch    80  of    222.    Elapsed: 0:00:17.\n",
            "  Batch   120  of    222.    Elapsed: 0:00:26.\n",
            "  Batch   160  of    222.    Elapsed: 0:00:34.\n",
            "  Batch   200  of    222.    Elapsed: 0:00:43.\n",
            "\n",
            "  Average training loss: 0.59\n",
            "  Training epoch took: 0:00:48\n",
            "\n",
            "Running Validation...\n",
            "  Accuracy: 0.74\n",
            "  Validation Loss: 0.56\n",
            "  Validation took: 0:00:03\n"
          ]
        },
        {
          "output_type": "stream",
          "name": "stderr",
          "text": [
            "2024/12/17 19:26:43 WARNING mlflow.utils.requirements_utils: Found torch version (2.5.1+cu121) contains a local version label (+cu121). MLflow logged a pip requirement for this package as 'torch==2.5.1' without the local version label to make it installable from PyPI. To specify pip requirements containing local version labels, please use `conda_env` or `pip_requirements`.\n",
            "2024/12/17 19:26:55 WARNING mlflow.utils.requirements_utils: The following packages were not found in the public PyPI package index as of 2024-12-04; if these packages are not present in the public PyPI index, you must install them manually before loading your model: {'google-genai'}\n",
            "2024/12/17 19:26:55 WARNING mlflow.utils.requirements_utils: Found torchvision version (0.20.1+cu121) contains a local version label (+cu121). MLflow logged a pip requirement for this package as 'torchvision==0.20.1' without the local version label to make it installable from PyPI. To specify pip requirements containing local version labels, please use `conda_env` or `pip_requirements`.\n",
            "\u001b[31m2024/12/17 19:26:55 WARNING mlflow.models.model: Model logged without a signature and input example. Please set `input_example` parameter when logging the model to auto infer the model signature.\u001b[0m\n"
          ]
        },
        {
          "output_type": "stream",
          "name": "stdout",
          "text": [
            "\n",
            "======== Epoch 29 / 60 ========\n",
            "Training...\n",
            "  Batch    40  of    222.    Elapsed: 0:00:08.\n",
            "  Batch    80  of    222.    Elapsed: 0:00:17.\n",
            "  Batch   120  of    222.    Elapsed: 0:00:25.\n",
            "  Batch   160  of    222.    Elapsed: 0:00:34.\n",
            "  Batch   200  of    222.    Elapsed: 0:00:42.\n",
            "\n",
            "  Average training loss: 0.59\n",
            "  Training epoch took: 0:00:47\n",
            "\n",
            "Running Validation...\n",
            "  Accuracy: 0.72\n",
            "  Validation Loss: 0.60\n",
            "  Validation took: 0:00:03\n"
          ]
        },
        {
          "output_type": "stream",
          "name": "stderr",
          "text": [
            "2024/12/17 19:28:10 WARNING mlflow.utils.requirements_utils: Found torch version (2.5.1+cu121) contains a local version label (+cu121). MLflow logged a pip requirement for this package as 'torch==2.5.1' without the local version label to make it installable from PyPI. To specify pip requirements containing local version labels, please use `conda_env` or `pip_requirements`.\n",
            "2024/12/17 19:28:21 WARNING mlflow.utils.requirements_utils: The following packages were not found in the public PyPI package index as of 2024-12-04; if these packages are not present in the public PyPI index, you must install them manually before loading your model: {'google-genai'}\n",
            "2024/12/17 19:28:21 WARNING mlflow.utils.requirements_utils: Found torchvision version (0.20.1+cu121) contains a local version label (+cu121). MLflow logged a pip requirement for this package as 'torchvision==0.20.1' without the local version label to make it installable from PyPI. To specify pip requirements containing local version labels, please use `conda_env` or `pip_requirements`.\n",
            "\u001b[31m2024/12/17 19:28:21 WARNING mlflow.models.model: Model logged without a signature and input example. Please set `input_example` parameter when logging the model to auto infer the model signature.\u001b[0m\n"
          ]
        },
        {
          "output_type": "stream",
          "name": "stdout",
          "text": [
            "\n",
            "======== Epoch 30 / 60 ========\n",
            "Training...\n",
            "  Batch    40  of    222.    Elapsed: 0:00:08.\n",
            "  Batch    80  of    222.    Elapsed: 0:00:17.\n",
            "  Batch   120  of    222.    Elapsed: 0:00:25.\n",
            "  Batch   160  of    222.    Elapsed: 0:00:34.\n",
            "  Batch   200  of    222.    Elapsed: 0:00:42.\n",
            "\n",
            "  Average training loss: 0.59\n",
            "  Training epoch took: 0:00:47\n",
            "\n",
            "Running Validation...\n",
            "  Accuracy: 0.74\n",
            "  Validation Loss: 0.55\n",
            "  Validation took: 0:00:03\n"
          ]
        },
        {
          "output_type": "stream",
          "name": "stderr",
          "text": [
            "2024/12/17 19:29:27 WARNING mlflow.utils.requirements_utils: Found torch version (2.5.1+cu121) contains a local version label (+cu121). MLflow logged a pip requirement for this package as 'torch==2.5.1' without the local version label to make it installable from PyPI. To specify pip requirements containing local version labels, please use `conda_env` or `pip_requirements`.\n",
            "2024/12/17 19:29:38 WARNING mlflow.utils.requirements_utils: The following packages were not found in the public PyPI package index as of 2024-12-04; if these packages are not present in the public PyPI index, you must install them manually before loading your model: {'google-genai'}\n",
            "2024/12/17 19:29:38 WARNING mlflow.utils.requirements_utils: Found torchvision version (0.20.1+cu121) contains a local version label (+cu121). MLflow logged a pip requirement for this package as 'torchvision==0.20.1' without the local version label to make it installable from PyPI. To specify pip requirements containing local version labels, please use `conda_env` or `pip_requirements`.\n",
            "\u001b[31m2024/12/17 19:29:38 WARNING mlflow.models.model: Model logged without a signature and input example. Please set `input_example` parameter when logging the model to auto infer the model signature.\u001b[0m\n"
          ]
        },
        {
          "output_type": "stream",
          "name": "stdout",
          "text": [
            "\n",
            "======== Epoch 31 / 60 ========\n",
            "Training...\n",
            "  Batch    40  of    222.    Elapsed: 0:00:08.\n",
            "  Batch    80  of    222.    Elapsed: 0:00:17.\n",
            "  Batch   120  of    222.    Elapsed: 0:00:25.\n",
            "  Batch   160  of    222.    Elapsed: 0:00:34.\n",
            "  Batch   200  of    222.    Elapsed: 0:00:42.\n",
            "\n",
            "  Average training loss: 0.59\n",
            "  Training epoch took: 0:00:47\n",
            "\n",
            "Running Validation...\n",
            "  Accuracy: 0.72\n",
            "  Validation Loss: 0.58\n",
            "  Validation took: 0:00:03\n"
          ]
        },
        {
          "output_type": "stream",
          "name": "stderr",
          "text": [
            "2024/12/17 19:30:49 WARNING mlflow.utils.requirements_utils: Found torch version (2.5.1+cu121) contains a local version label (+cu121). MLflow logged a pip requirement for this package as 'torch==2.5.1' without the local version label to make it installable from PyPI. To specify pip requirements containing local version labels, please use `conda_env` or `pip_requirements`.\n",
            "2024/12/17 19:31:00 WARNING mlflow.utils.requirements_utils: The following packages were not found in the public PyPI package index as of 2024-12-04; if these packages are not present in the public PyPI index, you must install them manually before loading your model: {'google-genai'}\n",
            "2024/12/17 19:31:00 WARNING mlflow.utils.requirements_utils: Found torchvision version (0.20.1+cu121) contains a local version label (+cu121). MLflow logged a pip requirement for this package as 'torchvision==0.20.1' without the local version label to make it installable from PyPI. To specify pip requirements containing local version labels, please use `conda_env` or `pip_requirements`.\n",
            "\u001b[31m2024/12/17 19:31:00 WARNING mlflow.models.model: Model logged without a signature and input example. Please set `input_example` parameter when logging the model to auto infer the model signature.\u001b[0m\n"
          ]
        },
        {
          "output_type": "stream",
          "name": "stdout",
          "text": [
            "\n",
            "======== Epoch 32 / 60 ========\n",
            "Training...\n",
            "  Batch    40  of    222.    Elapsed: 0:00:08.\n",
            "  Batch    80  of    222.    Elapsed: 0:00:17.\n",
            "  Batch   120  of    222.    Elapsed: 0:00:25.\n",
            "  Batch   160  of    222.    Elapsed: 0:00:34.\n",
            "  Batch   200  of    222.    Elapsed: 0:00:42.\n",
            "\n",
            "  Average training loss: 0.58\n",
            "  Training epoch took: 0:00:47\n",
            "\n",
            "Running Validation...\n",
            "  Accuracy: 0.74\n",
            "  Validation Loss: 0.56\n",
            "  Validation took: 0:00:03\n"
          ]
        },
        {
          "output_type": "stream",
          "name": "stderr",
          "text": [
            "2024/12/17 19:32:05 WARNING mlflow.utils.requirements_utils: Found torch version (2.5.1+cu121) contains a local version label (+cu121). MLflow logged a pip requirement for this package as 'torch==2.5.1' without the local version label to make it installable from PyPI. To specify pip requirements containing local version labels, please use `conda_env` or `pip_requirements`.\n",
            "2024/12/17 19:32:17 WARNING mlflow.utils.requirements_utils: The following packages were not found in the public PyPI package index as of 2024-12-04; if these packages are not present in the public PyPI index, you must install them manually before loading your model: {'google-genai'}\n",
            "2024/12/17 19:32:17 WARNING mlflow.utils.requirements_utils: Found torchvision version (0.20.1+cu121) contains a local version label (+cu121). MLflow logged a pip requirement for this package as 'torchvision==0.20.1' without the local version label to make it installable from PyPI. To specify pip requirements containing local version labels, please use `conda_env` or `pip_requirements`.\n",
            "\u001b[31m2024/12/17 19:32:17 WARNING mlflow.models.model: Model logged without a signature and input example. Please set `input_example` parameter when logging the model to auto infer the model signature.\u001b[0m\n"
          ]
        },
        {
          "output_type": "stream",
          "name": "stdout",
          "text": [
            "\n",
            "======== Epoch 33 / 60 ========\n",
            "Training...\n",
            "  Batch    40  of    222.    Elapsed: 0:00:08.\n",
            "  Batch    80  of    222.    Elapsed: 0:00:17.\n",
            "  Batch   120  of    222.    Elapsed: 0:00:25.\n",
            "  Batch   160  of    222.    Elapsed: 0:00:34.\n",
            "  Batch   200  of    222.    Elapsed: 0:00:42.\n",
            "\n",
            "  Average training loss: 0.59\n",
            "  Training epoch took: 0:00:47\n",
            "\n",
            "Running Validation...\n",
            "  Accuracy: 0.74\n",
            "  Validation Loss: 0.56\n",
            "  Validation took: 0:00:03\n"
          ]
        },
        {
          "output_type": "stream",
          "name": "stderr",
          "text": [
            "2024/12/17 19:33:59 WARNING mlflow.utils.requirements_utils: Found torch version (2.5.1+cu121) contains a local version label (+cu121). MLflow logged a pip requirement for this package as 'torch==2.5.1' without the local version label to make it installable from PyPI. To specify pip requirements containing local version labels, please use `conda_env` or `pip_requirements`.\n",
            "2024/12/17 19:34:11 WARNING mlflow.utils.requirements_utils: The following packages were not found in the public PyPI package index as of 2024-12-04; if these packages are not present in the public PyPI index, you must install them manually before loading your model: {'google-genai'}\n",
            "2024/12/17 19:34:11 WARNING mlflow.utils.requirements_utils: Found torchvision version (0.20.1+cu121) contains a local version label (+cu121). MLflow logged a pip requirement for this package as 'torchvision==0.20.1' without the local version label to make it installable from PyPI. To specify pip requirements containing local version labels, please use `conda_env` or `pip_requirements`.\n",
            "\u001b[31m2024/12/17 19:34:11 WARNING mlflow.models.model: Model logged without a signature and input example. Please set `input_example` parameter when logging the model to auto infer the model signature.\u001b[0m\n"
          ]
        },
        {
          "output_type": "stream",
          "name": "stdout",
          "text": [
            "\n",
            "======== Epoch 34 / 60 ========\n",
            "Training...\n",
            "  Batch    40  of    222.    Elapsed: 0:00:08.\n",
            "  Batch    80  of    222.    Elapsed: 0:00:17.\n",
            "  Batch   120  of    222.    Elapsed: 0:00:25.\n",
            "  Batch   160  of    222.    Elapsed: 0:00:34.\n",
            "  Batch   200  of    222.    Elapsed: 0:00:42.\n",
            "\n",
            "  Average training loss: 0.58\n",
            "  Training epoch took: 0:00:47\n",
            "\n",
            "Running Validation...\n",
            "  Accuracy: 0.73\n",
            "  Validation Loss: 0.58\n",
            "  Validation took: 0:00:03\n"
          ]
        },
        {
          "output_type": "stream",
          "name": "stderr",
          "text": [
            "2024/12/17 19:35:10 WARNING mlflow.utils.requirements_utils: Found torch version (2.5.1+cu121) contains a local version label (+cu121). MLflow logged a pip requirement for this package as 'torch==2.5.1' without the local version label to make it installable from PyPI. To specify pip requirements containing local version labels, please use `conda_env` or `pip_requirements`.\n",
            "2024/12/17 19:35:21 WARNING mlflow.utils.requirements_utils: The following packages were not found in the public PyPI package index as of 2024-12-04; if these packages are not present in the public PyPI index, you must install them manually before loading your model: {'google-genai'}\n",
            "2024/12/17 19:35:21 WARNING mlflow.utils.requirements_utils: Found torchvision version (0.20.1+cu121) contains a local version label (+cu121). MLflow logged a pip requirement for this package as 'torchvision==0.20.1' without the local version label to make it installable from PyPI. To specify pip requirements containing local version labels, please use `conda_env` or `pip_requirements`.\n",
            "\u001b[31m2024/12/17 19:35:21 WARNING mlflow.models.model: Model logged without a signature and input example. Please set `input_example` parameter when logging the model to auto infer the model signature.\u001b[0m\n"
          ]
        },
        {
          "output_type": "stream",
          "name": "stdout",
          "text": [
            "\n",
            "======== Epoch 35 / 60 ========\n",
            "Training...\n",
            "  Batch    40  of    222.    Elapsed: 0:00:08.\n",
            "  Batch    80  of    222.    Elapsed: 0:00:17.\n",
            "  Batch   120  of    222.    Elapsed: 0:00:25.\n",
            "  Batch   160  of    222.    Elapsed: 0:00:34.\n",
            "  Batch   200  of    222.    Elapsed: 0:00:42.\n",
            "\n",
            "  Average training loss: 0.57\n",
            "  Training epoch took: 0:00:47\n",
            "\n",
            "Running Validation...\n",
            "  Accuracy: 0.74\n",
            "  Validation Loss: 0.56\n",
            "  Validation took: 0:00:03\n"
          ]
        },
        {
          "output_type": "stream",
          "name": "stderr",
          "text": [
            "2024/12/17 19:37:14 WARNING mlflow.utils.requirements_utils: Found torch version (2.5.1+cu121) contains a local version label (+cu121). MLflow logged a pip requirement for this package as 'torch==2.5.1' without the local version label to make it installable from PyPI. To specify pip requirements containing local version labels, please use `conda_env` or `pip_requirements`.\n",
            "2024/12/17 19:37:25 WARNING mlflow.utils.requirements_utils: The following packages were not found in the public PyPI package index as of 2024-12-04; if these packages are not present in the public PyPI index, you must install them manually before loading your model: {'google-genai'}\n",
            "2024/12/17 19:37:25 WARNING mlflow.utils.requirements_utils: Found torchvision version (0.20.1+cu121) contains a local version label (+cu121). MLflow logged a pip requirement for this package as 'torchvision==0.20.1' without the local version label to make it installable from PyPI. To specify pip requirements containing local version labels, please use `conda_env` or `pip_requirements`.\n",
            "\u001b[31m2024/12/17 19:37:25 WARNING mlflow.models.model: Model logged without a signature and input example. Please set `input_example` parameter when logging the model to auto infer the model signature.\u001b[0m\n"
          ]
        },
        {
          "output_type": "stream",
          "name": "stdout",
          "text": [
            "\n",
            "======== Epoch 36 / 60 ========\n",
            "Training...\n",
            "  Batch    40  of    222.    Elapsed: 0:00:08.\n",
            "  Batch    80  of    222.    Elapsed: 0:00:17.\n",
            "  Batch   120  of    222.    Elapsed: 0:00:25.\n",
            "  Batch   160  of    222.    Elapsed: 0:00:34.\n",
            "  Batch   200  of    222.    Elapsed: 0:00:42.\n",
            "\n",
            "  Average training loss: 0.57\n",
            "  Training epoch took: 0:00:47\n",
            "\n",
            "Running Validation...\n",
            "  Accuracy: 0.75\n",
            "  Validation Loss: 0.55\n",
            "  Validation took: 0:00:03\n"
          ]
        },
        {
          "output_type": "stream",
          "name": "stderr",
          "text": [
            "2024/12/17 19:38:31 WARNING mlflow.utils.requirements_utils: Found torch version (2.5.1+cu121) contains a local version label (+cu121). MLflow logged a pip requirement for this package as 'torch==2.5.1' without the local version label to make it installable from PyPI. To specify pip requirements containing local version labels, please use `conda_env` or `pip_requirements`.\n",
            "2024/12/17 19:38:41 WARNING mlflow.utils.requirements_utils: The following packages were not found in the public PyPI package index as of 2024-12-04; if these packages are not present in the public PyPI index, you must install them manually before loading your model: {'google-genai'}\n",
            "2024/12/17 19:38:41 WARNING mlflow.utils.requirements_utils: Found torchvision version (0.20.1+cu121) contains a local version label (+cu121). MLflow logged a pip requirement for this package as 'torchvision==0.20.1' without the local version label to make it installable from PyPI. To specify pip requirements containing local version labels, please use `conda_env` or `pip_requirements`.\n",
            "\u001b[31m2024/12/17 19:38:42 WARNING mlflow.models.model: Model logged without a signature and input example. Please set `input_example` parameter when logging the model to auto infer the model signature.\u001b[0m\n"
          ]
        },
        {
          "output_type": "stream",
          "name": "stdout",
          "text": [
            "\n",
            "======== Epoch 37 / 60 ========\n",
            "Training...\n",
            "  Batch    40  of    222.    Elapsed: 0:00:08.\n",
            "  Batch    80  of    222.    Elapsed: 0:00:17.\n",
            "  Batch   120  of    222.    Elapsed: 0:00:25.\n",
            "  Batch   160  of    222.    Elapsed: 0:00:34.\n",
            "  Batch   200  of    222.    Elapsed: 0:00:42.\n",
            "\n",
            "  Average training loss: 0.57\n",
            "  Training epoch took: 0:00:47\n",
            "\n",
            "Running Validation...\n",
            "  Accuracy: 0.72\n",
            "  Validation Loss: 0.59\n",
            "  Validation took: 0:00:03\n"
          ]
        },
        {
          "output_type": "stream",
          "name": "stderr",
          "text": [
            "2024/12/17 19:39:56 WARNING mlflow.utils.requirements_utils: Found torch version (2.5.1+cu121) contains a local version label (+cu121). MLflow logged a pip requirement for this package as 'torch==2.5.1' without the local version label to make it installable from PyPI. To specify pip requirements containing local version labels, please use `conda_env` or `pip_requirements`.\n",
            "2024/12/17 19:40:08 WARNING mlflow.utils.requirements_utils: The following packages were not found in the public PyPI package index as of 2024-12-04; if these packages are not present in the public PyPI index, you must install them manually before loading your model: {'google-genai'}\n",
            "2024/12/17 19:40:08 WARNING mlflow.utils.requirements_utils: Found torchvision version (0.20.1+cu121) contains a local version label (+cu121). MLflow logged a pip requirement for this package as 'torchvision==0.20.1' without the local version label to make it installable from PyPI. To specify pip requirements containing local version labels, please use `conda_env` or `pip_requirements`.\n",
            "\u001b[31m2024/12/17 19:40:08 WARNING mlflow.models.model: Model logged without a signature and input example. Please set `input_example` parameter when logging the model to auto infer the model signature.\u001b[0m\n"
          ]
        },
        {
          "output_type": "stream",
          "name": "stdout",
          "text": [
            "\n",
            "======== Epoch 38 / 60 ========\n",
            "Training...\n",
            "  Batch    40  of    222.    Elapsed: 0:00:08.\n",
            "  Batch    80  of    222.    Elapsed: 0:00:17.\n",
            "  Batch   120  of    222.    Elapsed: 0:00:25.\n",
            "  Batch   160  of    222.    Elapsed: 0:00:34.\n",
            "  Batch   200  of    222.    Elapsed: 0:00:42.\n",
            "\n",
            "  Average training loss: 0.57\n",
            "  Training epoch took: 0:00:47\n",
            "\n",
            "Running Validation...\n",
            "  Accuracy: 0.73\n",
            "  Validation Loss: 0.57\n",
            "  Validation took: 0:00:03\n"
          ]
        },
        {
          "output_type": "stream",
          "name": "stderr",
          "text": [
            "2024/12/17 19:41:54 WARNING mlflow.utils.requirements_utils: Found torch version (2.5.1+cu121) contains a local version label (+cu121). MLflow logged a pip requirement for this package as 'torch==2.5.1' without the local version label to make it installable from PyPI. To specify pip requirements containing local version labels, please use `conda_env` or `pip_requirements`.\n",
            "2024/12/17 19:42:05 WARNING mlflow.utils.requirements_utils: The following packages were not found in the public PyPI package index as of 2024-12-04; if these packages are not present in the public PyPI index, you must install them manually before loading your model: {'google-genai'}\n",
            "2024/12/17 19:42:05 WARNING mlflow.utils.requirements_utils: Found torchvision version (0.20.1+cu121) contains a local version label (+cu121). MLflow logged a pip requirement for this package as 'torchvision==0.20.1' without the local version label to make it installable from PyPI. To specify pip requirements containing local version labels, please use `conda_env` or `pip_requirements`.\n",
            "\u001b[31m2024/12/17 19:42:05 WARNING mlflow.models.model: Model logged without a signature and input example. Please set `input_example` parameter when logging the model to auto infer the model signature.\u001b[0m\n"
          ]
        },
        {
          "output_type": "stream",
          "name": "stdout",
          "text": [
            "\n",
            "======== Epoch 39 / 60 ========\n",
            "Training...\n",
            "  Batch    40  of    222.    Elapsed: 0:00:08.\n",
            "  Batch    80  of    222.    Elapsed: 0:00:17.\n",
            "  Batch   120  of    222.    Elapsed: 0:00:25.\n",
            "  Batch   160  of    222.    Elapsed: 0:00:34.\n",
            "  Batch   200  of    222.    Elapsed: 0:00:42.\n",
            "\n",
            "  Average training loss: 0.57\n",
            "  Training epoch took: 0:00:47\n",
            "\n",
            "Running Validation...\n",
            "  Accuracy: 0.74\n",
            "  Validation Loss: 0.55\n",
            "  Validation took: 0:00:03\n"
          ]
        },
        {
          "output_type": "stream",
          "name": "stderr",
          "text": [
            "2024/12/17 19:43:15 WARNING mlflow.utils.requirements_utils: Found torch version (2.5.1+cu121) contains a local version label (+cu121). MLflow logged a pip requirement for this package as 'torch==2.5.1' without the local version label to make it installable from PyPI. To specify pip requirements containing local version labels, please use `conda_env` or `pip_requirements`.\n",
            "2024/12/17 19:43:26 WARNING mlflow.utils.requirements_utils: The following packages were not found in the public PyPI package index as of 2024-12-04; if these packages are not present in the public PyPI index, you must install them manually before loading your model: {'google-genai'}\n",
            "2024/12/17 19:43:26 WARNING mlflow.utils.requirements_utils: Found torchvision version (0.20.1+cu121) contains a local version label (+cu121). MLflow logged a pip requirement for this package as 'torchvision==0.20.1' without the local version label to make it installable from PyPI. To specify pip requirements containing local version labels, please use `conda_env` or `pip_requirements`.\n",
            "\u001b[31m2024/12/17 19:43:27 WARNING mlflow.models.model: Model logged without a signature and input example. Please set `input_example` parameter when logging the model to auto infer the model signature.\u001b[0m\n"
          ]
        },
        {
          "output_type": "stream",
          "name": "stdout",
          "text": [
            "\n",
            "======== Epoch 40 / 60 ========\n",
            "Training...\n",
            "  Batch    40  of    222.    Elapsed: 0:00:08.\n",
            "  Batch    80  of    222.    Elapsed: 0:00:17.\n",
            "  Batch   120  of    222.    Elapsed: 0:00:25.\n",
            "  Batch   160  of    222.    Elapsed: 0:00:34.\n",
            "  Batch   200  of    222.    Elapsed: 0:00:42.\n",
            "\n",
            "  Average training loss: 0.57\n",
            "  Training epoch took: 0:00:47\n",
            "\n",
            "Running Validation...\n",
            "  Accuracy: 0.76\n",
            "  Validation Loss: 0.54\n",
            "  Validation took: 0:00:03\n"
          ]
        },
        {
          "output_type": "stream",
          "name": "stderr",
          "text": [
            "2024/12/17 19:45:08 WARNING mlflow.utils.requirements_utils: Found torch version (2.5.1+cu121) contains a local version label (+cu121). MLflow logged a pip requirement for this package as 'torch==2.5.1' without the local version label to make it installable from PyPI. To specify pip requirements containing local version labels, please use `conda_env` or `pip_requirements`.\n",
            "2024/12/17 19:45:20 WARNING mlflow.utils.requirements_utils: The following packages were not found in the public PyPI package index as of 2024-12-04; if these packages are not present in the public PyPI index, you must install them manually before loading your model: {'google-genai'}\n",
            "2024/12/17 19:45:20 WARNING mlflow.utils.requirements_utils: Found torchvision version (0.20.1+cu121) contains a local version label (+cu121). MLflow logged a pip requirement for this package as 'torchvision==0.20.1' without the local version label to make it installable from PyPI. To specify pip requirements containing local version labels, please use `conda_env` or `pip_requirements`.\n",
            "\u001b[31m2024/12/17 19:45:20 WARNING mlflow.models.model: Model logged without a signature and input example. Please set `input_example` parameter when logging the model to auto infer the model signature.\u001b[0m\n"
          ]
        },
        {
          "output_type": "stream",
          "name": "stdout",
          "text": [
            "\n",
            "======== Epoch 41 / 60 ========\n",
            "Training...\n",
            "  Batch    40  of    222.    Elapsed: 0:00:08.\n",
            "  Batch    80  of    222.    Elapsed: 0:00:17.\n",
            "  Batch   120  of    222.    Elapsed: 0:00:25.\n",
            "  Batch   160  of    222.    Elapsed: 0:00:34.\n",
            "  Batch   200  of    222.    Elapsed: 0:00:42.\n",
            "\n",
            "  Average training loss: 0.56\n",
            "  Training epoch took: 0:00:47\n",
            "\n",
            "Running Validation...\n",
            "  Accuracy: 0.75\n",
            "  Validation Loss: 0.55\n",
            "  Validation took: 0:00:03\n"
          ]
        },
        {
          "output_type": "stream",
          "name": "stderr",
          "text": [
            "2024/12/17 19:46:19 WARNING mlflow.utils.requirements_utils: Found torch version (2.5.1+cu121) contains a local version label (+cu121). MLflow logged a pip requirement for this package as 'torch==2.5.1' without the local version label to make it installable from PyPI. To specify pip requirements containing local version labels, please use `conda_env` or `pip_requirements`.\n",
            "2024/12/17 19:46:31 WARNING mlflow.utils.requirements_utils: The following packages were not found in the public PyPI package index as of 2024-12-04; if these packages are not present in the public PyPI index, you must install them manually before loading your model: {'google-genai'}\n",
            "2024/12/17 19:46:31 WARNING mlflow.utils.requirements_utils: Found torchvision version (0.20.1+cu121) contains a local version label (+cu121). MLflow logged a pip requirement for this package as 'torchvision==0.20.1' without the local version label to make it installable from PyPI. To specify pip requirements containing local version labels, please use `conda_env` or `pip_requirements`.\n",
            "\u001b[31m2024/12/17 19:46:31 WARNING mlflow.models.model: Model logged without a signature and input example. Please set `input_example` parameter when logging the model to auto infer the model signature.\u001b[0m\n"
          ]
        },
        {
          "output_type": "stream",
          "name": "stdout",
          "text": [
            "\n",
            "======== Epoch 42 / 60 ========\n",
            "Training...\n",
            "  Batch    40  of    222.    Elapsed: 0:00:08.\n",
            "  Batch    80  of    222.    Elapsed: 0:00:17.\n",
            "  Batch   120  of    222.    Elapsed: 0:00:25.\n",
            "  Batch   160  of    222.    Elapsed: 0:00:34.\n",
            "  Batch   200  of    222.    Elapsed: 0:00:42.\n",
            "\n",
            "  Average training loss: 0.56\n",
            "  Training epoch took: 0:00:47\n",
            "\n",
            "Running Validation...\n",
            "  Accuracy: 0.75\n",
            "  Validation Loss: 0.54\n",
            "  Validation took: 0:00:03\n"
          ]
        },
        {
          "output_type": "stream",
          "name": "stderr",
          "text": [
            "2024/12/17 19:47:41 WARNING mlflow.utils.requirements_utils: Found torch version (2.5.1+cu121) contains a local version label (+cu121). MLflow logged a pip requirement for this package as 'torch==2.5.1' without the local version label to make it installable from PyPI. To specify pip requirements containing local version labels, please use `conda_env` or `pip_requirements`.\n",
            "2024/12/17 19:47:52 WARNING mlflow.utils.requirements_utils: The following packages were not found in the public PyPI package index as of 2024-12-04; if these packages are not present in the public PyPI index, you must install them manually before loading your model: {'google-genai'}\n",
            "2024/12/17 19:47:52 WARNING mlflow.utils.requirements_utils: Found torchvision version (0.20.1+cu121) contains a local version label (+cu121). MLflow logged a pip requirement for this package as 'torchvision==0.20.1' without the local version label to make it installable from PyPI. To specify pip requirements containing local version labels, please use `conda_env` or `pip_requirements`.\n",
            "\u001b[31m2024/12/17 19:47:52 WARNING mlflow.models.model: Model logged without a signature and input example. Please set `input_example` parameter when logging the model to auto infer the model signature.\u001b[0m\n"
          ]
        },
        {
          "output_type": "stream",
          "name": "stdout",
          "text": [
            "\n",
            "======== Epoch 43 / 60 ========\n",
            "Training...\n",
            "  Batch    40  of    222.    Elapsed: 0:00:08.\n",
            "  Batch    80  of    222.    Elapsed: 0:00:17.\n",
            "  Batch   120  of    222.    Elapsed: 0:00:25.\n",
            "  Batch   160  of    222.    Elapsed: 0:00:34.\n",
            "  Batch   200  of    222.    Elapsed: 0:00:42.\n",
            "\n",
            "  Average training loss: 0.56\n",
            "  Training epoch took: 0:00:47\n",
            "\n",
            "Running Validation...\n",
            "  Accuracy: 0.73\n",
            "  Validation Loss: 0.57\n",
            "  Validation took: 0:00:03\n"
          ]
        },
        {
          "output_type": "stream",
          "name": "stderr",
          "text": [
            "2024/12/17 19:48:53 WARNING mlflow.utils.requirements_utils: Found torch version (2.5.1+cu121) contains a local version label (+cu121). MLflow logged a pip requirement for this package as 'torch==2.5.1' without the local version label to make it installable from PyPI. To specify pip requirements containing local version labels, please use `conda_env` or `pip_requirements`.\n",
            "2024/12/17 19:49:04 WARNING mlflow.utils.requirements_utils: The following packages were not found in the public PyPI package index as of 2024-12-04; if these packages are not present in the public PyPI index, you must install them manually before loading your model: {'google-genai'}\n",
            "2024/12/17 19:49:04 WARNING mlflow.utils.requirements_utils: Found torchvision version (0.20.1+cu121) contains a local version label (+cu121). MLflow logged a pip requirement for this package as 'torchvision==0.20.1' without the local version label to make it installable from PyPI. To specify pip requirements containing local version labels, please use `conda_env` or `pip_requirements`.\n",
            "\u001b[31m2024/12/17 19:49:04 WARNING mlflow.models.model: Model logged without a signature and input example. Please set `input_example` parameter when logging the model to auto infer the model signature.\u001b[0m\n"
          ]
        },
        {
          "output_type": "stream",
          "name": "stdout",
          "text": [
            "\n",
            "======== Epoch 44 / 60 ========\n",
            "Training...\n",
            "  Batch    40  of    222.    Elapsed: 0:00:08.\n",
            "  Batch    80  of    222.    Elapsed: 0:00:17.\n",
            "  Batch   120  of    222.    Elapsed: 0:00:25.\n",
            "  Batch   160  of    222.    Elapsed: 0:00:34.\n",
            "  Batch   200  of    222.    Elapsed: 0:00:42.\n",
            "\n",
            "  Average training loss: 0.56\n",
            "  Training epoch took: 0:00:47\n",
            "\n",
            "Running Validation...\n",
            "  Accuracy: 0.75\n",
            "  Validation Loss: 0.54\n",
            "  Validation took: 0:00:03\n"
          ]
        },
        {
          "output_type": "stream",
          "name": "stderr",
          "text": [
            "2024/12/17 19:50:11 WARNING mlflow.utils.requirements_utils: Found torch version (2.5.1+cu121) contains a local version label (+cu121). MLflow logged a pip requirement for this package as 'torch==2.5.1' without the local version label to make it installable from PyPI. To specify pip requirements containing local version labels, please use `conda_env` or `pip_requirements`.\n",
            "2024/12/17 19:50:24 WARNING mlflow.utils.requirements_utils: The following packages were not found in the public PyPI package index as of 2024-12-04; if these packages are not present in the public PyPI index, you must install them manually before loading your model: {'google-genai'}\n",
            "2024/12/17 19:50:24 WARNING mlflow.utils.requirements_utils: Found torchvision version (0.20.1+cu121) contains a local version label (+cu121). MLflow logged a pip requirement for this package as 'torchvision==0.20.1' without the local version label to make it installable from PyPI. To specify pip requirements containing local version labels, please use `conda_env` or `pip_requirements`.\n",
            "\u001b[31m2024/12/17 19:50:24 WARNING mlflow.models.model: Model logged without a signature and input example. Please set `input_example` parameter when logging the model to auto infer the model signature.\u001b[0m\n"
          ]
        },
        {
          "output_type": "stream",
          "name": "stdout",
          "text": [
            "\n",
            "======== Epoch 45 / 60 ========\n",
            "Training...\n",
            "  Batch    40  of    222.    Elapsed: 0:00:08.\n",
            "  Batch    80  of    222.    Elapsed: 0:00:17.\n",
            "  Batch   120  of    222.    Elapsed: 0:00:25.\n",
            "  Batch   160  of    222.    Elapsed: 0:00:34.\n",
            "  Batch   200  of    222.    Elapsed: 0:00:42.\n",
            "\n",
            "  Average training loss: 0.56\n",
            "  Training epoch took: 0:00:47\n",
            "\n",
            "Running Validation...\n",
            "  Accuracy: 0.76\n",
            "  Validation Loss: 0.54\n",
            "  Validation took: 0:00:03\n"
          ]
        },
        {
          "output_type": "stream",
          "name": "stderr",
          "text": [
            "2024/12/17 19:51:28 WARNING mlflow.utils.requirements_utils: Found torch version (2.5.1+cu121) contains a local version label (+cu121). MLflow logged a pip requirement for this package as 'torch==2.5.1' without the local version label to make it installable from PyPI. To specify pip requirements containing local version labels, please use `conda_env` or `pip_requirements`.\n",
            "2024/12/17 19:51:40 WARNING mlflow.utils.requirements_utils: The following packages were not found in the public PyPI package index as of 2024-12-04; if these packages are not present in the public PyPI index, you must install them manually before loading your model: {'google-genai'}\n",
            "2024/12/17 19:51:40 WARNING mlflow.utils.requirements_utils: Found torchvision version (0.20.1+cu121) contains a local version label (+cu121). MLflow logged a pip requirement for this package as 'torchvision==0.20.1' without the local version label to make it installable from PyPI. To specify pip requirements containing local version labels, please use `conda_env` or `pip_requirements`.\n",
            "\u001b[31m2024/12/17 19:51:40 WARNING mlflow.models.model: Model logged without a signature and input example. Please set `input_example` parameter when logging the model to auto infer the model signature.\u001b[0m\n"
          ]
        },
        {
          "output_type": "stream",
          "name": "stdout",
          "text": [
            "\n",
            "======== Epoch 46 / 60 ========\n",
            "Training...\n",
            "  Batch    40  of    222.    Elapsed: 0:00:08.\n",
            "  Batch    80  of    222.    Elapsed: 0:00:17.\n",
            "  Batch   120  of    222.    Elapsed: 0:00:25.\n",
            "  Batch   160  of    222.    Elapsed: 0:00:34.\n",
            "  Batch   200  of    222.    Elapsed: 0:00:42.\n",
            "\n",
            "  Average training loss: 0.56\n",
            "  Training epoch took: 0:00:47\n",
            "\n",
            "Running Validation...\n",
            "  Accuracy: 0.73\n",
            "  Validation Loss: 0.56\n",
            "  Validation took: 0:00:03\n"
          ]
        },
        {
          "output_type": "stream",
          "name": "stderr",
          "text": [
            "2024/12/17 19:53:01 WARNING mlflow.utils.requirements_utils: Found torch version (2.5.1+cu121) contains a local version label (+cu121). MLflow logged a pip requirement for this package as 'torch==2.5.1' without the local version label to make it installable from PyPI. To specify pip requirements containing local version labels, please use `conda_env` or `pip_requirements`.\n",
            "2024/12/17 19:53:12 WARNING mlflow.utils.requirements_utils: The following packages were not found in the public PyPI package index as of 2024-12-04; if these packages are not present in the public PyPI index, you must install them manually before loading your model: {'google-genai'}\n",
            "2024/12/17 19:53:12 WARNING mlflow.utils.requirements_utils: Found torchvision version (0.20.1+cu121) contains a local version label (+cu121). MLflow logged a pip requirement for this package as 'torchvision==0.20.1' without the local version label to make it installable from PyPI. To specify pip requirements containing local version labels, please use `conda_env` or `pip_requirements`.\n",
            "\u001b[31m2024/12/17 19:53:13 WARNING mlflow.models.model: Model logged without a signature and input example. Please set `input_example` parameter when logging the model to auto infer the model signature.\u001b[0m\n"
          ]
        },
        {
          "output_type": "stream",
          "name": "stdout",
          "text": [
            "\n",
            "======== Epoch 47 / 60 ========\n",
            "Training...\n",
            "  Batch    40  of    222.    Elapsed: 0:00:08.\n",
            "  Batch    80  of    222.    Elapsed: 0:00:17.\n",
            "  Batch   120  of    222.    Elapsed: 0:00:25.\n",
            "  Batch   160  of    222.    Elapsed: 0:00:34.\n",
            "  Batch   200  of    222.    Elapsed: 0:00:42.\n",
            "\n",
            "  Average training loss: 0.56\n",
            "  Training epoch took: 0:00:47\n",
            "\n",
            "Running Validation...\n",
            "  Accuracy: 0.75\n",
            "  Validation Loss: 0.56\n",
            "  Validation took: 0:00:03\n"
          ]
        },
        {
          "output_type": "stream",
          "name": "stderr",
          "text": [
            "2024/12/17 19:54:18 WARNING mlflow.utils.requirements_utils: Found torch version (2.5.1+cu121) contains a local version label (+cu121). MLflow logged a pip requirement for this package as 'torch==2.5.1' without the local version label to make it installable from PyPI. To specify pip requirements containing local version labels, please use `conda_env` or `pip_requirements`.\n",
            "2024/12/17 19:54:30 WARNING mlflow.utils.requirements_utils: The following packages were not found in the public PyPI package index as of 2024-12-04; if these packages are not present in the public PyPI index, you must install them manually before loading your model: {'google-genai'}\n",
            "2024/12/17 19:54:30 WARNING mlflow.utils.requirements_utils: Found torchvision version (0.20.1+cu121) contains a local version label (+cu121). MLflow logged a pip requirement for this package as 'torchvision==0.20.1' without the local version label to make it installable from PyPI. To specify pip requirements containing local version labels, please use `conda_env` or `pip_requirements`.\n",
            "\u001b[31m2024/12/17 19:54:30 WARNING mlflow.models.model: Model logged without a signature and input example. Please set `input_example` parameter when logging the model to auto infer the model signature.\u001b[0m\n"
          ]
        },
        {
          "output_type": "stream",
          "name": "stdout",
          "text": [
            "\n",
            "======== Epoch 48 / 60 ========\n",
            "Training...\n",
            "  Batch    40  of    222.    Elapsed: 0:00:08.\n",
            "  Batch    80  of    222.    Elapsed: 0:00:17.\n",
            "  Batch   120  of    222.    Elapsed: 0:00:25.\n",
            "  Batch   160  of    222.    Elapsed: 0:00:34.\n",
            "  Batch   200  of    222.    Elapsed: 0:00:42.\n",
            "\n",
            "  Average training loss: 0.55\n",
            "  Training epoch took: 0:00:47\n",
            "\n",
            "Running Validation...\n",
            "  Accuracy: 0.75\n",
            "  Validation Loss: 0.55\n",
            "  Validation took: 0:00:03\n"
          ]
        },
        {
          "output_type": "stream",
          "name": "stderr",
          "text": [
            "2024/12/17 19:55:31 WARNING mlflow.utils.requirements_utils: Found torch version (2.5.1+cu121) contains a local version label (+cu121). MLflow logged a pip requirement for this package as 'torch==2.5.1' without the local version label to make it installable from PyPI. To specify pip requirements containing local version labels, please use `conda_env` or `pip_requirements`.\n",
            "2024/12/17 19:55:42 WARNING mlflow.utils.requirements_utils: The following packages were not found in the public PyPI package index as of 2024-12-04; if these packages are not present in the public PyPI index, you must install them manually before loading your model: {'google-genai'}\n",
            "2024/12/17 19:55:42 WARNING mlflow.utils.requirements_utils: Found torchvision version (0.20.1+cu121) contains a local version label (+cu121). MLflow logged a pip requirement for this package as 'torchvision==0.20.1' without the local version label to make it installable from PyPI. To specify pip requirements containing local version labels, please use `conda_env` or `pip_requirements`.\n",
            "\u001b[31m2024/12/17 19:55:42 WARNING mlflow.models.model: Model logged without a signature and input example. Please set `input_example` parameter when logging the model to auto infer the model signature.\u001b[0m\n"
          ]
        },
        {
          "output_type": "stream",
          "name": "stdout",
          "text": [
            "\n",
            "======== Epoch 49 / 60 ========\n",
            "Training...\n",
            "  Batch    40  of    222.    Elapsed: 0:00:08.\n",
            "  Batch    80  of    222.    Elapsed: 0:00:17.\n",
            "  Batch   120  of    222.    Elapsed: 0:00:25.\n",
            "  Batch   160  of    222.    Elapsed: 0:00:34.\n",
            "  Batch   200  of    222.    Elapsed: 0:00:42.\n",
            "\n",
            "  Average training loss: 0.56\n",
            "  Training epoch took: 0:00:47\n",
            "\n",
            "Running Validation...\n",
            "  Accuracy: 0.74\n",
            "  Validation Loss: 0.56\n",
            "  Validation took: 0:00:03\n"
          ]
        },
        {
          "output_type": "stream",
          "name": "stderr",
          "text": [
            "2024/12/17 19:57:25 WARNING mlflow.utils.requirements_utils: Found torch version (2.5.1+cu121) contains a local version label (+cu121). MLflow logged a pip requirement for this package as 'torch==2.5.1' without the local version label to make it installable from PyPI. To specify pip requirements containing local version labels, please use `conda_env` or `pip_requirements`.\n",
            "2024/12/17 19:57:37 WARNING mlflow.utils.requirements_utils: The following packages were not found in the public PyPI package index as of 2024-12-04; if these packages are not present in the public PyPI index, you must install them manually before loading your model: {'google-genai'}\n",
            "2024/12/17 19:57:37 WARNING mlflow.utils.requirements_utils: Found torchvision version (0.20.1+cu121) contains a local version label (+cu121). MLflow logged a pip requirement for this package as 'torchvision==0.20.1' without the local version label to make it installable from PyPI. To specify pip requirements containing local version labels, please use `conda_env` or `pip_requirements`.\n",
            "\u001b[31m2024/12/17 19:57:37 WARNING mlflow.models.model: Model logged without a signature and input example. Please set `input_example` parameter when logging the model to auto infer the model signature.\u001b[0m\n"
          ]
        },
        {
          "output_type": "stream",
          "name": "stdout",
          "text": [
            "\n",
            "======== Epoch 50 / 60 ========\n",
            "Training...\n",
            "  Batch    40  of    222.    Elapsed: 0:00:08.\n",
            "  Batch    80  of    222.    Elapsed: 0:00:17.\n",
            "  Batch   120  of    222.    Elapsed: 0:00:25.\n",
            "  Batch   160  of    222.    Elapsed: 0:00:34.\n",
            "  Batch   200  of    222.    Elapsed: 0:00:42.\n",
            "\n",
            "  Average training loss: 0.56\n",
            "  Training epoch took: 0:00:47\n",
            "\n",
            "Running Validation...\n",
            "  Accuracy: 0.75\n",
            "  Validation Loss: 0.54\n",
            "  Validation took: 0:00:03\n"
          ]
        },
        {
          "output_type": "stream",
          "name": "stderr",
          "text": [
            "2024/12/17 19:58:41 WARNING mlflow.utils.requirements_utils: Found torch version (2.5.1+cu121) contains a local version label (+cu121). MLflow logged a pip requirement for this package as 'torch==2.5.1' without the local version label to make it installable from PyPI. To specify pip requirements containing local version labels, please use `conda_env` or `pip_requirements`.\n",
            "2024/12/17 19:58:51 WARNING mlflow.utils.requirements_utils: The following packages were not found in the public PyPI package index as of 2024-12-04; if these packages are not present in the public PyPI index, you must install them manually before loading your model: {'google-genai'}\n",
            "2024/12/17 19:58:51 WARNING mlflow.utils.requirements_utils: Found torchvision version (0.20.1+cu121) contains a local version label (+cu121). MLflow logged a pip requirement for this package as 'torchvision==0.20.1' without the local version label to make it installable from PyPI. To specify pip requirements containing local version labels, please use `conda_env` or `pip_requirements`.\n",
            "\u001b[31m2024/12/17 19:58:52 WARNING mlflow.models.model: Model logged without a signature and input example. Please set `input_example` parameter when logging the model to auto infer the model signature.\u001b[0m\n"
          ]
        },
        {
          "output_type": "stream",
          "name": "stdout",
          "text": [
            "\n",
            "======== Epoch 51 / 60 ========\n",
            "Training...\n",
            "  Batch    40  of    222.    Elapsed: 0:00:08.\n",
            "  Batch    80  of    222.    Elapsed: 0:00:17.\n",
            "  Batch   120  of    222.    Elapsed: 0:00:25.\n",
            "  Batch   160  of    222.    Elapsed: 0:00:34.\n",
            "  Batch   200  of    222.    Elapsed: 0:00:42.\n",
            "\n",
            "  Average training loss: 0.56\n",
            "  Training epoch took: 0:00:47\n",
            "\n",
            "Running Validation...\n",
            "  Accuracy: 0.75\n",
            "  Validation Loss: 0.54\n",
            "  Validation took: 0:00:03\n"
          ]
        },
        {
          "output_type": "stream",
          "name": "stderr",
          "text": [
            "2024/12/17 19:59:51 WARNING mlflow.utils.requirements_utils: Found torch version (2.5.1+cu121) contains a local version label (+cu121). MLflow logged a pip requirement for this package as 'torch==2.5.1' without the local version label to make it installable from PyPI. To specify pip requirements containing local version labels, please use `conda_env` or `pip_requirements`.\n",
            "2024/12/17 20:00:02 WARNING mlflow.utils.requirements_utils: The following packages were not found in the public PyPI package index as of 2024-12-04; if these packages are not present in the public PyPI index, you must install them manually before loading your model: {'google-genai'}\n",
            "2024/12/17 20:00:02 WARNING mlflow.utils.requirements_utils: Found torchvision version (0.20.1+cu121) contains a local version label (+cu121). MLflow logged a pip requirement for this package as 'torchvision==0.20.1' without the local version label to make it installable from PyPI. To specify pip requirements containing local version labels, please use `conda_env` or `pip_requirements`.\n",
            "\u001b[31m2024/12/17 20:00:02 WARNING mlflow.models.model: Model logged without a signature and input example. Please set `input_example` parameter when logging the model to auto infer the model signature.\u001b[0m\n"
          ]
        },
        {
          "output_type": "stream",
          "name": "stdout",
          "text": [
            "\n",
            "======== Epoch 52 / 60 ========\n",
            "Training...\n",
            "  Batch    40  of    222.    Elapsed: 0:00:08.\n",
            "  Batch    80  of    222.    Elapsed: 0:00:17.\n",
            "  Batch   120  of    222.    Elapsed: 0:00:25.\n",
            "  Batch   160  of    222.    Elapsed: 0:00:34.\n",
            "  Batch   200  of    222.    Elapsed: 0:00:42.\n",
            "\n",
            "  Average training loss: 0.55\n",
            "  Training epoch took: 0:00:47\n",
            "\n",
            "Running Validation...\n",
            "  Accuracy: 0.75\n",
            "  Validation Loss: 0.55\n",
            "  Validation took: 0:00:03\n"
          ]
        },
        {
          "output_type": "stream",
          "name": "stderr",
          "text": [
            "2024/12/17 20:01:16 WARNING mlflow.utils.requirements_utils: Found torch version (2.5.1+cu121) contains a local version label (+cu121). MLflow logged a pip requirement for this package as 'torch==2.5.1' without the local version label to make it installable from PyPI. To specify pip requirements containing local version labels, please use `conda_env` or `pip_requirements`.\n",
            "2024/12/17 20:01:27 WARNING mlflow.utils.requirements_utils: The following packages were not found in the public PyPI package index as of 2024-12-04; if these packages are not present in the public PyPI index, you must install them manually before loading your model: {'google-genai'}\n",
            "2024/12/17 20:01:27 WARNING mlflow.utils.requirements_utils: Found torchvision version (0.20.1+cu121) contains a local version label (+cu121). MLflow logged a pip requirement for this package as 'torchvision==0.20.1' without the local version label to make it installable from PyPI. To specify pip requirements containing local version labels, please use `conda_env` or `pip_requirements`.\n",
            "\u001b[31m2024/12/17 20:01:27 WARNING mlflow.models.model: Model logged without a signature and input example. Please set `input_example` parameter when logging the model to auto infer the model signature.\u001b[0m\n"
          ]
        },
        {
          "output_type": "stream",
          "name": "stdout",
          "text": [
            "\n",
            "======== Epoch 53 / 60 ========\n",
            "Training...\n",
            "  Batch    40  of    222.    Elapsed: 0:00:08.\n",
            "  Batch    80  of    222.    Elapsed: 0:00:17.\n",
            "  Batch   120  of    222.    Elapsed: 0:00:25.\n",
            "  Batch   160  of    222.    Elapsed: 0:00:34.\n",
            "  Batch   200  of    222.    Elapsed: 0:00:42.\n",
            "\n",
            "  Average training loss: 0.55\n",
            "  Training epoch took: 0:00:47\n",
            "\n",
            "Running Validation...\n",
            "  Accuracy: 0.75\n",
            "  Validation Loss: 0.55\n",
            "  Validation took: 0:00:03\n"
          ]
        },
        {
          "output_type": "stream",
          "name": "stderr",
          "text": [
            "2024/12/17 20:02:32 WARNING mlflow.utils.requirements_utils: Found torch version (2.5.1+cu121) contains a local version label (+cu121). MLflow logged a pip requirement for this package as 'torch==2.5.1' without the local version label to make it installable from PyPI. To specify pip requirements containing local version labels, please use `conda_env` or `pip_requirements`.\n",
            "2024/12/17 20:02:43 WARNING mlflow.utils.requirements_utils: The following packages were not found in the public PyPI package index as of 2024-12-04; if these packages are not present in the public PyPI index, you must install them manually before loading your model: {'google-genai'}\n",
            "2024/12/17 20:02:43 WARNING mlflow.utils.requirements_utils: Found torchvision version (0.20.1+cu121) contains a local version label (+cu121). MLflow logged a pip requirement for this package as 'torchvision==0.20.1' without the local version label to make it installable from PyPI. To specify pip requirements containing local version labels, please use `conda_env` or `pip_requirements`.\n",
            "\u001b[31m2024/12/17 20:02:43 WARNING mlflow.models.model: Model logged without a signature and input example. Please set `input_example` parameter when logging the model to auto infer the model signature.\u001b[0m\n"
          ]
        },
        {
          "output_type": "stream",
          "name": "stdout",
          "text": [
            "\n",
            "======== Epoch 54 / 60 ========\n",
            "Training...\n",
            "  Batch    40  of    222.    Elapsed: 0:00:08.\n",
            "  Batch    80  of    222.    Elapsed: 0:00:17.\n",
            "  Batch   120  of    222.    Elapsed: 0:00:25.\n",
            "  Batch   160  of    222.    Elapsed: 0:00:34.\n",
            "  Batch   200  of    222.    Elapsed: 0:00:42.\n",
            "\n",
            "  Average training loss: 0.55\n",
            "  Training epoch took: 0:00:47\n",
            "\n",
            "Running Validation...\n",
            "  Accuracy: 0.76\n",
            "  Validation Loss: 0.54\n",
            "  Validation took: 0:00:03\n"
          ]
        },
        {
          "output_type": "stream",
          "name": "stderr",
          "text": [
            "2024/12/17 20:03:54 WARNING mlflow.utils.requirements_utils: Found torch version (2.5.1+cu121) contains a local version label (+cu121). MLflow logged a pip requirement for this package as 'torch==2.5.1' without the local version label to make it installable from PyPI. To specify pip requirements containing local version labels, please use `conda_env` or `pip_requirements`.\n",
            "2024/12/17 20:04:06 WARNING mlflow.utils.requirements_utils: The following packages were not found in the public PyPI package index as of 2024-12-04; if these packages are not present in the public PyPI index, you must install them manually before loading your model: {'google-genai'}\n",
            "2024/12/17 20:04:06 WARNING mlflow.utils.requirements_utils: Found torchvision version (0.20.1+cu121) contains a local version label (+cu121). MLflow logged a pip requirement for this package as 'torchvision==0.20.1' without the local version label to make it installable from PyPI. To specify pip requirements containing local version labels, please use `conda_env` or `pip_requirements`.\n",
            "\u001b[31m2024/12/17 20:04:06 WARNING mlflow.models.model: Model logged without a signature and input example. Please set `input_example` parameter when logging the model to auto infer the model signature.\u001b[0m\n"
          ]
        },
        {
          "output_type": "stream",
          "name": "stdout",
          "text": [
            "\n",
            "======== Epoch 55 / 60 ========\n",
            "Training...\n",
            "  Batch    40  of    222.    Elapsed: 0:00:08.\n",
            "  Batch    80  of    222.    Elapsed: 0:00:17.\n",
            "  Batch   120  of    222.    Elapsed: 0:00:25.\n",
            "  Batch   160  of    222.    Elapsed: 0:00:34.\n",
            "  Batch   200  of    222.    Elapsed: 0:00:42.\n",
            "\n",
            "  Average training loss: 0.54\n",
            "  Training epoch took: 0:00:47\n",
            "\n",
            "Running Validation...\n",
            "  Accuracy: 0.75\n",
            "  Validation Loss: 0.55\n",
            "  Validation took: 0:00:03\n"
          ]
        },
        {
          "output_type": "stream",
          "name": "stderr",
          "text": [
            "2024/12/17 20:05:12 WARNING mlflow.utils.requirements_utils: Found torch version (2.5.1+cu121) contains a local version label (+cu121). MLflow logged a pip requirement for this package as 'torch==2.5.1' without the local version label to make it installable from PyPI. To specify pip requirements containing local version labels, please use `conda_env` or `pip_requirements`.\n",
            "2024/12/17 20:05:23 WARNING mlflow.utils.requirements_utils: The following packages were not found in the public PyPI package index as of 2024-12-04; if these packages are not present in the public PyPI index, you must install them manually before loading your model: {'google-genai'}\n",
            "2024/12/17 20:05:23 WARNING mlflow.utils.requirements_utils: Found torchvision version (0.20.1+cu121) contains a local version label (+cu121). MLflow logged a pip requirement for this package as 'torchvision==0.20.1' without the local version label to make it installable from PyPI. To specify pip requirements containing local version labels, please use `conda_env` or `pip_requirements`.\n",
            "\u001b[31m2024/12/17 20:05:23 WARNING mlflow.models.model: Model logged without a signature and input example. Please set `input_example` parameter when logging the model to auto infer the model signature.\u001b[0m\n"
          ]
        },
        {
          "output_type": "stream",
          "name": "stdout",
          "text": [
            "\n",
            "======== Epoch 56 / 60 ========\n",
            "Training...\n",
            "  Batch    40  of    222.    Elapsed: 0:00:08.\n",
            "  Batch    80  of    222.    Elapsed: 0:00:17.\n",
            "  Batch   120  of    222.    Elapsed: 0:00:25.\n",
            "  Batch   160  of    222.    Elapsed: 0:00:34.\n",
            "  Batch   200  of    222.    Elapsed: 0:00:42.\n",
            "\n",
            "  Average training loss: 0.55\n",
            "  Training epoch took: 0:00:47\n",
            "\n",
            "Running Validation...\n",
            "  Accuracy: 0.75\n",
            "  Validation Loss: 0.55\n",
            "  Validation took: 0:00:03\n"
          ]
        },
        {
          "output_type": "stream",
          "name": "stderr",
          "text": [
            "2024/12/17 20:06:27 WARNING mlflow.utils.requirements_utils: Found torch version (2.5.1+cu121) contains a local version label (+cu121). MLflow logged a pip requirement for this package as 'torch==2.5.1' without the local version label to make it installable from PyPI. To specify pip requirements containing local version labels, please use `conda_env` or `pip_requirements`.\n",
            "2024/12/17 20:06:38 WARNING mlflow.utils.requirements_utils: The following packages were not found in the public PyPI package index as of 2024-12-04; if these packages are not present in the public PyPI index, you must install them manually before loading your model: {'google-genai'}\n",
            "2024/12/17 20:06:38 WARNING mlflow.utils.requirements_utils: Found torchvision version (0.20.1+cu121) contains a local version label (+cu121). MLflow logged a pip requirement for this package as 'torchvision==0.20.1' without the local version label to make it installable from PyPI. To specify pip requirements containing local version labels, please use `conda_env` or `pip_requirements`.\n",
            "\u001b[31m2024/12/17 20:06:38 WARNING mlflow.models.model: Model logged without a signature and input example. Please set `input_example` parameter when logging the model to auto infer the model signature.\u001b[0m\n"
          ]
        },
        {
          "output_type": "stream",
          "name": "stdout",
          "text": [
            "\n",
            "======== Epoch 57 / 60 ========\n",
            "Training...\n",
            "  Batch    40  of    222.    Elapsed: 0:00:08.\n",
            "  Batch    80  of    222.    Elapsed: 0:00:17.\n",
            "  Batch   120  of    222.    Elapsed: 0:00:25.\n",
            "  Batch   160  of    222.    Elapsed: 0:00:34.\n",
            "  Batch   200  of    222.    Elapsed: 0:00:42.\n",
            "\n",
            "  Average training loss: 0.54\n",
            "  Training epoch took: 0:00:47\n",
            "\n",
            "Running Validation...\n",
            "  Accuracy: 0.76\n",
            "  Validation Loss: 0.54\n",
            "  Validation took: 0:00:03\n"
          ]
        },
        {
          "output_type": "stream",
          "name": "stderr",
          "text": [
            "2024/12/17 20:07:43 WARNING mlflow.utils.requirements_utils: Found torch version (2.5.1+cu121) contains a local version label (+cu121). MLflow logged a pip requirement for this package as 'torch==2.5.1' without the local version label to make it installable from PyPI. To specify pip requirements containing local version labels, please use `conda_env` or `pip_requirements`.\n",
            "2024/12/17 20:07:54 WARNING mlflow.utils.requirements_utils: The following packages were not found in the public PyPI package index as of 2024-12-04; if these packages are not present in the public PyPI index, you must install them manually before loading your model: {'google-genai'}\n",
            "2024/12/17 20:07:54 WARNING mlflow.utils.requirements_utils: Found torchvision version (0.20.1+cu121) contains a local version label (+cu121). MLflow logged a pip requirement for this package as 'torchvision==0.20.1' without the local version label to make it installable from PyPI. To specify pip requirements containing local version labels, please use `conda_env` or `pip_requirements`.\n",
            "\u001b[31m2024/12/17 20:07:54 WARNING mlflow.models.model: Model logged without a signature and input example. Please set `input_example` parameter when logging the model to auto infer the model signature.\u001b[0m\n"
          ]
        },
        {
          "output_type": "stream",
          "name": "stdout",
          "text": [
            "\n",
            "======== Epoch 58 / 60 ========\n",
            "Training...\n",
            "  Batch    40  of    222.    Elapsed: 0:00:08.\n",
            "  Batch    80  of    222.    Elapsed: 0:00:17.\n",
            "  Batch   120  of    222.    Elapsed: 0:00:25.\n",
            "  Batch   160  of    222.    Elapsed: 0:00:34.\n",
            "  Batch   200  of    222.    Elapsed: 0:00:42.\n",
            "\n",
            "  Average training loss: 0.55\n",
            "  Training epoch took: 0:00:47\n",
            "\n",
            "Running Validation...\n",
            "  Accuracy: 0.75\n",
            "  Validation Loss: 0.54\n",
            "  Validation took: 0:00:03\n"
          ]
        },
        {
          "output_type": "stream",
          "name": "stderr",
          "text": [
            "2024/12/17 20:08:59 WARNING mlflow.utils.requirements_utils: Found torch version (2.5.1+cu121) contains a local version label (+cu121). MLflow logged a pip requirement for this package as 'torch==2.5.1' without the local version label to make it installable from PyPI. To specify pip requirements containing local version labels, please use `conda_env` or `pip_requirements`.\n",
            "2024/12/17 20:09:10 WARNING mlflow.utils.requirements_utils: The following packages were not found in the public PyPI package index as of 2024-12-04; if these packages are not present in the public PyPI index, you must install them manually before loading your model: {'google-genai'}\n",
            "2024/12/17 20:09:10 WARNING mlflow.utils.requirements_utils: Found torchvision version (0.20.1+cu121) contains a local version label (+cu121). MLflow logged a pip requirement for this package as 'torchvision==0.20.1' without the local version label to make it installable from PyPI. To specify pip requirements containing local version labels, please use `conda_env` or `pip_requirements`.\n",
            "\u001b[31m2024/12/17 20:09:10 WARNING mlflow.models.model: Model logged without a signature and input example. Please set `input_example` parameter when logging the model to auto infer the model signature.\u001b[0m\n"
          ]
        },
        {
          "output_type": "stream",
          "name": "stdout",
          "text": [
            "\n",
            "======== Epoch 59 / 60 ========\n",
            "Training...\n",
            "  Batch    40  of    222.    Elapsed: 0:00:08.\n",
            "  Batch    80  of    222.    Elapsed: 0:00:17.\n",
            "  Batch   120  of    222.    Elapsed: 0:00:25.\n",
            "  Batch   160  of    222.    Elapsed: 0:00:34.\n",
            "  Batch   200  of    222.    Elapsed: 0:00:42.\n",
            "\n",
            "  Average training loss: 0.55\n",
            "  Training epoch took: 0:00:47\n",
            "\n",
            "Running Validation...\n",
            "  Accuracy: 0.76\n",
            "  Validation Loss: 0.54\n",
            "  Validation took: 0:00:03\n"
          ]
        },
        {
          "output_type": "stream",
          "name": "stderr",
          "text": [
            "2024/12/17 20:10:10 WARNING mlflow.utils.requirements_utils: Found torch version (2.5.1+cu121) contains a local version label (+cu121). MLflow logged a pip requirement for this package as 'torch==2.5.1' without the local version label to make it installable from PyPI. To specify pip requirements containing local version labels, please use `conda_env` or `pip_requirements`.\n",
            "2024/12/17 20:10:22 WARNING mlflow.utils.requirements_utils: The following packages were not found in the public PyPI package index as of 2024-12-04; if these packages are not present in the public PyPI index, you must install them manually before loading your model: {'google-genai'}\n",
            "2024/12/17 20:10:22 WARNING mlflow.utils.requirements_utils: Found torchvision version (0.20.1+cu121) contains a local version label (+cu121). MLflow logged a pip requirement for this package as 'torchvision==0.20.1' without the local version label to make it installable from PyPI. To specify pip requirements containing local version labels, please use `conda_env` or `pip_requirements`.\n",
            "\u001b[31m2024/12/17 20:10:22 WARNING mlflow.models.model: Model logged without a signature and input example. Please set `input_example` parameter when logging the model to auto infer the model signature.\u001b[0m\n"
          ]
        },
        {
          "output_type": "stream",
          "name": "stdout",
          "text": [
            "\n",
            "======== Epoch 60 / 60 ========\n",
            "Training...\n",
            "  Batch    40  of    222.    Elapsed: 0:00:08.\n",
            "  Batch    80  of    222.    Elapsed: 0:00:17.\n",
            "  Batch   120  of    222.    Elapsed: 0:00:25.\n",
            "  Batch   160  of    222.    Elapsed: 0:00:34.\n",
            "  Batch   200  of    222.    Elapsed: 0:00:42.\n",
            "\n",
            "  Average training loss: 0.55\n",
            "  Training epoch took: 0:00:47\n",
            "\n",
            "Running Validation...\n",
            "  Accuracy: 0.75\n",
            "  Validation Loss: 0.54\n",
            "  Validation took: 0:00:03\n"
          ]
        },
        {
          "output_type": "stream",
          "name": "stderr",
          "text": [
            "2024/12/17 20:11:38 WARNING mlflow.utils.requirements_utils: Found torch version (2.5.1+cu121) contains a local version label (+cu121). MLflow logged a pip requirement for this package as 'torch==2.5.1' without the local version label to make it installable from PyPI. To specify pip requirements containing local version labels, please use `conda_env` or `pip_requirements`.\n",
            "2024/12/17 20:11:49 WARNING mlflow.utils.requirements_utils: The following packages were not found in the public PyPI package index as of 2024-12-04; if these packages are not present in the public PyPI index, you must install them manually before loading your model: {'google-genai'}\n",
            "2024/12/17 20:11:49 WARNING mlflow.utils.requirements_utils: Found torchvision version (0.20.1+cu121) contains a local version label (+cu121). MLflow logged a pip requirement for this package as 'torchvision==0.20.1' without the local version label to make it installable from PyPI. To specify pip requirements containing local version labels, please use `conda_env` or `pip_requirements`.\n",
            "\u001b[31m2024/12/17 20:11:49 WARNING mlflow.models.model: Model logged without a signature and input example. Please set `input_example` parameter when logging the model to auto infer the model signature.\u001b[0m\n"
          ]
        },
        {
          "output_type": "stream",
          "name": "stdout",
          "text": [
            "\n",
            "Training complete!\n",
            "Total training took 1:23:49 (h:mm:ss)\n"
          ]
        }
      ]
    },
    {
      "cell_type": "code",
      "source": [
        "import pandas as pd\n",
        "\n",
        "# Creating a DataFrame from our training statistics.\n",
        "df_stats = pd.DataFrame(data=training_stats)\n",
        "\n",
        "df_stats = df_stats.set_index('epoch')\n",
        "\n",
        "df_stats"
      ],
      "metadata": {
        "id": "I5BJklNpn-64",
        "colab": {
          "base_uri": "https://localhost:8080/",
          "height": 1000
        },
        "outputId": "9d7e159d-85df-4fb6-ee96-73a238437f8c"
      },
      "execution_count": 32,
      "outputs": [
        {
          "output_type": "execute_result",
          "data": {
            "text/plain": [
              "       Training Loss  Valid. Loss  Valid. Accur. Training Time Validation Time\n",
              "epoch                                                                         \n",
              "1           0.695019     0.698337       0.424671       0:00:48         0:00:03\n",
              "2           0.685586     0.684029       0.606118       0:00:47         0:00:03\n",
              "3           0.673675     0.683935       0.643618       0:00:47         0:00:03\n",
              "4           0.673915     0.671289       0.668618       0:00:47         0:00:03\n",
              "5           0.665585     0.678414       0.653618       0:00:47         0:00:03\n",
              "6           0.667351     0.666535       0.667368       0:00:47         0:00:03\n",
              "7           0.662940     0.681636       0.642763       0:00:47         0:00:03\n",
              "8           0.657482     0.686821       0.632763       0:00:47         0:00:03\n",
              "9           0.655588     0.642164       0.674474       0:00:47         0:00:03\n",
              "10          0.653288     0.678962       0.619013       0:00:47         0:00:03\n",
              "11          0.648152     0.633119       0.686974       0:00:47         0:00:03\n",
              "12          0.643021     0.635091       0.681974       0:00:47         0:00:03\n",
              "13          0.638029     0.619688       0.700724       0:00:47         0:00:03\n",
              "14          0.633732     0.622614       0.699474       0:00:47         0:00:03\n",
              "15          0.633152     0.614087       0.703224       0:00:47         0:00:03\n",
              "16          0.629036     0.608162       0.712829       0:00:47         0:00:03\n",
              "17          0.628584     0.611411       0.709079       0:00:47         0:00:03\n",
              "18          0.620033     0.656585       0.651974       0:00:47         0:00:03\n",
              "19          0.611991     0.575729       0.734474       0:00:47         0:00:03\n",
              "20          0.615929     0.617794       0.709079       0:00:47         0:00:03\n",
              "21          0.611674     0.615758       0.700329       0:00:47         0:00:03\n",
              "22          0.606118     0.615704       0.707829       0:00:47         0:00:03\n",
              "23          0.606811     0.601920       0.721579       0:00:47         0:00:03\n",
              "24          0.603271     0.604109       0.719079       0:00:47         0:00:03\n",
              "25          0.605803     0.584397       0.729079       0:00:47         0:00:03\n",
              "26          0.601809     0.590846       0.726579       0:00:47         0:00:03\n",
              "27          0.595261     0.587824       0.729079       0:00:47         0:00:03\n",
              "28          0.592245     0.559795       0.736579       0:00:48         0:00:03\n",
              "29          0.588008     0.603440       0.715329       0:00:47         0:00:03\n",
              "30          0.588378     0.545280       0.744079       0:00:47         0:00:03\n",
              "31          0.585237     0.578331       0.724079       0:00:47         0:00:03\n",
              "32          0.580017     0.564894       0.741579       0:00:47         0:00:03\n",
              "33          0.585654     0.563207       0.740329       0:00:47         0:00:03\n",
              "34          0.584074     0.580944       0.726579       0:00:47         0:00:03\n",
              "35          0.573151     0.562772       0.740329       0:00:47         0:00:03\n",
              "36          0.571166     0.552157       0.746579       0:00:47         0:00:03\n",
              "37          0.571901     0.587128       0.716579       0:00:47         0:00:03\n",
              "38          0.571137     0.572853       0.725329       0:00:47         0:00:03\n",
              "39          0.567572     0.553769       0.742829       0:00:47         0:00:03\n",
              "40          0.569175     0.542584       0.755329       0:00:47         0:00:03\n",
              "41          0.562620     0.552091       0.749079       0:00:47         0:00:03\n",
              "42          0.561016     0.543177       0.754079       0:00:47         0:00:03\n",
              "43          0.562861     0.565789       0.730329       0:00:47         0:00:03\n",
              "44          0.561438     0.542021       0.751579       0:00:47         0:00:03\n",
              "45          0.563328     0.535364       0.756579       0:00:47         0:00:03\n",
              "46          0.557544     0.563903       0.730329       0:00:47         0:00:03\n",
              "47          0.555150     0.555067       0.745329       0:00:47         0:00:03\n",
              "48          0.551260     0.554658       0.745329       0:00:47         0:00:03\n",
              "49          0.556327     0.556381       0.740329       0:00:47         0:00:03\n",
              "50          0.556022     0.543276       0.754079       0:00:47         0:00:03\n",
              "51          0.556690     0.542308       0.752829       0:00:47         0:00:03\n",
              "52          0.549737     0.547051       0.751579       0:00:47         0:00:03\n",
              "53          0.553621     0.552584       0.749079       0:00:47         0:00:03\n",
              "54          0.547124     0.541304       0.759079       0:00:47         0:00:03\n",
              "55          0.543946     0.548095       0.750329       0:00:47         0:00:03\n",
              "56          0.550094     0.552856       0.747829       0:00:47         0:00:03\n",
              "57          0.541703     0.540926       0.756579       0:00:47         0:00:03\n",
              "58          0.549401     0.544439       0.754079       0:00:47         0:00:03\n",
              "59          0.548381     0.544996       0.755329       0:00:47         0:00:03\n",
              "60          0.549275     0.544741       0.754079       0:00:47         0:00:03"
            ],
            "text/html": [
              "\n",
              "  <div id=\"df-ab847424-db04-4037-8886-2f1fbcd2b1ec\" class=\"colab-df-container\">\n",
              "    <div>\n",
              "<style scoped>\n",
              "    .dataframe tbody tr th:only-of-type {\n",
              "        vertical-align: middle;\n",
              "    }\n",
              "\n",
              "    .dataframe tbody tr th {\n",
              "        vertical-align: top;\n",
              "    }\n",
              "\n",
              "    .dataframe thead th {\n",
              "        text-align: right;\n",
              "    }\n",
              "</style>\n",
              "<table border=\"1\" class=\"dataframe\">\n",
              "  <thead>\n",
              "    <tr style=\"text-align: right;\">\n",
              "      <th></th>\n",
              "      <th>Training Loss</th>\n",
              "      <th>Valid. Loss</th>\n",
              "      <th>Valid. Accur.</th>\n",
              "      <th>Training Time</th>\n",
              "      <th>Validation Time</th>\n",
              "    </tr>\n",
              "    <tr>\n",
              "      <th>epoch</th>\n",
              "      <th></th>\n",
              "      <th></th>\n",
              "      <th></th>\n",
              "      <th></th>\n",
              "      <th></th>\n",
              "    </tr>\n",
              "  </thead>\n",
              "  <tbody>\n",
              "    <tr>\n",
              "      <th>1</th>\n",
              "      <td>0.695019</td>\n",
              "      <td>0.698337</td>\n",
              "      <td>0.424671</td>\n",
              "      <td>0:00:48</td>\n",
              "      <td>0:00:03</td>\n",
              "    </tr>\n",
              "    <tr>\n",
              "      <th>2</th>\n",
              "      <td>0.685586</td>\n",
              "      <td>0.684029</td>\n",
              "      <td>0.606118</td>\n",
              "      <td>0:00:47</td>\n",
              "      <td>0:00:03</td>\n",
              "    </tr>\n",
              "    <tr>\n",
              "      <th>3</th>\n",
              "      <td>0.673675</td>\n",
              "      <td>0.683935</td>\n",
              "      <td>0.643618</td>\n",
              "      <td>0:00:47</td>\n",
              "      <td>0:00:03</td>\n",
              "    </tr>\n",
              "    <tr>\n",
              "      <th>4</th>\n",
              "      <td>0.673915</td>\n",
              "      <td>0.671289</td>\n",
              "      <td>0.668618</td>\n",
              "      <td>0:00:47</td>\n",
              "      <td>0:00:03</td>\n",
              "    </tr>\n",
              "    <tr>\n",
              "      <th>5</th>\n",
              "      <td>0.665585</td>\n",
              "      <td>0.678414</td>\n",
              "      <td>0.653618</td>\n",
              "      <td>0:00:47</td>\n",
              "      <td>0:00:03</td>\n",
              "    </tr>\n",
              "    <tr>\n",
              "      <th>6</th>\n",
              "      <td>0.667351</td>\n",
              "      <td>0.666535</td>\n",
              "      <td>0.667368</td>\n",
              "      <td>0:00:47</td>\n",
              "      <td>0:00:03</td>\n",
              "    </tr>\n",
              "    <tr>\n",
              "      <th>7</th>\n",
              "      <td>0.662940</td>\n",
              "      <td>0.681636</td>\n",
              "      <td>0.642763</td>\n",
              "      <td>0:00:47</td>\n",
              "      <td>0:00:03</td>\n",
              "    </tr>\n",
              "    <tr>\n",
              "      <th>8</th>\n",
              "      <td>0.657482</td>\n",
              "      <td>0.686821</td>\n",
              "      <td>0.632763</td>\n",
              "      <td>0:00:47</td>\n",
              "      <td>0:00:03</td>\n",
              "    </tr>\n",
              "    <tr>\n",
              "      <th>9</th>\n",
              "      <td>0.655588</td>\n",
              "      <td>0.642164</td>\n",
              "      <td>0.674474</td>\n",
              "      <td>0:00:47</td>\n",
              "      <td>0:00:03</td>\n",
              "    </tr>\n",
              "    <tr>\n",
              "      <th>10</th>\n",
              "      <td>0.653288</td>\n",
              "      <td>0.678962</td>\n",
              "      <td>0.619013</td>\n",
              "      <td>0:00:47</td>\n",
              "      <td>0:00:03</td>\n",
              "    </tr>\n",
              "    <tr>\n",
              "      <th>11</th>\n",
              "      <td>0.648152</td>\n",
              "      <td>0.633119</td>\n",
              "      <td>0.686974</td>\n",
              "      <td>0:00:47</td>\n",
              "      <td>0:00:03</td>\n",
              "    </tr>\n",
              "    <tr>\n",
              "      <th>12</th>\n",
              "      <td>0.643021</td>\n",
              "      <td>0.635091</td>\n",
              "      <td>0.681974</td>\n",
              "      <td>0:00:47</td>\n",
              "      <td>0:00:03</td>\n",
              "    </tr>\n",
              "    <tr>\n",
              "      <th>13</th>\n",
              "      <td>0.638029</td>\n",
              "      <td>0.619688</td>\n",
              "      <td>0.700724</td>\n",
              "      <td>0:00:47</td>\n",
              "      <td>0:00:03</td>\n",
              "    </tr>\n",
              "    <tr>\n",
              "      <th>14</th>\n",
              "      <td>0.633732</td>\n",
              "      <td>0.622614</td>\n",
              "      <td>0.699474</td>\n",
              "      <td>0:00:47</td>\n",
              "      <td>0:00:03</td>\n",
              "    </tr>\n",
              "    <tr>\n",
              "      <th>15</th>\n",
              "      <td>0.633152</td>\n",
              "      <td>0.614087</td>\n",
              "      <td>0.703224</td>\n",
              "      <td>0:00:47</td>\n",
              "      <td>0:00:03</td>\n",
              "    </tr>\n",
              "    <tr>\n",
              "      <th>16</th>\n",
              "      <td>0.629036</td>\n",
              "      <td>0.608162</td>\n",
              "      <td>0.712829</td>\n",
              "      <td>0:00:47</td>\n",
              "      <td>0:00:03</td>\n",
              "    </tr>\n",
              "    <tr>\n",
              "      <th>17</th>\n",
              "      <td>0.628584</td>\n",
              "      <td>0.611411</td>\n",
              "      <td>0.709079</td>\n",
              "      <td>0:00:47</td>\n",
              "      <td>0:00:03</td>\n",
              "    </tr>\n",
              "    <tr>\n",
              "      <th>18</th>\n",
              "      <td>0.620033</td>\n",
              "      <td>0.656585</td>\n",
              "      <td>0.651974</td>\n",
              "      <td>0:00:47</td>\n",
              "      <td>0:00:03</td>\n",
              "    </tr>\n",
              "    <tr>\n",
              "      <th>19</th>\n",
              "      <td>0.611991</td>\n",
              "      <td>0.575729</td>\n",
              "      <td>0.734474</td>\n",
              "      <td>0:00:47</td>\n",
              "      <td>0:00:03</td>\n",
              "    </tr>\n",
              "    <tr>\n",
              "      <th>20</th>\n",
              "      <td>0.615929</td>\n",
              "      <td>0.617794</td>\n",
              "      <td>0.709079</td>\n",
              "      <td>0:00:47</td>\n",
              "      <td>0:00:03</td>\n",
              "    </tr>\n",
              "    <tr>\n",
              "      <th>21</th>\n",
              "      <td>0.611674</td>\n",
              "      <td>0.615758</td>\n",
              "      <td>0.700329</td>\n",
              "      <td>0:00:47</td>\n",
              "      <td>0:00:03</td>\n",
              "    </tr>\n",
              "    <tr>\n",
              "      <th>22</th>\n",
              "      <td>0.606118</td>\n",
              "      <td>0.615704</td>\n",
              "      <td>0.707829</td>\n",
              "      <td>0:00:47</td>\n",
              "      <td>0:00:03</td>\n",
              "    </tr>\n",
              "    <tr>\n",
              "      <th>23</th>\n",
              "      <td>0.606811</td>\n",
              "      <td>0.601920</td>\n",
              "      <td>0.721579</td>\n",
              "      <td>0:00:47</td>\n",
              "      <td>0:00:03</td>\n",
              "    </tr>\n",
              "    <tr>\n",
              "      <th>24</th>\n",
              "      <td>0.603271</td>\n",
              "      <td>0.604109</td>\n",
              "      <td>0.719079</td>\n",
              "      <td>0:00:47</td>\n",
              "      <td>0:00:03</td>\n",
              "    </tr>\n",
              "    <tr>\n",
              "      <th>25</th>\n",
              "      <td>0.605803</td>\n",
              "      <td>0.584397</td>\n",
              "      <td>0.729079</td>\n",
              "      <td>0:00:47</td>\n",
              "      <td>0:00:03</td>\n",
              "    </tr>\n",
              "    <tr>\n",
              "      <th>26</th>\n",
              "      <td>0.601809</td>\n",
              "      <td>0.590846</td>\n",
              "      <td>0.726579</td>\n",
              "      <td>0:00:47</td>\n",
              "      <td>0:00:03</td>\n",
              "    </tr>\n",
              "    <tr>\n",
              "      <th>27</th>\n",
              "      <td>0.595261</td>\n",
              "      <td>0.587824</td>\n",
              "      <td>0.729079</td>\n",
              "      <td>0:00:47</td>\n",
              "      <td>0:00:03</td>\n",
              "    </tr>\n",
              "    <tr>\n",
              "      <th>28</th>\n",
              "      <td>0.592245</td>\n",
              "      <td>0.559795</td>\n",
              "      <td>0.736579</td>\n",
              "      <td>0:00:48</td>\n",
              "      <td>0:00:03</td>\n",
              "    </tr>\n",
              "    <tr>\n",
              "      <th>29</th>\n",
              "      <td>0.588008</td>\n",
              "      <td>0.603440</td>\n",
              "      <td>0.715329</td>\n",
              "      <td>0:00:47</td>\n",
              "      <td>0:00:03</td>\n",
              "    </tr>\n",
              "    <tr>\n",
              "      <th>30</th>\n",
              "      <td>0.588378</td>\n",
              "      <td>0.545280</td>\n",
              "      <td>0.744079</td>\n",
              "      <td>0:00:47</td>\n",
              "      <td>0:00:03</td>\n",
              "    </tr>\n",
              "    <tr>\n",
              "      <th>31</th>\n",
              "      <td>0.585237</td>\n",
              "      <td>0.578331</td>\n",
              "      <td>0.724079</td>\n",
              "      <td>0:00:47</td>\n",
              "      <td>0:00:03</td>\n",
              "    </tr>\n",
              "    <tr>\n",
              "      <th>32</th>\n",
              "      <td>0.580017</td>\n",
              "      <td>0.564894</td>\n",
              "      <td>0.741579</td>\n",
              "      <td>0:00:47</td>\n",
              "      <td>0:00:03</td>\n",
              "    </tr>\n",
              "    <tr>\n",
              "      <th>33</th>\n",
              "      <td>0.585654</td>\n",
              "      <td>0.563207</td>\n",
              "      <td>0.740329</td>\n",
              "      <td>0:00:47</td>\n",
              "      <td>0:00:03</td>\n",
              "    </tr>\n",
              "    <tr>\n",
              "      <th>34</th>\n",
              "      <td>0.584074</td>\n",
              "      <td>0.580944</td>\n",
              "      <td>0.726579</td>\n",
              "      <td>0:00:47</td>\n",
              "      <td>0:00:03</td>\n",
              "    </tr>\n",
              "    <tr>\n",
              "      <th>35</th>\n",
              "      <td>0.573151</td>\n",
              "      <td>0.562772</td>\n",
              "      <td>0.740329</td>\n",
              "      <td>0:00:47</td>\n",
              "      <td>0:00:03</td>\n",
              "    </tr>\n",
              "    <tr>\n",
              "      <th>36</th>\n",
              "      <td>0.571166</td>\n",
              "      <td>0.552157</td>\n",
              "      <td>0.746579</td>\n",
              "      <td>0:00:47</td>\n",
              "      <td>0:00:03</td>\n",
              "    </tr>\n",
              "    <tr>\n",
              "      <th>37</th>\n",
              "      <td>0.571901</td>\n",
              "      <td>0.587128</td>\n",
              "      <td>0.716579</td>\n",
              "      <td>0:00:47</td>\n",
              "      <td>0:00:03</td>\n",
              "    </tr>\n",
              "    <tr>\n",
              "      <th>38</th>\n",
              "      <td>0.571137</td>\n",
              "      <td>0.572853</td>\n",
              "      <td>0.725329</td>\n",
              "      <td>0:00:47</td>\n",
              "      <td>0:00:03</td>\n",
              "    </tr>\n",
              "    <tr>\n",
              "      <th>39</th>\n",
              "      <td>0.567572</td>\n",
              "      <td>0.553769</td>\n",
              "      <td>0.742829</td>\n",
              "      <td>0:00:47</td>\n",
              "      <td>0:00:03</td>\n",
              "    </tr>\n",
              "    <tr>\n",
              "      <th>40</th>\n",
              "      <td>0.569175</td>\n",
              "      <td>0.542584</td>\n",
              "      <td>0.755329</td>\n",
              "      <td>0:00:47</td>\n",
              "      <td>0:00:03</td>\n",
              "    </tr>\n",
              "    <tr>\n",
              "      <th>41</th>\n",
              "      <td>0.562620</td>\n",
              "      <td>0.552091</td>\n",
              "      <td>0.749079</td>\n",
              "      <td>0:00:47</td>\n",
              "      <td>0:00:03</td>\n",
              "    </tr>\n",
              "    <tr>\n",
              "      <th>42</th>\n",
              "      <td>0.561016</td>\n",
              "      <td>0.543177</td>\n",
              "      <td>0.754079</td>\n",
              "      <td>0:00:47</td>\n",
              "      <td>0:00:03</td>\n",
              "    </tr>\n",
              "    <tr>\n",
              "      <th>43</th>\n",
              "      <td>0.562861</td>\n",
              "      <td>0.565789</td>\n",
              "      <td>0.730329</td>\n",
              "      <td>0:00:47</td>\n",
              "      <td>0:00:03</td>\n",
              "    </tr>\n",
              "    <tr>\n",
              "      <th>44</th>\n",
              "      <td>0.561438</td>\n",
              "      <td>0.542021</td>\n",
              "      <td>0.751579</td>\n",
              "      <td>0:00:47</td>\n",
              "      <td>0:00:03</td>\n",
              "    </tr>\n",
              "    <tr>\n",
              "      <th>45</th>\n",
              "      <td>0.563328</td>\n",
              "      <td>0.535364</td>\n",
              "      <td>0.756579</td>\n",
              "      <td>0:00:47</td>\n",
              "      <td>0:00:03</td>\n",
              "    </tr>\n",
              "    <tr>\n",
              "      <th>46</th>\n",
              "      <td>0.557544</td>\n",
              "      <td>0.563903</td>\n",
              "      <td>0.730329</td>\n",
              "      <td>0:00:47</td>\n",
              "      <td>0:00:03</td>\n",
              "    </tr>\n",
              "    <tr>\n",
              "      <th>47</th>\n",
              "      <td>0.555150</td>\n",
              "      <td>0.555067</td>\n",
              "      <td>0.745329</td>\n",
              "      <td>0:00:47</td>\n",
              "      <td>0:00:03</td>\n",
              "    </tr>\n",
              "    <tr>\n",
              "      <th>48</th>\n",
              "      <td>0.551260</td>\n",
              "      <td>0.554658</td>\n",
              "      <td>0.745329</td>\n",
              "      <td>0:00:47</td>\n",
              "      <td>0:00:03</td>\n",
              "    </tr>\n",
              "    <tr>\n",
              "      <th>49</th>\n",
              "      <td>0.556327</td>\n",
              "      <td>0.556381</td>\n",
              "      <td>0.740329</td>\n",
              "      <td>0:00:47</td>\n",
              "      <td>0:00:03</td>\n",
              "    </tr>\n",
              "    <tr>\n",
              "      <th>50</th>\n",
              "      <td>0.556022</td>\n",
              "      <td>0.543276</td>\n",
              "      <td>0.754079</td>\n",
              "      <td>0:00:47</td>\n",
              "      <td>0:00:03</td>\n",
              "    </tr>\n",
              "    <tr>\n",
              "      <th>51</th>\n",
              "      <td>0.556690</td>\n",
              "      <td>0.542308</td>\n",
              "      <td>0.752829</td>\n",
              "      <td>0:00:47</td>\n",
              "      <td>0:00:03</td>\n",
              "    </tr>\n",
              "    <tr>\n",
              "      <th>52</th>\n",
              "      <td>0.549737</td>\n",
              "      <td>0.547051</td>\n",
              "      <td>0.751579</td>\n",
              "      <td>0:00:47</td>\n",
              "      <td>0:00:03</td>\n",
              "    </tr>\n",
              "    <tr>\n",
              "      <th>53</th>\n",
              "      <td>0.553621</td>\n",
              "      <td>0.552584</td>\n",
              "      <td>0.749079</td>\n",
              "      <td>0:00:47</td>\n",
              "      <td>0:00:03</td>\n",
              "    </tr>\n",
              "    <tr>\n",
              "      <th>54</th>\n",
              "      <td>0.547124</td>\n",
              "      <td>0.541304</td>\n",
              "      <td>0.759079</td>\n",
              "      <td>0:00:47</td>\n",
              "      <td>0:00:03</td>\n",
              "    </tr>\n",
              "    <tr>\n",
              "      <th>55</th>\n",
              "      <td>0.543946</td>\n",
              "      <td>0.548095</td>\n",
              "      <td>0.750329</td>\n",
              "      <td>0:00:47</td>\n",
              "      <td>0:00:03</td>\n",
              "    </tr>\n",
              "    <tr>\n",
              "      <th>56</th>\n",
              "      <td>0.550094</td>\n",
              "      <td>0.552856</td>\n",
              "      <td>0.747829</td>\n",
              "      <td>0:00:47</td>\n",
              "      <td>0:00:03</td>\n",
              "    </tr>\n",
              "    <tr>\n",
              "      <th>57</th>\n",
              "      <td>0.541703</td>\n",
              "      <td>0.540926</td>\n",
              "      <td>0.756579</td>\n",
              "      <td>0:00:47</td>\n",
              "      <td>0:00:03</td>\n",
              "    </tr>\n",
              "    <tr>\n",
              "      <th>58</th>\n",
              "      <td>0.549401</td>\n",
              "      <td>0.544439</td>\n",
              "      <td>0.754079</td>\n",
              "      <td>0:00:47</td>\n",
              "      <td>0:00:03</td>\n",
              "    </tr>\n",
              "    <tr>\n",
              "      <th>59</th>\n",
              "      <td>0.548381</td>\n",
              "      <td>0.544996</td>\n",
              "      <td>0.755329</td>\n",
              "      <td>0:00:47</td>\n",
              "      <td>0:00:03</td>\n",
              "    </tr>\n",
              "    <tr>\n",
              "      <th>60</th>\n",
              "      <td>0.549275</td>\n",
              "      <td>0.544741</td>\n",
              "      <td>0.754079</td>\n",
              "      <td>0:00:47</td>\n",
              "      <td>0:00:03</td>\n",
              "    </tr>\n",
              "  </tbody>\n",
              "</table>\n",
              "</div>\n",
              "    <div class=\"colab-df-buttons\">\n",
              "\n",
              "  <div class=\"colab-df-container\">\n",
              "    <button class=\"colab-df-convert\" onclick=\"convertToInteractive('df-ab847424-db04-4037-8886-2f1fbcd2b1ec')\"\n",
              "            title=\"Convert this dataframe to an interactive table.\"\n",
              "            style=\"display:none;\">\n",
              "\n",
              "  <svg xmlns=\"http://www.w3.org/2000/svg\" height=\"24px\" viewBox=\"0 -960 960 960\">\n",
              "    <path d=\"M120-120v-720h720v720H120Zm60-500h600v-160H180v160Zm220 220h160v-160H400v160Zm0 220h160v-160H400v160ZM180-400h160v-160H180v160Zm440 0h160v-160H620v160ZM180-180h160v-160H180v160Zm440 0h160v-160H620v160Z\"/>\n",
              "  </svg>\n",
              "    </button>\n",
              "\n",
              "  <style>\n",
              "    .colab-df-container {\n",
              "      display:flex;\n",
              "      gap: 12px;\n",
              "    }\n",
              "\n",
              "    .colab-df-convert {\n",
              "      background-color: #E8F0FE;\n",
              "      border: none;\n",
              "      border-radius: 50%;\n",
              "      cursor: pointer;\n",
              "      display: none;\n",
              "      fill: #1967D2;\n",
              "      height: 32px;\n",
              "      padding: 0 0 0 0;\n",
              "      width: 32px;\n",
              "    }\n",
              "\n",
              "    .colab-df-convert:hover {\n",
              "      background-color: #E2EBFA;\n",
              "      box-shadow: 0px 1px 2px rgba(60, 64, 67, 0.3), 0px 1px 3px 1px rgba(60, 64, 67, 0.15);\n",
              "      fill: #174EA6;\n",
              "    }\n",
              "\n",
              "    .colab-df-buttons div {\n",
              "      margin-bottom: 4px;\n",
              "    }\n",
              "\n",
              "    [theme=dark] .colab-df-convert {\n",
              "      background-color: #3B4455;\n",
              "      fill: #D2E3FC;\n",
              "    }\n",
              "\n",
              "    [theme=dark] .colab-df-convert:hover {\n",
              "      background-color: #434B5C;\n",
              "      box-shadow: 0px 1px 3px 1px rgba(0, 0, 0, 0.15);\n",
              "      filter: drop-shadow(0px 1px 2px rgba(0, 0, 0, 0.3));\n",
              "      fill: #FFFFFF;\n",
              "    }\n",
              "  </style>\n",
              "\n",
              "    <script>\n",
              "      const buttonEl =\n",
              "        document.querySelector('#df-ab847424-db04-4037-8886-2f1fbcd2b1ec button.colab-df-convert');\n",
              "      buttonEl.style.display =\n",
              "        google.colab.kernel.accessAllowed ? 'block' : 'none';\n",
              "\n",
              "      async function convertToInteractive(key) {\n",
              "        const element = document.querySelector('#df-ab847424-db04-4037-8886-2f1fbcd2b1ec');\n",
              "        const dataTable =\n",
              "          await google.colab.kernel.invokeFunction('convertToInteractive',\n",
              "                                                    [key], {});\n",
              "        if (!dataTable) return;\n",
              "\n",
              "        const docLinkHtml = 'Like what you see? Visit the ' +\n",
              "          '<a target=\"_blank\" href=https://colab.research.google.com/notebooks/data_table.ipynb>data table notebook</a>'\n",
              "          + ' to learn more about interactive tables.';\n",
              "        element.innerHTML = '';\n",
              "        dataTable['output_type'] = 'display_data';\n",
              "        await google.colab.output.renderOutput(dataTable, element);\n",
              "        const docLink = document.createElement('div');\n",
              "        docLink.innerHTML = docLinkHtml;\n",
              "        element.appendChild(docLink);\n",
              "      }\n",
              "    </script>\n",
              "  </div>\n",
              "\n",
              "\n",
              "<div id=\"df-bbd19f5d-9190-4903-90f4-da1f0bb738da\">\n",
              "  <button class=\"colab-df-quickchart\" onclick=\"quickchart('df-bbd19f5d-9190-4903-90f4-da1f0bb738da')\"\n",
              "            title=\"Suggest charts\"\n",
              "            style=\"display:none;\">\n",
              "\n",
              "<svg xmlns=\"http://www.w3.org/2000/svg\" height=\"24px\"viewBox=\"0 0 24 24\"\n",
              "     width=\"24px\">\n",
              "    <g>\n",
              "        <path d=\"M19 3H5c-1.1 0-2 .9-2 2v14c0 1.1.9 2 2 2h14c1.1 0 2-.9 2-2V5c0-1.1-.9-2-2-2zM9 17H7v-7h2v7zm4 0h-2V7h2v10zm4 0h-2v-4h2v4z\"/>\n",
              "    </g>\n",
              "</svg>\n",
              "  </button>\n",
              "\n",
              "<style>\n",
              "  .colab-df-quickchart {\n",
              "      --bg-color: #E8F0FE;\n",
              "      --fill-color: #1967D2;\n",
              "      --hover-bg-color: #E2EBFA;\n",
              "      --hover-fill-color: #174EA6;\n",
              "      --disabled-fill-color: #AAA;\n",
              "      --disabled-bg-color: #DDD;\n",
              "  }\n",
              "\n",
              "  [theme=dark] .colab-df-quickchart {\n",
              "      --bg-color: #3B4455;\n",
              "      --fill-color: #D2E3FC;\n",
              "      --hover-bg-color: #434B5C;\n",
              "      --hover-fill-color: #FFFFFF;\n",
              "      --disabled-bg-color: #3B4455;\n",
              "      --disabled-fill-color: #666;\n",
              "  }\n",
              "\n",
              "  .colab-df-quickchart {\n",
              "    background-color: var(--bg-color);\n",
              "    border: none;\n",
              "    border-radius: 50%;\n",
              "    cursor: pointer;\n",
              "    display: none;\n",
              "    fill: var(--fill-color);\n",
              "    height: 32px;\n",
              "    padding: 0;\n",
              "    width: 32px;\n",
              "  }\n",
              "\n",
              "  .colab-df-quickchart:hover {\n",
              "    background-color: var(--hover-bg-color);\n",
              "    box-shadow: 0 1px 2px rgba(60, 64, 67, 0.3), 0 1px 3px 1px rgba(60, 64, 67, 0.15);\n",
              "    fill: var(--button-hover-fill-color);\n",
              "  }\n",
              "\n",
              "  .colab-df-quickchart-complete:disabled,\n",
              "  .colab-df-quickchart-complete:disabled:hover {\n",
              "    background-color: var(--disabled-bg-color);\n",
              "    fill: var(--disabled-fill-color);\n",
              "    box-shadow: none;\n",
              "  }\n",
              "\n",
              "  .colab-df-spinner {\n",
              "    border: 2px solid var(--fill-color);\n",
              "    border-color: transparent;\n",
              "    border-bottom-color: var(--fill-color);\n",
              "    animation:\n",
              "      spin 1s steps(1) infinite;\n",
              "  }\n",
              "\n",
              "  @keyframes spin {\n",
              "    0% {\n",
              "      border-color: transparent;\n",
              "      border-bottom-color: var(--fill-color);\n",
              "      border-left-color: var(--fill-color);\n",
              "    }\n",
              "    20% {\n",
              "      border-color: transparent;\n",
              "      border-left-color: var(--fill-color);\n",
              "      border-top-color: var(--fill-color);\n",
              "    }\n",
              "    30% {\n",
              "      border-color: transparent;\n",
              "      border-left-color: var(--fill-color);\n",
              "      border-top-color: var(--fill-color);\n",
              "      border-right-color: var(--fill-color);\n",
              "    }\n",
              "    40% {\n",
              "      border-color: transparent;\n",
              "      border-right-color: var(--fill-color);\n",
              "      border-top-color: var(--fill-color);\n",
              "    }\n",
              "    60% {\n",
              "      border-color: transparent;\n",
              "      border-right-color: var(--fill-color);\n",
              "    }\n",
              "    80% {\n",
              "      border-color: transparent;\n",
              "      border-right-color: var(--fill-color);\n",
              "      border-bottom-color: var(--fill-color);\n",
              "    }\n",
              "    90% {\n",
              "      border-color: transparent;\n",
              "      border-bottom-color: var(--fill-color);\n",
              "    }\n",
              "  }\n",
              "</style>\n",
              "\n",
              "  <script>\n",
              "    async function quickchart(key) {\n",
              "      const quickchartButtonEl =\n",
              "        document.querySelector('#' + key + ' button');\n",
              "      quickchartButtonEl.disabled = true;  // To prevent multiple clicks.\n",
              "      quickchartButtonEl.classList.add('colab-df-spinner');\n",
              "      try {\n",
              "        const charts = await google.colab.kernel.invokeFunction(\n",
              "            'suggestCharts', [key], {});\n",
              "      } catch (error) {\n",
              "        console.error('Error during call to suggestCharts:', error);\n",
              "      }\n",
              "      quickchartButtonEl.classList.remove('colab-df-spinner');\n",
              "      quickchartButtonEl.classList.add('colab-df-quickchart-complete');\n",
              "    }\n",
              "    (() => {\n",
              "      let quickchartButtonEl =\n",
              "        document.querySelector('#df-bbd19f5d-9190-4903-90f4-da1f0bb738da button');\n",
              "      quickchartButtonEl.style.display =\n",
              "        google.colab.kernel.accessAllowed ? 'block' : 'none';\n",
              "    })();\n",
              "  </script>\n",
              "</div>\n",
              "    </div>\n",
              "  </div>\n"
            ],
            "application/vnd.google.colaboratory.intrinsic+json": {
              "type": "dataframe",
              "variable_name": "df_stats",
              "summary": "{\n  \"name\": \"df_stats\",\n  \"rows\": 60,\n  \"fields\": [\n    {\n      \"column\": \"epoch\",\n      \"properties\": {\n        \"dtype\": \"number\",\n        \"std\": 17,\n        \"min\": 1,\n        \"max\": 60,\n        \"num_unique_values\": 60,\n        \"samples\": [\n          1,\n          6,\n          37\n        ],\n        \"semantic_type\": \"\",\n        \"description\": \"\"\n      }\n    },\n    {\n      \"column\": \"Training Loss\",\n      \"properties\": {\n        \"dtype\": \"number\",\n        \"std\": 0.043044450339180966,\n        \"min\": 0.5417027694953455,\n        \"max\": 0.6950193858361459,\n        \"num_unique_values\": 60,\n        \"samples\": [\n          0.6950193858361459,\n          0.6673511272078162,\n          0.5719010494313799\n        ],\n        \"semantic_type\": \"\",\n        \"description\": \"\"\n      }\n    },\n    {\n      \"column\": \"Valid. Loss\",\n      \"properties\": {\n        \"dtype\": \"number\",\n        \"std\": 0.04844553031717767,\n        \"min\": 0.535364202260971,\n        \"max\": 0.6983371877670288,\n        \"num_unique_values\": 60,\n        \"samples\": [\n          0.6983371877670288,\n          0.6665349531173707,\n          0.5871279621124268\n        ],\n        \"semantic_type\": \"\",\n        \"description\": \"\"\n      }\n    },\n    {\n      \"column\": \"Valid. Accur.\",\n      \"properties\": {\n        \"dtype\": \"number\",\n        \"std\": 0.05394739588998673,\n        \"min\": 0.42467105263157895,\n        \"max\": 0.7590789473684211,\n        \"num_unique_values\": 46,\n        \"samples\": [\n          0.7515789473684211,\n          0.7365789473684211,\n          0.7153289473684211\n        ],\n        \"semantic_type\": \"\",\n        \"description\": \"\"\n      }\n    },\n    {\n      \"column\": \"Training Time\",\n      \"properties\": {\n        \"dtype\": \"object\",\n        \"num_unique_values\": 2,\n        \"samples\": [\n          \"0:00:47\",\n          \"0:00:48\"\n        ],\n        \"semantic_type\": \"\",\n        \"description\": \"\"\n      }\n    },\n    {\n      \"column\": \"Validation Time\",\n      \"properties\": {\n        \"dtype\": \"object\",\n        \"num_unique_values\": 1,\n        \"samples\": [\n          \"0:00:03\"\n        ],\n        \"semantic_type\": \"\",\n        \"description\": \"\"\n      }\n    }\n  ]\n}"
            }
          },
          "metadata": {},
          "execution_count": 32
        }
      ]
    },
    {
      "cell_type": "code",
      "source": [
        "import matplotlib.pyplot as plt\n",
        "%matplotlib inline\n",
        "\n",
        "import seaborn as sns\n",
        "\n",
        "sns.set(style='darkgrid')\n",
        "\n",
        "sns.set(font_scale=1.5)\n",
        "plt.rcParams[\"figure.figsize\"] = (12,6)\n",
        "\n",
        "plt.plot(df_stats['Training Loss'], 'b-o', label=\"Training\")\n",
        "plt.plot(df_stats['Valid. Loss'], 'g-o', label=\"Validation\")\n",
        "\n",
        "plt.title(\"Training & Validation Loss\")\n",
        "plt.xlabel(\"Epoch\")\n",
        "plt.ylabel(\"Loss\")\n",
        "plt.legend()\n",
        "plt.xticks([1, 2, 3, 4])\n",
        "\n",
        "plt.show()"
      ],
      "metadata": {
        "id": "Y0sOjG84okPP",
        "colab": {
          "base_uri": "https://localhost:8080/",
          "height": 553
        },
        "outputId": "b47cc7b5-a914-4563-d0b3-5efd5ddcc0e3"
      },
      "execution_count": 33,
      "outputs": [
        {
          "output_type": "display_data",
          "data": {
            "text/plain": [
              "<Figure size 1200x600 with 1 Axes>"
            ],
            "image/png": "[encoded data removed]"
          },
          "metadata": {}
        }
      ]
    },
    {
      "cell_type": "markdown",
      "source": [
        "### 2.3  Evaluating my fine-tuned model"
      ],
      "metadata": {
        "id": "uA0ZR-xwyJA1"
      }
    },
    {
      "cell_type": "code",
      "source": [
        "# Loading the dataset\n",
        "df = pd.read_csv('in_domain_dev.csv')\n",
        "print(df.head())"
      ],
      "metadata": {
        "id": "vzPrH-0FyxAR",
        "colab": {
          "base_uri": "https://localhost:8080/"
        },
        "outputId": "4ebd0b70-dd1e-45b2-c7ab-9e3fd6715f14"
      },
      "execution_count": 34,
      "outputs": [
        {
          "output_type": "stream",
          "name": "stdout",
          "text": [
            "   id                                           sentence  acceptable  \\\n",
            "0   0                            Иван вчера не позвонил.           1   \n",
            "1   1  У многих туристов, кто посещают Кемер весной, ...           0   \n",
            "2   2  Лесные запахи набегали волнами; в них смешалос...           1   \n",
            "3   3  Вчера президент имел неофициальную беседу с ан...           1   \n",
            "4   4  Коллега так и не признал вину за катастрофу пе...           1   \n",
            "\n",
            "  error_type detailed_source  \n",
            "0          0   Paducheva2013  \n",
            "1     Syntax            USE8  \n",
            "2          0            USE5  \n",
            "3          0    Seliverstova  \n",
            "4          0       Testelets  \n"
          ]
        }
      ]
    },
    {
      "cell_type": "code",
      "source": [
        "import pandas as pd\n",
        "\n",
        "# Reporting the number of sentences.\n",
        "print('Number of test sentences: {:,}\\n'.format(df.shape[0]))\n",
        "\n",
        "# Creating sentence and label lists\n",
        "sentences = df.sentence.values\n",
        "labels = df.acceptable.values\n",
        "\n",
        "# Tokenizing all of the sentences and map the tokens to thier word IDs.\n",
        "input_ids = []\n",
        "attention_masks = []\n",
        "\n",
        "for sent in sentences:\n",
        "    encoded_dict = tokenizer.encode_plus(\n",
        "                        sent,                      # Sentence to encode.\n",
        "                        add_special_tokens = True, # Add '[CLS]' and '[SEP]'\n",
        "                        max_length = 64,           # Pad & truncate all sentences.\n",
        "                        pad_to_max_length = True,\n",
        "                        return_attention_mask = True,   # Construct attn. masks.\n",
        "                        return_tensors = 'pt',     # Return pytorch tensors.\n",
        "                   )\n",
        "\n",
        "    # Add the encoded sentence to the list.\n",
        "    input_ids.append(encoded_dict['input_ids'])\n",
        "\n",
        "    # And its attention mask (simply differentiates padding from non-padding).\n",
        "    attention_masks.append(encoded_dict['attention_mask'])\n",
        "\n",
        "# Convert the lists into tensors.\n",
        "input_ids = torch.cat(input_ids, dim=0)\n",
        "attention_masks = torch.cat(attention_masks, dim=0)\n",
        "labels = torch.tensor(labels)\n",
        "\n",
        "# Set the batch size.\n",
        "batch_size = 32\n",
        "\n",
        "# Create the DataLoader.\n",
        "prediction_data = TensorDataset(input_ids, attention_masks, labels)\n",
        "prediction_sampler = SequentialSampler(prediction_data)\n",
        "prediction_dataloader = DataLoader(prediction_data, sampler=prediction_sampler, batch_size=batch_size)"
      ],
      "metadata": {
        "id": "RdPE_02IokK5",
        "colab": {
          "base_uri": "https://localhost:8080/"
        },
        "outputId": "a5b6f39d-191d-4bf4-fd21-e94bc1a571d9"
      },
      "execution_count": 35,
      "outputs": [
        {
          "output_type": "stream",
          "name": "stdout",
          "text": [
            "Number of test sentences: 983\n",
            "\n"
          ]
        },
        {
          "output_type": "stream",
          "name": "stderr",
          "text": [
            "/usr/local/lib/python3.10/dist-packages/transformers/tokenization_utils_base.py:2834: FutureWarning: The `pad_to_max_length` argument is deprecated and will be removed in a future version, use `padding=True` or `padding='longest'` to pad to the longest sequence in the batch, or use `padding='max_length'` to pad to a max length. In this case, you can give a specific length with `max_length` (e.g. `max_length=45`) or leave max_length to None to pad to the maximal input size of the model (e.g. 512 for Bert).\n",
            "  warnings.warn(\n"
          ]
        }
      ]
    },
    {
      "cell_type": "code",
      "source": [
        "# Prediction on test set\n",
        "\n",
        "print('Predicting labels for {:,} test sentences...'.format(len(input_ids)))\n",
        "\n",
        "# Put model in evaluation mode\n",
        "model.eval()\n",
        "\n",
        "# Tracking variables\n",
        "predictions , true_labels = [], []\n",
        "\n",
        "# Predict\n",
        "for batch in prediction_dataloader:\n",
        "  # Add batch to GPU\n",
        "  batch = tuple(t.to(device) for t in batch)\n",
        "\n",
        "  # Unpack the inputs from our dataloader\n",
        "  b_input_ids, b_input_mask, b_labels = batch\n",
        "\n",
        "  # Telling the model not to compute or store gradients, saving memory and\n",
        "  # speeding up prediction\n",
        "  with torch.no_grad():\n",
        "      # Forward pass, calculate logit predictions\n",
        "      outputs = model(b_input_ids, token_type_ids=None,\n",
        "                      attention_mask=b_input_mask)\n",
        "\n",
        "  logits = outputs[0]\n",
        "\n",
        "  # Move logits and labels to CPU\n",
        "  logits = logits.detach().cpu().numpy()\n",
        "  label_ids = b_labels.to('cpu').numpy()\n",
        "\n",
        "  # Store predictions and true labels\n",
        "  predictions.append(logits)\n",
        "  true_labels.append(label_ids)\n",
        "\n",
        "print('    DONE.')"
      ],
      "metadata": {
        "id": "ws6Cv3LDokHU",
        "colab": {
          "base_uri": "https://localhost:8080/"
        },
        "outputId": "4846e61e-bb34-4ebe-92f0-906df48b1c3e"
      },
      "execution_count": 36,
      "outputs": [
        {
          "output_type": "stream",
          "name": "stdout",
          "text": [
            "Predicting labels for 983 test sentences...\n",
            "    DONE.\n"
          ]
        }
      ]
    },
    {
      "cell_type": "code",
      "source": [
        "print('Positive samples: %d of %d (%.2f%%)' % (df.acceptable.sum(), len(df.acceptable), (df.acceptable.sum() / len(df.acceptable) * 100.0)))"
      ],
      "metadata": {
        "id": "ZJ9bsTVlokAm",
        "colab": {
          "base_uri": "https://localhost:8080/"
        },
        "outputId": "88f82f60-0a9c-4c22-ca12-b7b8dc1fa878"
      },
      "execution_count": 37,
      "outputs": [
        {
          "output_type": "stream",
          "name": "stdout",
          "text": [
            "Positive samples: 733 of 983 (74.57%)\n"
          ]
        }
      ]
    },
    {
      "cell_type": "code",
      "source": [
        "from sklearn.metrics import matthews_corrcoef\n",
        "\n",
        "matthews_set = []\n",
        "\n",
        "# Evaluating each test batch using Matthew's correlation coefficient\n",
        "print('Calculating Matthews Corr. Coef. for each batch...')\n",
        "\n",
        "for i in range(len(true_labels)):\n",
        "\n",
        "  # The predictions for this batch are a 2-column ndarray (one column for \"0\"\n",
        "  # and one column for \"1\"). Pick the label with the highest value and turn this\n",
        "  # in to a list of 0s and 1s.\n",
        "  pred_labels_i = np.argmax(predictions[i], axis=1).flatten()\n",
        "\n",
        "  # Calculating and store the coef for this batch.\n",
        "  matthews = matthews_corrcoef(true_labels[i], pred_labels_i)"
      ],
      "metadata": {
        "id": "7laSGjJezZoQ",
        "colab": {
          "base_uri": "https://localhost:8080/"
        },
        "outputId": "34910e42-c400-4388-bd6b-20322b7ed613"
      },
      "execution_count": 38,
      "outputs": [
        {
          "output_type": "stream",
          "name": "stdout",
          "text": [
            "Calculating Matthews Corr. Coef. for each batch...\n"
          ]
        }
      ]
    },
    {
      "cell_type": "code",
      "source": [
        "# Combine the results across all batches.\n",
        "flat_predictions = np.concatenate(predictions, axis=0)\n",
        "\n",
        "# For each sample, pick the label (0 or 1) with the higher score.\n",
        "flat_predictions = np.argmax(flat_predictions, axis=1).flatten()\n",
        "\n",
        "# Combine the correct labels for each batch into a single list.\n",
        "flat_true_labels = np.concatenate(true_labels, axis=0)\n",
        "\n",
        "# Calculate the MCC\n",
        "mcc = matthews_corrcoef(flat_true_labels, flat_predictions)\n",
        "\n",
        "print('Total MCC: %.3f' % mcc)"
      ],
      "metadata": {
        "id": "A--w_wj0zZlJ",
        "colab": {
          "base_uri": "https://localhost:8080/"
        },
        "outputId": "ba440ce3-a109-4f36-db93-8224d12cb74b"
      },
      "execution_count": 39,
      "outputs": [
        {
          "output_type": "stream",
          "name": "stdout",
          "text": [
            "Total MCC: 0.324\n"
          ]
        }
      ]
    },
    {
      "cell_type": "code",
      "source": [],
      "metadata": {
        "id": "MQ1jYgWMTQZ5"
      },
      "execution_count": null,
      "outputs": []
    },
    {
      "cell_type": "code",
      "source": [
        "from sklearn.metrics import accuracy_score\n",
        "\n",
        "accuracy = accuracy_score(flat_true_labels, flat_predictions)\n",
        "print(f'Accuracy: {accuracy:.3f}')"
      ],
      "metadata": {
        "id": "zD-4xVNwzZiP",
        "colab": {
          "base_uri": "https://localhost:8080/"
        },
        "outputId": "8bffed1a-02b3-42f6-d0fe-539ee00edaf2"
      },
      "execution_count": 40,
      "outputs": [
        {
          "output_type": "stream",
          "name": "stdout",
          "text": [
            "Accuracy: 0.743\n"
          ]
        }
      ]
    },
    {
      "cell_type": "code",
      "source": [
        "from collections import Counter\n",
        "\n",
        "print(\"True label distribution:\", Counter(flat_true_labels))\n",
        "print(\"Predicted label distribution:\", Counter(flat_predictions))\n"
      ],
      "metadata": {
        "id": "L4c7l_pvTYyx",
        "colab": {
          "base_uri": "https://localhost:8080/"
        },
        "outputId": "e96275b9-4604-4b8b-f304-2a5df5a6bec0"
      },
      "execution_count": 41,
      "outputs": [
        {
          "output_type": "stream",
          "name": "stdout",
          "text": [
            "True label distribution: Counter({1: 733, 0: 250})\n",
            "Predicted label distribution: Counter({1: 730, 0: 253})\n"
          ]
        }
      ]
    },
    {
      "cell_type": "code",
      "source": [
        "from sklearn.metrics import classification_report, confusion_matrix\n",
        "\n",
        "print(\"Classification report:\\n\", classification_report(flat_true_labels, flat_predictions))\n",
        "print(\"Confusion matrix:\\n\", confusion_matrix(flat_true_labels, flat_predictions))\n"
      ],
      "metadata": {
        "id": "TGezoc_aThw_",
        "colab": {
          "base_uri": "https://localhost:8080/"
        },
        "outputId": "883c319c-ed93-4671-af04-2a82e6742ee4"
      },
      "execution_count": 42,
      "outputs": [
        {
          "output_type": "stream",
          "name": "stdout",
          "text": [
            "Classification report:\n",
            "               precision    recall  f1-score   support\n",
            "\n",
            "           0       0.49      0.50      0.50       250\n",
            "           1       0.83      0.83      0.83       733\n",
            "\n",
            "    accuracy                           0.74       983\n",
            "   macro avg       0.66      0.66      0.66       983\n",
            "weighted avg       0.74      0.74      0.74       983\n",
            "\n",
            "Confusion matrix:\n",
            " [[125 125]\n",
            " [128 605]]\n"
          ]
        }
      ]
    },
    {
      "cell_type": "markdown",
      "source": [
        "\n",
        "#**Logging with MLflow**"
      ],
      "metadata": {
        "id": "kTvs3yOD0x4C"
      }
    },
    {
      "cell_type": "code",
      "source": [
        "import mlflow\n",
        "\n",
        "# Creating a new experiment\n",
        "experiment_name = \"LoRA_parameters_Experiment\"\n",
        "mlflow.create_experiment(experiment_name)\n",
        "\n",
        "mlflow.set_experiment(experiment_name)\n",
        "\n",
        "# Now start the training and logging\n",
        "with mlflow.start_run(run_name=\"LoRA Config Experiment\"):\n",
        "    # Log LoRA configuration parameters\n",
        "    mlflow.log_param(\"task_type\", \"SEQ_CLS\")\n",
        "    mlflow.log_param(\"inference_mode\", False)\n",
        "    mlflow.log_param(\"r\", 16)\n",
        "    mlflow.log_param(\"lora_alpha\", 32)\n",
        "    mlflow.log_param(\"lora_dropout\", 0.2)\n",
        "    mlflow.log_param(\"target_modules\", [\"query\", \"value\"])\n",
        "\n",
        "    mlflow.log_metric(\"accuracy\", accuracy)  # Accuracy metric\n",
        "    mlflow.log_metric(\"total_mcc\", mcc)  # MCC metric\n",
        "\n",
        "    print(f\"Logged metrics: Accuracy = {accuracy:.3f}, Total MCC = {mcc:.3f}\")\n"
      ],
      "metadata": {
        "colab": {
          "base_uri": "https://localhost:8080/"
        },
        "id": "dSmeqJhRENBE",
        "outputId": "f3ca16a7-a8e5-45fc-c461-1519acb47ffa"
      },
      "execution_count": 43,
      "outputs": [
        {
          "output_type": "stream",
          "name": "stdout",
          "text": [
            "Logged metrics: Accuracy = 0.743, Total MCC = 0.324\n"
          ]
        }
      ]
    }
  ]
}